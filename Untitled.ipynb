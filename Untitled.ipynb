{
 "cells": [
  {
   "cell_type": "code",
   "execution_count": 16,
   "id": "d15c6516-7a41-4015-aa8e-f38df17de273",
   "metadata": {},
   "outputs": [],
   "source": [
    "import pandas as pd\n",
    "import numpy as np\n",
    "from collections import Counter\n",
    "import lightgbm as lgb\n",
    "from sklearn.model_selection import train_test_split\n",
    "from sklearn.metrics import mean_absolute_error\n",
    "import matplotlib.pyplot as plt\n",
    "from catboost import CatBoostRegressor, Pool\n",
    "from xgboost import XGBRegressor\n",
    "import re\n",
    "from sklearn.cluster import KMeans\n",
    "from sklearn.preprocessing import OneHotEncoder\n",
    "from sklearn.preprocessing import StandardScaler\n",
    "import string\n",
    "from scipy.stats import entropy\n",
    "from scipy.optimize import fsolve\n",
    "import optuna"
   ]
  },
  {
   "cell_type": "code",
   "execution_count": 2,
   "id": "8a0e553e-bba1-4c9d-a22c-9193e4bba36f",
   "metadata": {},
   "outputs": [],
   "source": [
    "import torch\n",
    "import torch.nn as nn\n",
    "import torch.optim as optim\n",
    "from torch.utils.data import Dataset, DataLoader"
   ]
  },
  {
   "cell_type": "code",
   "execution_count": 3,
   "id": "359957a4-a1b7-42ba-9432-f74b898c1886",
   "metadata": {},
   "outputs": [],
   "source": [
    "REGION_CODES = {\n",
    "    \"Republic of Adygea\": [\"01\"],\n",
    "    \"Altai Republic\": [\"04\"],\n",
    "    \"Republic of Bashkortostan\": [\"02\", \"102\", \"702\"],\n",
    "    \"Republic of Buryatia\": [\"03\"],\n",
    "    \"Republic of Dagestan\": [\"05\"],\n",
    "    \"Donetsk People's Republic\": [\"80\", \"180\"],\n",
    "    \"Republic of Ingushetia\": [\"06\"],\n",
    "    \"Kabardino-Balkarian Republic\": [\"07\"],\n",
    "    \"Republic of Kalmykia\": [\"08\"],\n",
    "    \"Karachay-Cherkess Republic\": [\"09\"],\n",
    "    \"Republic of Karelia\": [\"10\"],\n",
    "    \"Komi Republic\": [\"11\"],\n",
    "    \"Republic of Crimea\": [\"82\"],\n",
    "    \"Luhansk People's Republic\": [\"81\", \"181\"],\n",
    "    \"Republic of Mari El\": [\"12\"],\n",
    "    \"Republic of Mordovia\": [\"13\", \"113\"],\n",
    "    \"Sakha Republic\": [\"14\"],\n",
    "    \"Republic of North Ossetia\": [\"15\"],\n",
    "    \"Republic of Tatarstan\": [\"16\", \"116\", \"716\"],\n",
    "    \"Republic of Tyva (Tuva)\": [\"17\"],\n",
    "    \"Udmurt Republic\": [\"18\"],\n",
    "    \"Republic of Khakassia\": [\"19\"],\n",
    "    \"Chechen Republic\": [\"20\", \"95\"],\n",
    "    \"Chuvash Republic\": [\"21\", \"121\"],\n",
    "    \"Altai Krai\": [\"22\", \"122\"],\n",
    "    \"Zabaykalsky Krai\": [\"75\"],\n",
    "    \"Kamchatka Krai\": [\"41\"],\n",
    "    \"Krasnodar Krai\": [\"23\", \"93\", \"123\", \"193\", \"323\"],\n",
    "    \"Krasnoyarsk Krai\": [\"24\", \"84\", \"88\", \"124\"],\n",
    "    \"Perm Krai\": [\"59\", \"81\", \"159\"],\n",
    "    \"Primorsky Krai\": [\"25\", \"125\"],\n",
    "    \"Stavropol Krai\": [\"26\", \"126\"],\n",
    "    \"Khabarovsk Krai\": [\"27\"],\n",
    "    \"Amur Oblast\": [\"28\"],\n",
    "    \"Arkhangelsk Oblast\": [\"29\"],\n",
    "    \"Astrakhan Oblast\": [\"30\", \"130\"],\n",
    "    \"Belgorod Oblast\": [\"31\"],\n",
    "    \"Bryansk Oblast\": [\"32\"],\n",
    "    \"Vladimir Oblast\": [\"33\"],\n",
    "    \"Volgograd Oblast\": [\"34\", \"134\"],\n",
    "    \"Vologda Oblast\": [\"35\"],\n",
    "    \"Voronezh Oblast\": [\"36\", \"136\"],\n",
    "    \"Zaporizhzhia Oblast\": [\"85\", \"185\"],\n",
    "    \"Ivanovo Oblast\": [\"37\"],\n",
    "    \"Irkutsk Oblast\": [\"38\", \"85\", \"138\"],\n",
    "    \"Kaliningrad Oblast\": [\"39\", \"91\"],\n",
    "    \"Kaluga Oblast\": [\"40\"],\n",
    "    \"Kemerovo Oblast\": [\"42\", \"142\"],\n",
    "    \"Kirov Oblast\": [\"43\"],\n",
    "    \"Kostroma Oblast\": [\"44\"],\n",
    "    \"Kurgan Oblast\": [\"45\"],\n",
    "    \"Kursk Oblast\": [\"46\"],\n",
    "    \"Leningrad Oblast\": [\"47\", \"147\"],\n",
    "    \"Lipetsk Oblast\": [\"48\"],\n",
    "    \"Magadan Oblast\": [\"49\"],\n",
    "    \"Moscow Oblast\": [\"50\", \"90\", \"150\", \"190\", \"250\", \"550\", \"750\", \"790\"],\n",
    "    \"Murmansk Oblast\": [\"51\"],\n",
    "    \"Nizhny Novgorod Oblast\": [\"52\", \"152\", \"252\"],\n",
    "    \"Novgorod Oblast\": [\"53\"],\n",
    "    \"Novosibirsk Oblast\": [\"54\", \"154\", \"754\"],\n",
    "    \"Omsk Oblast\": [\"55\", \"155\"],\n",
    "    \"Orenburg Oblast\": [\"56\", \"156\"],\n",
    "    \"Oryol Oblast\": [\"57\"],\n",
    "    \"Penza Oblast\": [\"58\", \"158\"],\n",
    "    \"Pskov Oblast\": [\"60\"],\n",
    "    \"Rostov Oblast\": [\"61\", \"161\", \"761\"],\n",
    "    \"Ryazan Oblast\": [\"62\"],\n",
    "    \"Samara Oblast\": [\"63\", \"163\", \"763\"],\n",
    "    \"Saratov Oblast\": [\"64\", \"164\"],\n",
    "    \"Sakhalin Oblast\": [\"65\"],\n",
    "    \"Sverdlovsk Oblast\": [\"66\", \"96\", \"196\"],\n",
    "    \"Smolensk Oblast\": [\"67\"],\n",
    "    \"Tambov Oblast\": [\"68\"],\n",
    "    \"Tver Oblast\": [\"69\"],\n",
    "    \"Tomsk Oblast\": [\"70\"],\n",
    "    \"Tula Oblast\": [\"71\"],\n",
    "    \"Tyumen Oblast\": [\"72\", \"172\"],\n",
    "    \"Ulyanovsk Oblast\": [\"73\", \"173\"],\n",
    "    \"Kherson Oblast\": [\"84\", \"184\"],\n",
    "    \"Chelyabinsk Oblast\": [\"74\", \"174\", \"774\"],\n",
    "    \"Yaroslavl Oblast\": [\"76\"],\n",
    "    \"Moscow\": [\"77\", \"97\", \"99\", \"177\", \"197\", \"199\", \"777\", \"797\", \"799\", \"977\"],\n",
    "    \"Saint Petersburg\": [\"78\", \"98\", \"178\", \"198\"],\n",
    "    \"Sevastopol\": [\"92\"],\n",
    "    \"Jewish Autonomous Oblast\": [\"79\"],\n",
    "    \"Nenets Autonomous Okrug\": [\"83\"],\n",
    "    \"Khanty-Mansi Autonomous Okrug\": [\"86\", \"186\"],\n",
    "    \"Chukotka Autonomous Okrug\": [\"87\"],\n",
    "    \"Yamalo-Nenets Autonomous Okrug\": [\"89\"],\n",
    "    \"Baikonur\": [\"94\"],\n",
    "    \"Occupational Administration of Kharkiv Oblast\": [\"188\"],\n",
    "}"
   ]
  },
  {
   "cell_type": "code",
   "execution_count": 4,
   "id": "c96a0525-a0c9-40cf-a9a2-707f2ae43050",
   "metadata": {},
   "outputs": [],
   "source": [
    "# ((letters, numbers range (from, to), region code), is it forbidden to buy (bool), do they have an advantage on the road (bool), level of significance (author's opinion))\n",
    "GOVERNMENT_CODES = {\n",
    "    # Moscow\n",
    "    (\"AMP\", (0, 999), \"97\"): (\"Government of Russia\", 1, 1, 10),\n",
    "    (\"AMP\", (0, 999), \"77\"): (\"Partially Government of Russia\", 0, 1, 8),\n",
    "    (\"EKX\", (0, 999), \"77\"): (\"Partially Federal Protective Service (Federal Protective Service)\", 0, 1, 6),\n",
    "    (\"EKX\", (0, 999), \"97\"): (\"Partially Federal Protective Service (Federal Protective Service)\", 0, 1, 6),\n",
    "    (\"EKX\", (0, 999), \"99\"): (\"Partially Federal Protective Service (Federal Protective Service)\", 0, 1, 6),\n",
    "    (\"KKX\", (0, 999), \"77\"): (\"Partially used on vehicles of Ministry of Security/Federal Counterintelligence Service /Federal Security Service of Russia\", 0, 0, 1),\n",
    "    (\"CAC\", (500, 999), \"77\"): (\"Former officially 'open' plates of Ministry of Security/Federal Counterintelligence Service /Federal Security Service of Russia\", 0, 0, 1),\n",
    "    (\"CAC\", (500, 999), \"77\"): (\"Former officially 'open' plates of Ministry of Security/Federal Counterintelligence Service /Federal Security Service of Russia\", 0, 0, 1),\n",
    "    (\"AOO\", (0, 999), \"77\"): (\"Partially Presidential Administrative Directorate plates\", 0, 1, 6),\n",
    "    (\"BOO\", (0, 999), \"77\"): (\"Partially Presidential Administrative Directorate plates\", 0, 1, 6),\n",
    "    (\"MOO\", (0, 999), \"77\"): (\"Partially Presidential Administrative Directorate plates\", 0, 1, 6),\n",
    "    (\"COO\", (0, 999), \"77\"): (\"Partially Administrative Directorate, Federation Council plates\", 0, 1, 6),\n",
    "    (\"AMM\", (0, 999), \"99\"): (\"Partially plates of Moscow City Duma deputies, police\", 0, 1, 4),\n",
    "    (\"CCC\", (0, 999), \"77\"): (\"Partially Central Special Communication, Courier Service, Ministry of Communications\", 0, 1, 3),\n",
    "    (\"CCC\", (0, 999), \"99\"): (\"Partially Tax Police, Customs, Special Communications\", 0, 1, 3),\n",
    "    (\"CCC\", (0, 999), \"97\"): (\"Partially Central Special Communication, Courier Service, Ministry of Communications\", 0, 1, 3),\n",
    "    (\"KKK\", (0, 999), \"99\"): (\"Initially belonged to Courier Service, now used among private individuals\", 0, 0, 1),\n",
    "    (\"OOO\", (0, 999), \"77\"): (\"Initially intended for Federal Security Service\", 0, 0, 1),\n",
    "    (\"KMM\", (0, 999), \"77\"): (\"Partially Fire Department plates\", 0, 1, 3),\n",
    "    (\"MMP\", (300, 320), \"77\"): (\"Partially Federal Security Service plates\", 0, 1, 4),\n",
    "    (\"MMP\", (0, 299), \"77\"): (\"Partially Government of Russia, Federal Security Service, banks, and private individuals with connections in the traffic police\", 0, 1, 2),\n",
    "    (\"MMP\", (321, 999), \"77\"): (\"Partially Government of Russia, Federal Security Service, banks, and private individuals with connections in the traffic police\", 0, 1, 2),\n",
    "    (\"PMP\", (0, 999), \"77\"): (\"Partially Ministry of Justice plates\", 0, 1, 3),\n",
    "    (\"AMO\", (0, 999), \"77\"): (\"Partially Moscow City Hall plates\", 0, 1, 5),\n",
    "    (\"KOO\", (0, 999), \"77\"): (\"Partially Constitutional Court plates\", 0, 1, 3),\n",
    "    (\"EPE\", (0, 999), \"77\"): (\"Partially State Duma plates\", 0, 1, 3),\n",
    "    (\"AAA\", (0, 999), \"77\"): (\"Partially Administration of the President plates\", 0, 1, 6),\n",
    "    (\"KMP\", (0, 999), \"77\"): (\"Partially Government of Russia plates\", 0, 1, 3),\n",
    "    (\"TMP\", (0, 999), \"77\"): (\"Partially Government of Russia plates, as well as private individuals with connections in the traffic police\", 0, 1, 2),\n",
    "    (\"YMP\", (0, 999), \"77\"): (\"Partially Government of Russia plates, as well as private individuals with connections in the traffic police\", 0, 1, 2),\n",
    "    (\"XXX\", (0, 999), \"77\"): (\"Private individuals with connections in the traffic police\", 0, 1, 2),\n",
    "    (\"YYY\", (0, 999), \"77\"): (\"Private individuals with connections in the traffic police\", 0, 1, 2),\n",
    "    (\"XKX\", (0, 999), \"77\"): (\"Partially Federal Security Service and Federal Protective Service plates\", 0, 1, 2),\n",
    "    (\"OMP\", (0, 999), \"77\"): (\"Partially Government of Russia, banks, and private individuals with connections in the traffic police\", 0, 1, 2),\n",
    "    (\"EEE\", (0, 999), \"77\"): (\"Private individuals with connections in the traffic police\", 0, 1, 2),\n",
    "\n",
    "    # Moscow Oblast\n",
    "    (\"AMO\", (0, 999), \"50\"): (\"Partially various government agencies (administration, ambulance, traffic police, etc.)\", 0, 1, 3),\n",
    "    (\"BMO\", (0, 999), \"50\"): (\"Partially various government agencies (administration, ambulance, traffic police, etc.)\", 0, 1, 3),\n",
    "    (\"KMO\", (0, 999), \"50\"): (\"Partially various government agencies (administration, ambulance, traffic police, etc.)\", 0, 1, 3),\n",
    "    (\"CMO\", (0, 999), \"50\"): (\"Partially various government agencies (administration, ambulance, traffic police, etc.)\", 0, 1, 3),\n",
    "    (\"OMO\", (0, 999), \"50\"): (\"Partially various government agencies (administration, ambulance, traffic police, etc.)\", 0, 1, 3),\n",
    "    (\"MMO\", (0, 999), \"50\"): (\"Partially various government agencies (administration, ambulance, traffic police, etc.)\", 0, 1, 3),\n",
    "    (\"TMO\", (0, 999), \"50\"): (\"Partially various government agencies (administration, ambulance, traffic police, etc.)\", 0, 1, 3),\n",
    "    (\"HMO\", (0, 999), \"50\"): (\"Partially various government agencies (administration, ambulance, traffic police, etc.)\", 0, 1, 3),\n",
    "    (\"YMO\", (0, 999), \"50\"): (\"Partially various government agencies (administration, ambulance, traffic police, etc.)\", 0, 1, 3),\n",
    "    (\"XMO\", (0, 999), \"50\"): (\"Partially various government agencies (administration, ambulance, traffic police, etc.)\", 0, 1, 3),\n",
    "    (\"AMM\", (0, 999), \"50\"): (\"Partially plates of the regional administration\", 0, 1, 5),\n",
    "    (\"AMM\", (0, 999), \"90\"): (\"Partially plates of the regional administration\", 0, 1, 5),\n",
    "    (\"MMM\", (0, 999), \"50\"): (\"Partially plates of law enforcement in the region (prosecutor's office, EMERCOM, traffic police, etc.)\", 0, 1, 5),\n",
    "    (\"MMM\", (0, 999), \"90\"): (\"Partially plates of law enforcement in the region (prosecutor's office, EMERCOM, traffic police, etc.)\", 0, 1, 5),\n",
    "\n",
    "    # Saint Petersburg\n",
    "    (\"OBO\", (0, 999), \"78\"): (\"Partially Departmental Security Service plates\", 0, 1, 4),\n",
    "    (\"OBO\", (0, 999), \"98\"): (\"Partially Departmental Security Service plates\", 0, 1, 4),\n",
    "    (\"OTT\", (0, 999), \"78\"): (\"Partially former traffic police plates (now replaced by 98)\", 0, 0, 1),\n",
    "    (\"OTT\", (0, 999), \"98\"): (\"Partially traffic police plates\", 0, 1, 4),\n",
    "    (\"OMM\", (0, 999), \"78\"): (\"Partially city district police plates\", 0, 1, 3),\n",
    "    (\"OMM\", (0, 999), \"98\"): (\"Partially city district police plates\", 0, 1, 3),\n",
    "    (\"OOM\", (0, 999), \"78\"): (\"Partially plates of the Main Department of Internal Affairs\", 0, 1, 3),\n",
    "    (\"OOM\", (0, 999), \"98\"): (\"Partially plates of the Main Department of Internal Affairs\", 0, 1, 3),\n",
    "    (\"OKO\", (0, 100), \"78\"): (\"Partially former plates of the prosecutor's office and judicial department (now replaced by 98)\", 0, 0, 1),\n",
    "    (\"OKO\", (0, 100), \"98\"): (\"Partially plates of the prosecutor's office and judicial department\", 0, 1, 3),\n",
    "    (\"OKO\", (700, 999), \"78\"): (\"Partially former Federal Security Service plates (now replaced by 98)\", 0, 0, 1),\n",
    "    (\"OKO\", (700, 999), \"98\"): (\"Partially Federal Security Service plates\", 0, 1, 3),\n",
    "    (\"OPP\", (0, 999), \"78\"): (\"Partially former plates of the Main Department of Internal Affairs (now replaced by 98)\", 0, 0, 1),\n",
    "    (\"OPP\", (0, 999), \"98\"): (\"Partially plates of the Main Department of Internal Affairs\", 0, 1, 3),\n",
    "    (\"OOH\", (0, 999), \"78\"): (\"Partially Federal Drug Control Service and Federal Tax Service plates\", 0, 1, 3),\n",
    "    (\"OOH\", (0, 999), \"98\"): (\"Partially Federal Drug Control Service and Federal Tax Service plates\", 0, 1, 3),\n",
    "    (\"OAO\", (0, 999), \"78\"): (\"Partially plates of the city and regional administration\", 0, 1, 5),\n",
    "    (\"OAO\", (0, 999), \"98\"): (\"Partially plates of the city and regional administration\", 0, 1, 5),\n",
    "    (\"AAA\", (0, 100), \"78\"): (\"Partially plates of the city and regional administration\", 0, 1, 6),\n",
    "    (\"AAA\", (0, 100), \"98\"): (\"Partially plates of the city and regional administration\", 0, 1, 6),\n",
    "    (\"OOO\", (0, 899), \"78\"): (\"Commercial plates\", 0, 0, 2),\n",
    "    (\"OOO\", (0, 899), \"98\"): (\"Commercial plates\", 0, 0, 2),\n",
    "    (\"OOO\", (900, 999), \"78\"): (\"Partially Federal Protective Service plates\", 0, 1, 3),\n",
    "    (\"OOO\", (900, 999), \"98\"): (\"Partially Federal Protective Service plates\", 0, 1, 3),\n",
    "    (\"OKC\", (0, 999), \"98\"): (\"Partially Constitutional Court of the Russian Federation plates\", 0, 1, 3),\n",
    "    (\"OOC\", (0, 999), \"78\"): (\"Partially plates of heads of enterprises and organizations\", 0, 0, 2),\n",
    "    (\"OOC\", (0, 999), \"98\"): (\"Partially plates of heads of enterprises and organizations\", 0, 0, 2),\n",
    "    (\"MMM\", (0, 999), \"78\"): (\"Commercial plates\", 0, 0, 2),\n",
    "    (\"MMM\", (0, 999), \"98\"): (\"Commercial plates\", 0, 0, 2),\n",
    "\n",
    "    # Altai Republic\n",
    "    (\"XXX\", (0, 999), \"04\"): (\"Widespread 'special' plates\", 0, 0, 2),\n",
    "    (\"TTT\", (0, 999), \"04\"): (\"Rare 'special' plates\", 0, 0, 2),\n",
    "    (\"PPP\", (0, 999), \"04\"): (\"Partially prosecutor's office of the republic\", 0, 1, 3),\n",
    "    (\"PPA\", (0, 999), \"04\"): (\"Partially prosecutor's office of the republic\", 0, 1, 3),\n",
    "    (\"MPA\", (0, 999), \"04\"): (\"Partially Ministry of Internal Affairs of the republic\", 0, 1, 3),\n",
    "    (\"OOO\", (0, 999), \"04\"): (\"Partially plates of the government of the republic\", 0, 1, 5),\n",
    "    (\"HHH\", (0, 999), \"04\"): (\"Partially the republic's tax service plates\", 0, 1, 3),\n",
    "    (\"CCC\", (0, 999), \"04\"): (\"Partially plates belonging to the republic's judges\", 0, 1, 3),\n",
    "\n",
    "    # Republic of Bashkortostan\n",
    "    (\"PKC\", (0, 999), \"02\"): (\"Partially State Assembly (Kurultai) plates\", 0, 1, 5),\n",
    "    (\"KKC\", (0, 999), \"02\"): (\"Partially State Assembly (Kurultai) plates\", 0, 1, 5),\n",
    "    (\"OOO\", (0, 999), \"02\"): (\"Partially plates of leaders of large enterprises and ministries\", 0, 1, 3),\n",
    "    (\"AAA\", (0, 999), \"02\"): (\"Partially plates of the republic's government\", 0, 1, 5),\n",
    "\n",
    "    # Republic of Karelia\n",
    "    (\"TTT\", (0, 999), \"10\"): (\"Partially government of the republic and Federal Security Service plates\", 0, 1, 5),\n",
    "    (\"HHH\", (0, 999), \"10\"): (\"Partially plates of city and district administrations of the republic\", 0, 1, 4),\n",
    "    (\"MMM\", (0, 999), \"10\"): (\"Partially plates of the Ministry of Internal Affairs of the republic\", 0, 1, 3),\n",
    "    (\"EMP\", (0, 999), \"10\"): (\"Partially plates of the Ministry of Internal Affairs of the republic\", 0, 1, 3),\n",
    "    (\"CCC\", (0, 999), \"10\"): (\"Partially plates of the prosecutor's office and judges' vehicles\", 0, 1, 3),\n",
    "\n",
    "    # Komi Republic\n",
    "    (\"TTT\", (0, 999), \"11\"): (\"Partially government of the republic and Federal Security Service plates\", 0, 1, 5),\n",
    "    (\"OOO\", (0, 999), \"11\"): (\"Widespread semi-special plates, leaders of large industrial companies\", 0, 1, 3),\n",
    "\n",
    "    # Sakha Republic\n",
    "    (\"PPP\", (0, 999), \"14\"): (\"Partially plates of the republic's prosecutor's office\", 0, 1, 3),\n",
    "    (\"AAA\", (0, 999), \"14\"): (\"Motor pool of the President, Government, Parliament of the republic, as well as heads of state enterprises\", 0, 1, 5),\n",
    "\n",
    "    # Republic of Tatarstan\n",
    "    (\"OAA\", (0, 999), \"16\"): (\"Partially plates of heads of district administrations\", 0, 1, 5),\n",
    "    (\"OAA\", (0, 999), \"116\"): (\"Partially plates of heads of district administrations\", 0, 1, 5),\n",
    "    (\"OAA\", (0, 999), \"716\"): (\"Partially plates of heads of district administrations\", 0, 1, 5),\n",
    "\n",
    "    # Krasnodar Krai\n",
    "    (\"PPP\", (0, 999), \"23\"): (\"Partially plates of the Krai and city administrations\", 0, 1, 5),\n",
    "    (\"HHH\", (0, 999), \"23\"): (\"Partially plates of the tax authorities\", 0, 1, 3),\n",
    "    (\"OOO\", (0, 999), \"23\"): (\"Partially plates of the Krai and city administrations\", 0, 1, 5),\n",
    "    (\"KKK\", (0, 999), \"23\"): (\"Partially plates of the Krai administration\", 0, 1, 5),\n",
    "\n",
    "    # Krasnoyarsk Krai\n",
    "    (\"KPK\", (0, 999), \"24\"): (\"Partially plates of the Krai administration\", 0, 1, 5),\n",
    "    (\"OOO\", (0, 999), \"24\"): (\"Partially Federal Security Service plates of the Krai\", 0, 1, 3),\n",
    "    (\"MKK\", (0, 999), \"24\"): (\"Partially former plates of the Ministry of Internal Affairs of the Krai\", 0, 0, 1),\n",
    "\n",
    "    # Primorsky Krai\n",
    "    (\"BOO\", (0, 999), \"25\"): (\"Partially military plates\", 0, 1, 3),\n",
    "    (\"BOO\", (0, 999), \"125\"): (\"Partially city services plates in Vladivostok and districts\", 0, 1, 2),\n",
    "    (\"AAA\", (0, 999), \"25\"): (\"Issued first in Vladivostok\", 0, 0, 2),\n",
    "    (\"AAA\", (0, 999), \"125\"): (\"One of the most 'special' series, prosecutor's office\", 1, 1, 5),\n",
    "    (\"HHH\", (0, 999), \"25\"): (\"Partially plates of the administration and vehicles of City Duma deputies\", 0, 1, 3),\n",
    "    (\"MMM\", (0, 999), \"25\"): (\"Partially plates of the deputies of the Krai Legislative Assembly\", 0, 1, 3),\n",
    "    (\"CCC\", (0, 999), \"25\"): (\"Partially plates of the Krai administration\", 0, 1, 5),\n",
    "    (\"XXX\", (0, 999), \"25\"): (\"Partially plates of the prosecutor's office and the Department of Internal Affairs\", 0, 1, 2),\n",
    "    (\"OOO\", (0, 999), \"25\"): (\"Partially former plates of the Krai administration (during Governor Evgeny Nazdratenko)\", 0, 0, 1),\n",
    "    (\"TTT\", (0, 999), \"25\"): (\"Partially former plates of the Vladivostok administration and federal agencies in the Krai (during Mayor Yuri Kopylov)\", 0, 0, 1),\n",
    "    (\"MBK\", (0, 999), \"25\"): (\"Partially plates for employees of the Department of Internal Affairs\", 0, 1, 3),\n",
    "    (\"MBK\", (0, 999), \"125\"): (\"Partially plates for employees of the Department of Internal Affairs\", 0, 1, 3),\n",
    "    (\"MOO\", (0, 999), \"25\"): (\"Partially plates for Krai agencies of the Department of Internal Affairs, EMERCOM, firefighters, etc.\", 0, 1, 2),\n",
    "    (\"MOO\", (0, 999), \"125\"): (\"Partially plates for Krai agencies of the Department of Internal Affairs, EMERCOM, firefighters, etc.\", 0, 1, 2),\n",
    "    (\"HOO\", (0, 999), \"25\"): (\"Partially plates of the Department of Internal Affairs, traffic police in the southeastern region of the Krai (Nakhodka)\", 0, 1, 3),\n",
    "    (\"HOO\", (0, 999), \"125\"): (\"Partially plates of the Department of Internal Affairs, traffic police in the southeastern region of the Krai (Nakhodka)\", 0, 1, 3),\n",
    "    (\"YOO\", (0, 999), \"25\"): (\"Partially plates of the Department of Internal Affairs, traffic police in the central region of the Krai (Ussuriysk)\", 0, 1, 3),\n",
    "    (\"YOO\", (0, 999), \"125\"): (\"Partially plates of the Department of Internal Affairs, traffic police in the central region of the Krai (Ussuriysk)\", 0, 1, 3),\n",
    "    (\"COO\", (0, 999), \"25\"): (\"Partially plates of the Department of Internal Affairs, traffic police in the northern region of the Krai (Spassk-Dalny)\", 0, 1, 3),\n",
    "    (\"COO\", (0, 999), \"125\"): (\"Partially plates of the Department of Internal Affairs, traffic police in the northern region of the Krai (Spassk-Dalny)\", 0, 1, 3),\n",
    "\n",
    "    # Vologda Oblast\n",
    "    (\"AAA\", (0, 999), \"35\"): (\"Partially plates of the regional government and Vologda city administration\", 0, 1, 5),\n",
    "\n",
    "    # Volgograd Oblast\n",
    "    (\"AAM\", (0, 999), \"34\"): (\"Partially plates of the Oblast Duma\", 0, 1, 3),\n",
    "    (\"PAA\", (0, 999), \"34\"): (\"Partially plates of the Oblast Administration\", 0, 1, 5),\n",
    "    (\"AAA\", (0, 999), \"34\"): (\"Partially plates of the Oblast Prosecutor's Office\", 0, 1, 3),\n",
    "    (\"ACK\", (0, 999), \"34\"): (\"Partially plates of the Investigative Committee, Main Department of Internal Affairs\", 0, 1, 3),\n",
    "    (\"YYY\", (0, 999), \"34\"): (\"Partially Federal Security Service plates\", 0, 1, 3),\n",
    "    (\"AAK\", (0, 999), \"34\"): (\"Partially plates of the Federal Bailiff Service, Ministry of Justice, and Judicial Department\", 0, 1, 3),\n",
    "\n",
    "    # Voronezh Oblast\n",
    "    (\"ААА\", (0, 999), \"36\"): (\"Partially plates of the Oblast Administration\", 0, 1, 5),\n",
    "    (\"BOA\", (0, 999), \"36\"): (\"Partially plates of the Oblast Administration\", 0, 1, 5),\n",
    "    (\"MMM\", (0, 999), \"36\"): (\"Partially plates of the Oblast Prosecutor's Office\", 0, 1, 3),\n",
    "\n",
    "    # Kaliningrad Oblast\n",
    "    (\"AAK\", (0, 999), \"39\"): (\"Partially plates of the Oblast Administration, Federal Security Service, and Prosecutor's Office\", 0, 1, 5),\n",
    "    (\"KKK\", (0, 999), \"39\"): (\"Partially plates of the Oblast Administration, Federal Security Service, and Prosecutor's Office\", 0, 1, 5),\n",
    "    (\"PPP\", (0, 999), \"39\"): (\"Partially former plates of the Oblast Administration (during Governor Boos)\", 0, 0, 1),\n",
    "\n",
    "    # Kaluga Oblast\n",
    "    (\"OOO\", (0, 999), \"40\"): (\"Partially plates of the Oblast Administration\", 0, 1, 5),\n",
    "    (\"TTT\", (0, 999), \"40\"): (\"Partially plates of the Oblast Administration\", 0, 1, 5),\n",
    "    (\"PPP\", (0, 999), \"40\"): (\"Partially plates of the Oblast Prosecutor's Office\", 0, 1, 3),\n",
    "\n",
    "    # Kurgan Oblast\n",
    "    (\"OOO\", (0, 999), \"45\"): (\"Partially former plates of the Oblast Administration\", 0, 0, 1),\n",
    "    (\"TTT\", (0, 999), \"45\"): (\"Partially plates of the Oblast Administration\", 0, 1, 5),\n",
    "    (\"OKO\", (0, 999), \"45\"): (\"Partially plates of the Oblast Prosecutor's Office\", 0, 1, 3),\n",
    "\n",
    "    # Novosibirsk Oblast\n",
    "    (\"AAA\", (0, 199), \"54\"): (\"Plates for Presidential Plenipotentiaries\", 1, 1, 7),\n",
    "    (\"AAA\", (200, 999), \"54\"): (\"'Special' plates\", 0, 1, 4),\n",
    "    (\"HHH\", (0, 999), \"54\"): (\"Partially plates of the Novosibirsk mayor's office, Oblast Administration, and Oblast Council\", 0, 1, 5),\n",
    "    (\"ACK\", (0, 999), \"54\"): (\"Partially Federal Security Service plates of the Oblast\", 0, 1, 3),\n",
    "    (\"AHO\", (0, 999), \"54\"): (\"Partially former plates of the Oblast Administration\", 0, 0, 1),\n",
    "    (\"AAO\", (0, 999), \"54\"): (\"Partially plates of various government agencies, including district administrations of Novosibirsk\", 0, 1, 3),\n",
    "    (\"PPP\", (0, 999), \"54\"): (\"'Morozov' plates (introduced by former head of traffic police Pyotr Morozov)\", 0, 1, 2),\n",
    "    (\"MOP\", (0, 999), \"54\"): (\"'Morozov' plates (introduced by former head of traffic police Pyotr Morozov)\", 0, 1, 2),\n",
    "\n",
    "    # Oryol Oblast\n",
    "    (\"AAA\", (0, 999), \"57\"): (\"Partially plates of the Oblast Administration\", 0, 1, 5),\n",
    "    (\"AOO\", (0, 999), \"57\"): (\"Partially plates of the Oblast Administration\", 0, 1, 5),\n",
    "    (\"OAO\", (0, 999), \"57\"): (\"Partially plates of directors of public joint-stock companies\", 0, 1, 2),\n",
    "\n",
    "    # Rostov Oblast\n",
    "    (\"APO\", (0, 999), \"61\"): (\"Partially plates of the Oblast Administration\", 0, 1, 5),\n",
    "    (\"AAA\", (0, 999), \"61\"): (\"Partially plates of district heads of Rostov-on-Don, mayors of Oblast cities\", 0, 1, 5),\n",
    "    (\"APY\", (0, 999), \"61\"): (\"Partially plates of the Rostov-on-Don administration\", 0, 1, 5),\n",
    "    (\"KKK\", (0, 999), \"61\"): (\"Partially former plates for Presidential Plenipotentiaries (during Viktor Kazantsev)\", 0, 0, 1),\n",
    "    (\"HHH\", (0, 999), \"61\"): (\"Partially plates of the Oblast Prosecutor's Office\", 0, 1, 3),\n",
    "    (\"MMM\", (0, 999), \"61\"): (\"Partially plates of the Oblast Department of Internal Affairs\", 0, 1, 3),\n",
    "    (\"OOO\", (0, 999), \"61\"): (\"Partially plates of the Oblast Legislative Assembly\", 0, 1, 4),\n",
    "    (\"BBK\", (0, 999), \"61\"): (\"Partially plates of insurance companies in Rostov-on-Don\", 0, 1, 1),\n",
    "\n",
    "    # Saratov Oblast\n",
    "    (\"AAA\", (0, 999), \"164\"): (\"Partially plates of the Oblast Administration\", 0, 1, 5),\n",
    "    (\"PPP\", (0, 999), \"164\"): (\"Partially plates of the Oblast Administration\", 0, 1, 5),\n",
    "    (\"XXX\", (0, 999), \"64\"): (\"Partially plates of the Oblast courts\", 0, 1, 3),\n",
    "    (\"MMM\", (0, 999), \"64\"): (\"Partially plates of the Oblast Prosecutor's Office\", 0, 1, 3),\n",
    "    (\"OAA\", (0, 999), \"64\"): (\"Partially Federal Security Service plates of the Oblast\", 0, 1, 3),\n",
    "\n",
    "    # Tomsk Oblast\n",
    "    (\"ATO\", (0, 999), \"70\"): (\"Partially plates of the Oblast Administration\", 0, 1, 5),\n",
    "\n",
    "    # Tyumen Oblast\n",
    "    (\"ATO\", (0, 999), \"72\"): (\"Partially plates of the Oblast Administration\", 0, 1, 5),\n",
    "    (\"PTO\", (0, 999), \"72\"): (\"Partially plates of the Oblast Administration\", 0, 1, 5),\n",
    "    (\"MTO\", (0, 999), \"72\"): (\"Partially plates of the Oblast Prosecutor's Office\", 0, 1, 3),\n",
    "    (\"HTO\", (0, 999), \"72\"): (\"Partially plates of the Tax Service\", 0, 1, 3),\n",
    "    (\"CTO\", (0, 999), \"72\"): (\"Partially plates of the Oblast courts\", 0, 1, 3),\n",
    "    (\"YTO\", (0, 999), \"72\"): (\"Partially plates of the bailiff service\", 0, 1, 3),\n",
    "    (\"BAA\", (0, 999), \"72\"): (\"Partially plates of the Oblast Ministry of Internal Affairs\", 0, 1, 3),\n",
    "    (\"KKK\", (0, 999), \"72\"): (\"'Gangster' plates\", 0, 1, 1),\n",
    "\n",
    "    # Arkhangelsk Oblast\n",
    "    (\"TTT\", (0, 999), \"29\"): (\"Partially plates of the Oblast Administration\", 0, 1, 5),\n",
    "    (\"PPP\", (0, 999), \"29\"): (\"Partially plates of the Oblast Administration\", 0, 1, 5),\n",
    "    (\"MAO\", (0, 999), \"29\"): (\"Partially plates of the Oblast Ministry of Internal Affairs\", 0, 1, 3),\n",
    "\n",
    "    # Ryazan Oblast\n",
    "    (\"APO\", (0, 999), \"62\"): (\"Partially plates of the Oblast Administration\", 0, 1, 5),\n",
    "\n",
    "    # Samara Oblast\n",
    "    (\"PAA\", (0, 999), \"63\"): (\"Partially plates of the Oblast Administration\", 0, 1, 5),\n",
    "    (\"AAP\", (0, 999), \"63\"): (\"Partially plates of the Oblast Administration\", 0, 1, 5),\n",
    "}\n"
   ]
  },
  {
   "cell_type": "code",
   "execution_count": 5,
   "id": "72f82744-062a-4906-b913-134131209b37",
   "metadata": {},
   "outputs": [],
   "source": [
    "CHARS = \"ABCDEFGHIJKLMNOPQRSTUVWXYZ0123456789\"\n",
    "CHAR2IDX = {c: i+1 for i, c in enumerate(CHARS)}  # 0 is padding\n",
    "VOCAB_SIZE = len(CHAR2IDX) + 1\n",
    "MAX_PLATE_LEN = 9  # adjust as needed"
   ]
  },
  {
   "cell_type": "code",
   "execution_count": 9,
   "id": "e0698118-06cb-46ff-9ee1-f2791ab7f99c",
   "metadata": {},
   "outputs": [],
   "source": [
    "def optimize_smape_cutoff(y_true, y_pred):\n",
    "    \"\"\"Find optimal constant adjustment to minimize SMAPE\"\"\"\n",
    "    best_smape = float('inf')\n",
    "    best_adj = 1.0\n",
    "    for adj in np.linspace(0.8, 1.2, 41):\n",
    "        adj_pred = y_pred * adj\n",
    "        smape_val = smape(y_true, adj_pred)\n",
    "        if smape_val < best_smape:\n",
    "            best_smape = smape_val\n",
    "            best_adj = adj\n",
    "    return best_adj\n",
    "\n",
    "def preprocess_data(df, is_train=True, target_means=None):\n",
    "\n",
    "    # Drop unnecessary columns\n",
    "    df = df.drop(columns=['date'], errors='ignore')  # drop date if it exists\n",
    "\n",
    "    df = df.drop_duplicates(subset='plate', keep='first').reset_index(drop=True)\n",
    "\n",
    "    code_to_region = {}\n",
    "    for region, codes in REGION_CODES.items():\n",
    "        for code in codes:\n",
    "            code_to_region[code] = region\n",
    "\n",
    "    def get_region_name_from_plate(plate):\n",
    "        match = re.search(r'(\\d{2,3})$', plate)\n",
    "        if match:\n",
    "            code = match.group(1)\n",
    "            return code_to_region.get(code, 'Unknown')\n",
    "        return 'Unknown'\n",
    "    \n",
    "    # Helper function to extract features from a plate\n",
    "    def extract_plate_features(plate):\n",
    "        letters = ''.join(filter(str.isalpha, plate))\n",
    "        numbers = ''.join(filter(str.isdigit, plate))\n",
    "\n",
    "        features = {}\n",
    "        features['three_same_letter'] = any(letters.count(c) >= 3 for c in set(letters))\n",
    "        features['two_nearby_same_letter'] = any(letters[i] == letters[i+1] for i in range(len(letters)-1))\n",
    "        features['same_numbers'] = len(set(numbers)) == 1 if numbers else False\n",
    "        features['same_numbers_count'] = sum(count for count in Counter(numbers).values() if count > 1)\n",
    "        features['same_letters_count'] = sum(count for count in Counter(letters).values() if count > 1)\n",
    "        features['three_repeating_number'] = any(numbers.count(d) >= 3 for d in set(numbers))\n",
    "        features['two_repeating_number'] = any(numbers.count(d) >= 2 for d in set(numbers))\n",
    "        features['region_name'] = get_region_name_from_plate(plate)\n",
    "        features['unique_char_ratio'] = len(set(plate)) / len(plate) if plate else 0\n",
    "        features['digit_entropy'] = entropy(pd.Series(list(numbers)).value_counts(normalize=True)) if numbers else 0\n",
    "        features['first_last_same'] = plate[0] == plate[-1]\n",
    "        features['vowel_count'] = sum(1 for c in plate if c.lower() in 'aeiou')\n",
    "\n",
    "        region_code = re.search(r'(\\d{2,3})$', plate)\n",
    "        region_code = region_code.group(1) if region_code else \"\"\n",
    "    \n",
    "        number_part = ''.join(filter(str.isdigit, plate))\n",
    "        number_part = int(number_part[:-len(region_code)]) if region_code and number_part[:-len(region_code)].isdigit() else -1\n",
    "    \n",
    "        is_gov_score = 0\n",
    "        for (gov_letters, num_range, gov_region), value in GOVERNMENT_CODES.items():\n",
    "            if letters == gov_letters and gov_region == region_code:\n",
    "                if num_range[0] <= number_part <= num_range[1]:\n",
    "                    is_gov_score = value[3]  # level of significance\n",
    "                    break\n",
    "\n",
    "        features['is_gov'] = is_gov_score\n",
    "\n",
    "        if len(numbers) >= 5:\n",
    "            last_two = numbers[-2:]\n",
    "            front = numbers[:-2]\n",
    "            features['tail_in_body_number'] = last_two in front\n",
    "        else:\n",
    "            features['tail_in_body_number'] = False\n",
    "\n",
    "        # NEW FEATURES\n",
    "        # 1. Premium pattern detection\n",
    "        features['is_premium_pattern'] = int(\n",
    "            features['three_same_letter'] or \n",
    "            features['same_numbers'] or\n",
    "            features['three_repeating_number'] or\n",
    "            (features['is_gov'] > 0)\n",
    "        )\n",
    "\n",
    "        # 2. Government plate tiering\n",
    "        features['gov_tier'] = min(features['is_gov'], 3)  # Cap at tier 3\n",
    "        \n",
    "        # 3. Position-based pattern detection\n",
    "        if len(letters) >= 2:\n",
    "            features['first_last_same'] = int(letters[0] == letters[-1])\n",
    "        if len(numbers) >= 3:\n",
    "            features['bookend_same'] = int(numbers[0] == numbers[-1])\n",
    "\n",
    "        # 4. Numeric value features\n",
    "        if numbers:\n",
    "            num_value = int(numbers)\n",
    "            features['is_round_number'] = int(num_value % 100 == 0 or num_value % 1000 == 0)\n",
    "            features['is_repeating_sequence'] = int(\n",
    "                all(int(a) - int(b) == 1 for a, b in zip(numbers[:-1], numbers[1:])) or\n",
    "                all(int(b) - int(a) == 1 for a, b in zip(numbers[:-1], numbers[1:]))\n",
    "            )\n",
    "        \n",
    "        # 5. Length-based features\n",
    "        features['total_length'] = len(plate)\n",
    "        features['digit_length'] = len(numbers)\n",
    "        features['letter_length'] = len(letters)\n",
    "\n",
    "        return pd.Series(features)\n",
    "\n",
    "        # Remove outliers by price (only for training data)\n",
    "    # if is_train:\n",
    "    #     Q1 = df['price'].quantile(0.25)\n",
    "    #     Q3 = df['price'].quantile(0.75)\n",
    "    #     IQR = Q3 - Q1\n",
    "    #     lower_bound = Q1 - 1.5 * IQR\n",
    "    #     upper_bound = Q3 + 1.5 * IQR\n",
    "    #     df = df[(df['price'] >= lower_bound) & (df['price'] <= upper_bound)]\n",
    "\n",
    "    # Apply the feature extraction\n",
    "    features_df = df['plate'].apply(extract_plate_features)\n",
    "\n",
    "    bool_cols = features_df.select_dtypes(include='bool').columns\n",
    "    features_df[bool_cols] = features_df[bool_cols].astype(int)\n",
    "\n",
    "    if is_train:\n",
    "        # Calculate target mean for each region\n",
    "        df_with_labels = pd.concat([df, features_df], axis=1)\n",
    "        region_to_price = df_with_labels.groupby('region_name')['price'].mean()\n",
    "        features_df['region_encoded'] = features_df['region_name'].map(region_to_price)\n",
    "    else:\n",
    "        # Use previously computed target means\n",
    "        features_df['region_encoded'] = features_df['region_name'].map(target_means).fillna(target_means.mean())\n",
    "\n",
    "\n",
    "    features_df = features_df.drop(columns=['region_name'])\n",
    "    \n",
    "    # Merge features with original df\n",
    "    \n",
    "    df = pd.concat([df, features_df], axis=1)\n",
    "\n",
    "    if is_train:\n",
    "        return df, region_to_price\n",
    "    else:\n",
    "        return df\n",
    "\n",
    "def smape(y_true, y_pred):\n",
    "    denominator = (np.abs(y_true) + np.abs(y_pred)) / 2\n",
    "    diff = np.abs(y_true - y_pred) / denominator\n",
    "    diff[denominator == 0] = 0.0\n",
    "    return np.mean(diff) * 100\n",
    "\n",
    "def smape_metric(y_pred, lgb_dataset):\n",
    "    \"\"\"\n",
    "    Custom SMAPE metric for LightGBM that handles Dataset input\n",
    "    \"\"\"\n",
    "    y_true = lgb_dataset.get_label()  # Extract true values from Dataset\n",
    "    denominator = (np.abs(y_true) + np.abs(y_pred)) / 2 + 1e-6  # Avoid division by zero\n",
    "    diff = np.abs(y_true - y_pred) / denominator\n",
    "    smape = np.mean(diff) * 100  # SMAPE in percentage\n",
    "    \n",
    "    return 'SMAPE', smape, False  # (eval_name, eval_result, is_higher_better)\n",
    "\n",
    "def analyze_errors(df_val, y_true, y_pred):\n",
    "    df_val = df_val.copy()\n",
    "    df_val['pred'] = y_pred\n",
    "    df_val['error'] = np.abs(y_true - y_pred)\n",
    "    df_val['pct_error'] = df_val['error'] / y_true\n",
    "    \n",
    "    # Top error cases\n",
    "    print(\"\\nTop 10 Overpriced Plates:\")\n",
    "    print(df_val.sort_values('pct_error', ascending=False).head(10)[['plate', 'price', 'pred']])\n",
    "    \n",
    "    # Error by region\n",
    "    print(\"\\nError by Region:\")\n",
    "    print(df_val.groupby('region_encoded')['pct_error'].mean().sort_values(ascending=False))\n",
    "    \n",
    "    # Error by plate features\n",
    "    print(\"\\nError by Plate Features:\")\n",
    "    for feat in ['three_same_letter', 'is_gov', 'unique_char_ratio']:\n",
    "        if feat in df_val:\n",
    "            print(f\"{feat}: {df_val.groupby(feat)['pct_error'].mean()}\")\n",
    "\n",
    "\n",
    "def train_model(df_train_preprocessed, df_test_preprocessed=None):\n",
    "    df = df_train_preprocessed.copy()\n",
    "    df = df.drop_duplicates(subset='plate', keep='first')\n",
    "\n",
    "    X = df.copy()\n",
    "\n",
    "    y = np.log1p(df['price'])\n",
    "\n",
    "    df['price_bin'] = pd.qcut(df['price'], q=5, labels=False)\n",
    "    X_train, X_val_orig, y_train, y_val = train_test_split(\n",
    "        X, y, test_size=0.2, stratify=df['price_bin'], random_state=42\n",
    "    )\n",
    "\n",
    "    X_train = X_train.drop(columns=['plate', 'price'])\n",
    "\n",
    "    X_val = X_val_orig.drop(columns=['plate', 'price'])\n",
    "\n",
    "    scaler = StandardScaler()\n",
    "    if 'region_encoded' in X_train.columns:\n",
    "        X_train_scaled = X_train.copy()\n",
    "        X_val_scaled = X_val.copy()\n",
    "        X_train_scaled['region_encoded'] = scaler.fit_transform(X_train[['region_encoded']])\n",
    "        X_val_scaled['region_encoded'] = scaler.transform(X_val[['region_encoded']])\n",
    "    else:\n",
    "        X_train_scaled = X_train\n",
    "        X_val_scaled = X_val\n",
    "\n",
    "    train_data = lgb.Dataset(X_train, label=y_train)\n",
    "    val_data = lgb.Dataset(X_val, label=y_val, reference=train_data)\n",
    "\n",
    "    params = {\n",
    "        'objective': 'regression',\n",
    "        'metric': 'mae',\n",
    "        'verbosity': -1,\n",
    "        'boosting_type': 'gbdt',\n",
    "        'learning_rate': 0.05,\n",
    "        'num_leaves': 31,\n",
    "        'max_depth': -1,\n",
    "        'seed': 42\n",
    "    }\n",
    "\n",
    "    callbacks = [\n",
    "        lgb.early_stopping(stopping_rounds=50),\n",
    "        lgb.log_evaluation(period=100)\n",
    "    ]\n",
    "\n",
    "    model = lgb.train(\n",
    "        params,\n",
    "        train_data,\n",
    "        valid_sets=[train_data, val_data],\n",
    "        num_boost_round=1000,\n",
    "        callbacks=callbacks,\n",
    "        feval=smape_metric\n",
    "    )\n",
    "\n",
    "\n",
    "    y_pred = np.expm1(model.predict(X_val))\n",
    "    mae = mean_absolute_error(y_val, y_pred)\n",
    "    smape_score = smape(y_val.values, y_pred)\n",
    "\n",
    "    print(f\"MAE: {mae:.2f}\")\n",
    "    print(f\"SMAPE: {smape_score:.2f}%\")\n",
    "\n",
    "    lgb.plot_importance(model, max_num_features=20, importance_type='gain', figsize=(10, 6))\n",
    "    plt.title(\"Feature Importance (Gain)\")\n",
    "    plt.show()\n",
    "\n",
    "    analyze_errors(X_val_orig, y_val, y_pred)\n",
    "    \n",
    "    if df_test_preprocessed is not None:\n",
    "        df_test = df_test_preprocessed.copy()\n",
    "        df_test = df_test.drop(columns=['plate', 'price'], errors='ignore')  # <-- Fix here\n",
    "        test_preds = np.expm1(model.predict(df_test, num_iteration=model.best_iteration)) \n",
    "        return model, test_preds\n",
    "\n",
    "    return model\n"
   ]
  },
  {
   "cell_type": "code",
   "execution_count": 7,
   "id": "7ce7aec8-a49a-4556-8d64-9727ec5b2869",
   "metadata": {},
   "outputs": [],
   "source": [
    "df_train = pd.read_csv(\"train.csv\", index_col = 0)\n",
    "df_test = pd.read_csv(\"test.csv\")\n",
    "\n"
   ]
  },
  {
   "cell_type": "code",
   "execution_count": 8,
   "id": "86873a73-fa8e-49df-a4e7-8d80cb531ff7",
   "metadata": {},
   "outputs": [],
   "source": [
    "df_test_no_id = df_test.drop(columns=['id'])"
   ]
  },
  {
   "cell_type": "code",
   "execution_count": 20,
   "id": "3c924d6e-fbd0-4da1-a4a1-21274a5afbb1",
   "metadata": {},
   "outputs": [],
   "source": [
    "df_train_preprocessed, region_encoder = preprocess_data(df_train, is_train=True)\n",
    "df_test_preprocessed = preprocess_data(df_test_no_id, is_train=False, target_means=region_encoder)"
   ]
  },
  {
   "cell_type": "code",
   "execution_count": 11,
   "id": "b970e4c9-bbf0-408c-b575-1d274371f1cc",
   "metadata": {
    "scrolled": true
   },
   "outputs": [
    {
     "data": {
      "text/html": [
       "<div>\n",
       "<style scoped>\n",
       "    .dataframe tbody tr th:only-of-type {\n",
       "        vertical-align: middle;\n",
       "    }\n",
       "\n",
       "    .dataframe tbody tr th {\n",
       "        vertical-align: top;\n",
       "    }\n",
       "\n",
       "    .dataframe thead th {\n",
       "        text-align: right;\n",
       "    }\n",
       "</style>\n",
       "<table border=\"1\" class=\"dataframe\">\n",
       "  <thead>\n",
       "    <tr style=\"text-align: right;\">\n",
       "      <th></th>\n",
       "      <th>plate</th>\n",
       "      <th>price</th>\n",
       "      <th>three_same_letter</th>\n",
       "      <th>two_nearby_same_letter</th>\n",
       "      <th>same_numbers</th>\n",
       "      <th>same_numbers_count</th>\n",
       "      <th>same_letters_count</th>\n",
       "      <th>three_repeating_number</th>\n",
       "      <th>two_repeating_number</th>\n",
       "      <th>unique_char_ratio</th>\n",
       "      <th>...</th>\n",
       "      <th>tail_in_body_number</th>\n",
       "      <th>is_premium_pattern</th>\n",
       "      <th>gov_tier</th>\n",
       "      <th>bookend_same</th>\n",
       "      <th>is_round_number</th>\n",
       "      <th>is_repeating_sequence</th>\n",
       "      <th>total_length</th>\n",
       "      <th>digit_length</th>\n",
       "      <th>letter_length</th>\n",
       "      <th>region_encoded</th>\n",
       "    </tr>\n",
       "  </thead>\n",
       "  <tbody>\n",
       "    <tr>\n",
       "      <th>0</th>\n",
       "      <td>X059CP797</td>\n",
       "      <td>65000</td>\n",
       "      <td>0</td>\n",
       "      <td>0</td>\n",
       "      <td>0</td>\n",
       "      <td>4</td>\n",
       "      <td>0</td>\n",
       "      <td>0</td>\n",
       "      <td>1</td>\n",
       "      <td>0.777778</td>\n",
       "      <td>...</td>\n",
       "      <td>1</td>\n",
       "      <td>0</td>\n",
       "      <td>0</td>\n",
       "      <td>0</td>\n",
       "      <td>0</td>\n",
       "      <td>0</td>\n",
       "      <td>9</td>\n",
       "      <td>6</td>\n",
       "      <td>3</td>\n",
       "      <td>494800.583769</td>\n",
       "    </tr>\n",
       "    <tr>\n",
       "      <th>1</th>\n",
       "      <td>Y800MH790</td>\n",
       "      <td>100000</td>\n",
       "      <td>0</td>\n",
       "      <td>0</td>\n",
       "      <td>0</td>\n",
       "      <td>3</td>\n",
       "      <td>0</td>\n",
       "      <td>1</td>\n",
       "      <td>1</td>\n",
       "      <td>0.777778</td>\n",
       "      <td>...</td>\n",
       "      <td>0</td>\n",
       "      <td>1</td>\n",
       "      <td>0</td>\n",
       "      <td>0</td>\n",
       "      <td>0</td>\n",
       "      <td>0</td>\n",
       "      <td>9</td>\n",
       "      <td>6</td>\n",
       "      <td>3</td>\n",
       "      <td>286124.084885</td>\n",
       "    </tr>\n",
       "    <tr>\n",
       "      <th>2</th>\n",
       "      <td>A212TX77</td>\n",
       "      <td>290000</td>\n",
       "      <td>0</td>\n",
       "      <td>0</td>\n",
       "      <td>0</td>\n",
       "      <td>4</td>\n",
       "      <td>0</td>\n",
       "      <td>0</td>\n",
       "      <td>1</td>\n",
       "      <td>0.750000</td>\n",
       "      <td>...</td>\n",
       "      <td>0</td>\n",
       "      <td>0</td>\n",
       "      <td>0</td>\n",
       "      <td>0</td>\n",
       "      <td>0</td>\n",
       "      <td>0</td>\n",
       "      <td>8</td>\n",
       "      <td>5</td>\n",
       "      <td>3</td>\n",
       "      <td>494800.583769</td>\n",
       "    </tr>\n",
       "    <tr>\n",
       "      <th>3</th>\n",
       "      <td>P001AY199</td>\n",
       "      <td>680000</td>\n",
       "      <td>0</td>\n",
       "      <td>0</td>\n",
       "      <td>0</td>\n",
       "      <td>6</td>\n",
       "      <td>0</td>\n",
       "      <td>0</td>\n",
       "      <td>1</td>\n",
       "      <td>0.666667</td>\n",
       "      <td>...</td>\n",
       "      <td>0</td>\n",
       "      <td>0</td>\n",
       "      <td>0</td>\n",
       "      <td>0</td>\n",
       "      <td>0</td>\n",
       "      <td>0</td>\n",
       "      <td>9</td>\n",
       "      <td>6</td>\n",
       "      <td>3</td>\n",
       "      <td>494800.583769</td>\n",
       "    </tr>\n",
       "    <tr>\n",
       "      <th>4</th>\n",
       "      <td>B400BB750</td>\n",
       "      <td>50000</td>\n",
       "      <td>1</td>\n",
       "      <td>1</td>\n",
       "      <td>0</td>\n",
       "      <td>3</td>\n",
       "      <td>3</td>\n",
       "      <td>1</td>\n",
       "      <td>1</td>\n",
       "      <td>0.555556</td>\n",
       "      <td>...</td>\n",
       "      <td>0</td>\n",
       "      <td>1</td>\n",
       "      <td>0</td>\n",
       "      <td>0</td>\n",
       "      <td>0</td>\n",
       "      <td>0</td>\n",
       "      <td>9</td>\n",
       "      <td>6</td>\n",
       "      <td>3</td>\n",
       "      <td>286124.084885</td>\n",
       "    </tr>\n",
       "    <tr>\n",
       "      <th>...</th>\n",
       "      <td>...</td>\n",
       "      <td>...</td>\n",
       "      <td>...</td>\n",
       "      <td>...</td>\n",
       "      <td>...</td>\n",
       "      <td>...</td>\n",
       "      <td>...</td>\n",
       "      <td>...</td>\n",
       "      <td>...</td>\n",
       "      <td>...</td>\n",
       "      <td>...</td>\n",
       "      <td>...</td>\n",
       "      <td>...</td>\n",
       "      <td>...</td>\n",
       "      <td>...</td>\n",
       "      <td>...</td>\n",
       "      <td>...</td>\n",
       "      <td>...</td>\n",
       "      <td>...</td>\n",
       "      <td>...</td>\n",
       "      <td>...</td>\n",
       "    </tr>\n",
       "    <tr>\n",
       "      <th>43600</th>\n",
       "      <td>X023PP797</td>\n",
       "      <td>155000</td>\n",
       "      <td>0</td>\n",
       "      <td>1</td>\n",
       "      <td>0</td>\n",
       "      <td>2</td>\n",
       "      <td>2</td>\n",
       "      <td>0</td>\n",
       "      <td>1</td>\n",
       "      <td>0.777778</td>\n",
       "      <td>...</td>\n",
       "      <td>0</td>\n",
       "      <td>0</td>\n",
       "      <td>0</td>\n",
       "      <td>0</td>\n",
       "      <td>0</td>\n",
       "      <td>0</td>\n",
       "      <td>9</td>\n",
       "      <td>6</td>\n",
       "      <td>3</td>\n",
       "      <td>494800.583769</td>\n",
       "    </tr>\n",
       "    <tr>\n",
       "      <th>43601</th>\n",
       "      <td>M004KA161</td>\n",
       "      <td>1600000</td>\n",
       "      <td>0</td>\n",
       "      <td>0</td>\n",
       "      <td>0</td>\n",
       "      <td>4</td>\n",
       "      <td>0</td>\n",
       "      <td>0</td>\n",
       "      <td>1</td>\n",
       "      <td>0.777778</td>\n",
       "      <td>...</td>\n",
       "      <td>0</td>\n",
       "      <td>0</td>\n",
       "      <td>0</td>\n",
       "      <td>0</td>\n",
       "      <td>0</td>\n",
       "      <td>0</td>\n",
       "      <td>9</td>\n",
       "      <td>6</td>\n",
       "      <td>3</td>\n",
       "      <td>422132.000000</td>\n",
       "    </tr>\n",
       "    <tr>\n",
       "      <th>43602</th>\n",
       "      <td>E888EB199</td>\n",
       "      <td>850000</td>\n",
       "      <td>0</td>\n",
       "      <td>1</td>\n",
       "      <td>0</td>\n",
       "      <td>5</td>\n",
       "      <td>2</td>\n",
       "      <td>1</td>\n",
       "      <td>1</td>\n",
       "      <td>0.555556</td>\n",
       "      <td>...</td>\n",
       "      <td>0</td>\n",
       "      <td>1</td>\n",
       "      <td>0</td>\n",
       "      <td>0</td>\n",
       "      <td>0</td>\n",
       "      <td>0</td>\n",
       "      <td>9</td>\n",
       "      <td>6</td>\n",
       "      <td>3</td>\n",
       "      <td>494800.583769</td>\n",
       "    </tr>\n",
       "    <tr>\n",
       "      <th>43603</th>\n",
       "      <td>X023XK77</td>\n",
       "      <td>150000</td>\n",
       "      <td>0</td>\n",
       "      <td>1</td>\n",
       "      <td>0</td>\n",
       "      <td>2</td>\n",
       "      <td>2</td>\n",
       "      <td>0</td>\n",
       "      <td>1</td>\n",
       "      <td>0.750000</td>\n",
       "      <td>...</td>\n",
       "      <td>0</td>\n",
       "      <td>0</td>\n",
       "      <td>0</td>\n",
       "      <td>0</td>\n",
       "      <td>0</td>\n",
       "      <td>0</td>\n",
       "      <td>8</td>\n",
       "      <td>5</td>\n",
       "      <td>3</td>\n",
       "      <td>494800.583769</td>\n",
       "    </tr>\n",
       "    <tr>\n",
       "      <th>43604</th>\n",
       "      <td>K450OC797</td>\n",
       "      <td>25000</td>\n",
       "      <td>0</td>\n",
       "      <td>0</td>\n",
       "      <td>0</td>\n",
       "      <td>2</td>\n",
       "      <td>0</td>\n",
       "      <td>0</td>\n",
       "      <td>1</td>\n",
       "      <td>0.888889</td>\n",
       "      <td>...</td>\n",
       "      <td>0</td>\n",
       "      <td>0</td>\n",
       "      <td>0</td>\n",
       "      <td>0</td>\n",
       "      <td>0</td>\n",
       "      <td>0</td>\n",
       "      <td>9</td>\n",
       "      <td>6</td>\n",
       "      <td>3</td>\n",
       "      <td>494800.583769</td>\n",
       "    </tr>\n",
       "  </tbody>\n",
       "</table>\n",
       "<p>43605 rows × 24 columns</p>\n",
       "</div>"
      ],
      "text/plain": [
       "           plate    price  three_same_letter  two_nearby_same_letter  \\\n",
       "0      X059CP797    65000                  0                       0   \n",
       "1      Y800MH790   100000                  0                       0   \n",
       "2       A212TX77   290000                  0                       0   \n",
       "3      P001AY199   680000                  0                       0   \n",
       "4      B400BB750    50000                  1                       1   \n",
       "...          ...      ...                ...                     ...   \n",
       "43600  X023PP797   155000                  0                       1   \n",
       "43601  M004KA161  1600000                  0                       0   \n",
       "43602  E888EB199   850000                  0                       1   \n",
       "43603   X023XK77   150000                  0                       1   \n",
       "43604  K450OC797    25000                  0                       0   \n",
       "\n",
       "       same_numbers  same_numbers_count  same_letters_count  \\\n",
       "0                 0                   4                   0   \n",
       "1                 0                   3                   0   \n",
       "2                 0                   4                   0   \n",
       "3                 0                   6                   0   \n",
       "4                 0                   3                   3   \n",
       "...             ...                 ...                 ...   \n",
       "43600             0                   2                   2   \n",
       "43601             0                   4                   0   \n",
       "43602             0                   5                   2   \n",
       "43603             0                   2                   2   \n",
       "43604             0                   2                   0   \n",
       "\n",
       "       three_repeating_number  two_repeating_number  unique_char_ratio  ...  \\\n",
       "0                           0                     1           0.777778  ...   \n",
       "1                           1                     1           0.777778  ...   \n",
       "2                           0                     1           0.750000  ...   \n",
       "3                           0                     1           0.666667  ...   \n",
       "4                           1                     1           0.555556  ...   \n",
       "...                       ...                   ...                ...  ...   \n",
       "43600                       0                     1           0.777778  ...   \n",
       "43601                       0                     1           0.777778  ...   \n",
       "43602                       1                     1           0.555556  ...   \n",
       "43603                       0                     1           0.750000  ...   \n",
       "43604                       0                     1           0.888889  ...   \n",
       "\n",
       "       tail_in_body_number  is_premium_pattern  gov_tier  bookend_same  \\\n",
       "0                        1                   0         0             0   \n",
       "1                        0                   1         0             0   \n",
       "2                        0                   0         0             0   \n",
       "3                        0                   0         0             0   \n",
       "4                        0                   1         0             0   \n",
       "...                    ...                 ...       ...           ...   \n",
       "43600                    0                   0         0             0   \n",
       "43601                    0                   0         0             0   \n",
       "43602                    0                   1         0             0   \n",
       "43603                    0                   0         0             0   \n",
       "43604                    0                   0         0             0   \n",
       "\n",
       "       is_round_number  is_repeating_sequence  total_length  digit_length  \\\n",
       "0                    0                      0             9             6   \n",
       "1                    0                      0             9             6   \n",
       "2                    0                      0             8             5   \n",
       "3                    0                      0             9             6   \n",
       "4                    0                      0             9             6   \n",
       "...                ...                    ...           ...           ...   \n",
       "43600                0                      0             9             6   \n",
       "43601                0                      0             9             6   \n",
       "43602                0                      0             9             6   \n",
       "43603                0                      0             8             5   \n",
       "43604                0                      0             9             6   \n",
       "\n",
       "       letter_length  region_encoded  \n",
       "0                  3   494800.583769  \n",
       "1                  3   286124.084885  \n",
       "2                  3   494800.583769  \n",
       "3                  3   494800.583769  \n",
       "4                  3   286124.084885  \n",
       "...              ...             ...  \n",
       "43600              3   494800.583769  \n",
       "43601              3   422132.000000  \n",
       "43602              3   494800.583769  \n",
       "43603              3   494800.583769  \n",
       "43604              3   494800.583769  \n",
       "\n",
       "[43605 rows x 24 columns]"
      ]
     },
     "execution_count": 11,
     "metadata": {},
     "output_type": "execute_result"
    }
   ],
   "source": [
    "df_train_preprocessed"
   ]
  },
  {
   "cell_type": "code",
   "execution_count": 51,
   "id": "701210e2-e5f8-472d-990c-c9a6ee846119",
   "metadata": {},
   "outputs": [
    {
     "data": {
      "text/plain": [
       "is_gov\n",
       "0    38927\n",
       "5       55\n",
       "2       51\n",
       "3       47\n",
       "1       15\n",
       "4       14\n",
       "6        3\n",
       "Name: count, dtype: int64"
      ]
     },
     "execution_count": 51,
     "metadata": {},
     "output_type": "execute_result"
    }
   ],
   "source": [
    "df_train_preprocessed['is_gov'].value_counts()"
   ]
  },
  {
   "cell_type": "code",
   "execution_count": 12,
   "id": "657f0073-2c32-4391-b088-29832b6f2b0b",
   "metadata": {
    "scrolled": true
   },
   "outputs": [
    {
     "name": "stdout",
     "output_type": "stream",
     "text": [
      "Training until validation scores don't improve for 50 rounds\n",
      "[100]\ttraining's l1: 52.6795\ttraining's SMAPE: 32.8502\tvalid_1's l1: 53.2154\tvalid_1's SMAPE: 32.7871\n",
      "[200]\ttraining's l1: 51.6349\ttraining's SMAPE: 32.1138\tvalid_1's l1: 52.4764\tvalid_1's SMAPE: 32.1875\n",
      "[300]\ttraining's l1: 51.1442\ttraining's SMAPE: 31.8147\tvalid_1's l1: 52.2851\tvalid_1's SMAPE: 32.0359\n",
      "[400]\ttraining's l1: 50.8561\ttraining's SMAPE: 31.6425\tvalid_1's l1: 52.2385\tvalid_1's SMAPE: 31.9796\n",
      "Early stopping, best iteration is:\n",
      "[352]\ttraining's l1: 50.9782\ttraining's SMAPE: 31.7157\tvalid_1's l1: 52.2323\tvalid_1's SMAPE: 31.9909\n"
     ]
    },
    {
     "name": "stderr",
     "output_type": "stream",
     "text": [
      "C:\\Users\\Дарина\\AppData\\Local\\Temp\\ipykernel_16532\\1801613586.py:246: RuntimeWarning: overflow encountered in expm1\n",
      "  return np.expm1(z / 0.7)  # Ignores sqrt term contribution\n"
     ]
    },
    {
     "ename": "ValueError",
     "evalue": "Input contains infinity or a value too large for dtype('float64').",
     "output_type": "error",
     "traceback": [
      "\u001b[1;31m---------------------------------------------------------------------------\u001b[0m",
      "\u001b[1;31mValueError\u001b[0m                                Traceback (most recent call last)",
      "Cell \u001b[1;32mIn[12], line 1\u001b[0m\n\u001b[1;32m----> 1\u001b[0m model, test_predictions \u001b[38;5;241m=\u001b[39m train_model(df_train_preprocessed, df_test_preprocessed)\n",
      "Cell \u001b[1;32mIn[9], line 250\u001b[0m, in \u001b[0;36mtrain_model\u001b[1;34m(df_train_preprocessed, df_test_preprocessed)\u001b[0m\n\u001b[0;32m    248\u001b[0m \u001b[38;5;66;03m# y_pred = np.expm1(model.predict(X_val))\u001b[39;00m\n\u001b[0;32m    249\u001b[0m y_pred \u001b[38;5;241m=\u001b[39m inverse_blend(model\u001b[38;5;241m.\u001b[39mpredict(X_val))\n\u001b[1;32m--> 250\u001b[0m mae \u001b[38;5;241m=\u001b[39m mean_absolute_error(y_val, y_pred)\n\u001b[0;32m    251\u001b[0m smape_score \u001b[38;5;241m=\u001b[39m smape(y_val\u001b[38;5;241m.\u001b[39mvalues, y_pred)\n\u001b[0;32m    253\u001b[0m \u001b[38;5;28mprint\u001b[39m(\u001b[38;5;124mf\u001b[39m\u001b[38;5;124m\"\u001b[39m\u001b[38;5;124mMAE: \u001b[39m\u001b[38;5;132;01m{\u001b[39;00mmae\u001b[38;5;132;01m:\u001b[39;00m\u001b[38;5;124m.2f\u001b[39m\u001b[38;5;132;01m}\u001b[39;00m\u001b[38;5;124m\"\u001b[39m)\n",
      "File \u001b[1;32mC:\\anaconda\\Lib\\site-packages\\sklearn\\utils\\_param_validation.py:213\u001b[0m, in \u001b[0;36mvalidate_params.<locals>.decorator.<locals>.wrapper\u001b[1;34m(*args, **kwargs)\u001b[0m\n\u001b[0;32m    207\u001b[0m \u001b[38;5;28;01mtry\u001b[39;00m:\n\u001b[0;32m    208\u001b[0m     \u001b[38;5;28;01mwith\u001b[39;00m config_context(\n\u001b[0;32m    209\u001b[0m         skip_parameter_validation\u001b[38;5;241m=\u001b[39m(\n\u001b[0;32m    210\u001b[0m             prefer_skip_nested_validation \u001b[38;5;129;01mor\u001b[39;00m global_skip_validation\n\u001b[0;32m    211\u001b[0m         )\n\u001b[0;32m    212\u001b[0m     ):\n\u001b[1;32m--> 213\u001b[0m         \u001b[38;5;28;01mreturn\u001b[39;00m func(\u001b[38;5;241m*\u001b[39margs, \u001b[38;5;241m*\u001b[39m\u001b[38;5;241m*\u001b[39mkwargs)\n\u001b[0;32m    214\u001b[0m \u001b[38;5;28;01mexcept\u001b[39;00m InvalidParameterError \u001b[38;5;28;01mas\u001b[39;00m e:\n\u001b[0;32m    215\u001b[0m     \u001b[38;5;66;03m# When the function is just a wrapper around an estimator, we allow\u001b[39;00m\n\u001b[0;32m    216\u001b[0m     \u001b[38;5;66;03m# the function to delegate validation to the estimator, but we replace\u001b[39;00m\n\u001b[0;32m    217\u001b[0m     \u001b[38;5;66;03m# the name of the estimator by the name of the function in the error\u001b[39;00m\n\u001b[0;32m    218\u001b[0m     \u001b[38;5;66;03m# message to avoid confusion.\u001b[39;00m\n\u001b[0;32m    219\u001b[0m     msg \u001b[38;5;241m=\u001b[39m re\u001b[38;5;241m.\u001b[39msub(\n\u001b[0;32m    220\u001b[0m         \u001b[38;5;124mr\u001b[39m\u001b[38;5;124m\"\u001b[39m\u001b[38;5;124mparameter of \u001b[39m\u001b[38;5;124m\\\u001b[39m\u001b[38;5;124mw+ must be\u001b[39m\u001b[38;5;124m\"\u001b[39m,\n\u001b[0;32m    221\u001b[0m         \u001b[38;5;124mf\u001b[39m\u001b[38;5;124m\"\u001b[39m\u001b[38;5;124mparameter of \u001b[39m\u001b[38;5;132;01m{\u001b[39;00mfunc\u001b[38;5;241m.\u001b[39m\u001b[38;5;18m__qualname__\u001b[39m\u001b[38;5;132;01m}\u001b[39;00m\u001b[38;5;124m must be\u001b[39m\u001b[38;5;124m\"\u001b[39m,\n\u001b[0;32m    222\u001b[0m         \u001b[38;5;28mstr\u001b[39m(e),\n\u001b[0;32m    223\u001b[0m     )\n",
      "File \u001b[1;32mC:\\anaconda\\Lib\\site-packages\\sklearn\\metrics\\_regression.py:216\u001b[0m, in \u001b[0;36mmean_absolute_error\u001b[1;34m(y_true, y_pred, sample_weight, multioutput)\u001b[0m\n\u001b[0;32m    152\u001b[0m \u001b[38;5;129m@validate_params\u001b[39m(\n\u001b[0;32m    153\u001b[0m     {\n\u001b[0;32m    154\u001b[0m         \u001b[38;5;124m\"\u001b[39m\u001b[38;5;124my_true\u001b[39m\u001b[38;5;124m\"\u001b[39m: [\u001b[38;5;124m\"\u001b[39m\u001b[38;5;124marray-like\u001b[39m\u001b[38;5;124m\"\u001b[39m],\n\u001b[1;32m   (...)\u001b[0m\n\u001b[0;32m    162\u001b[0m     y_true, y_pred, \u001b[38;5;241m*\u001b[39m, sample_weight\u001b[38;5;241m=\u001b[39m\u001b[38;5;28;01mNone\u001b[39;00m, multioutput\u001b[38;5;241m=\u001b[39m\u001b[38;5;124m\"\u001b[39m\u001b[38;5;124muniform_average\u001b[39m\u001b[38;5;124m\"\u001b[39m\n\u001b[0;32m    163\u001b[0m ):\n\u001b[0;32m    164\u001b[0m \u001b[38;5;250m    \u001b[39m\u001b[38;5;124;03m\"\"\"Mean absolute error regression loss.\u001b[39;00m\n\u001b[0;32m    165\u001b[0m \n\u001b[0;32m    166\u001b[0m \u001b[38;5;124;03m    Read more in the :ref:`User Guide <mean_absolute_error>`.\u001b[39;00m\n\u001b[1;32m   (...)\u001b[0m\n\u001b[0;32m    214\u001b[0m \u001b[38;5;124;03m    np.float64(0.85...)\u001b[39;00m\n\u001b[0;32m    215\u001b[0m \u001b[38;5;124;03m    \"\"\"\u001b[39;00m\n\u001b[1;32m--> 216\u001b[0m     y_type, y_true, y_pred, multioutput \u001b[38;5;241m=\u001b[39m _check_reg_targets(\n\u001b[0;32m    217\u001b[0m         y_true, y_pred, multioutput\n\u001b[0;32m    218\u001b[0m     )\n\u001b[0;32m    219\u001b[0m     check_consistent_length(y_true, y_pred, sample_weight)\n\u001b[0;32m    220\u001b[0m     output_errors \u001b[38;5;241m=\u001b[39m np\u001b[38;5;241m.\u001b[39maverage(np\u001b[38;5;241m.\u001b[39mabs(y_pred \u001b[38;5;241m-\u001b[39m y_true), weights\u001b[38;5;241m=\u001b[39msample_weight, axis\u001b[38;5;241m=\u001b[39m\u001b[38;5;241m0\u001b[39m)\n",
      "File \u001b[1;32mC:\\anaconda\\Lib\\site-packages\\sklearn\\metrics\\_regression.py:113\u001b[0m, in \u001b[0;36m_check_reg_targets\u001b[1;34m(y_true, y_pred, multioutput, dtype, xp)\u001b[0m\n\u001b[0;32m    111\u001b[0m check_consistent_length(y_true, y_pred)\n\u001b[0;32m    112\u001b[0m y_true \u001b[38;5;241m=\u001b[39m check_array(y_true, ensure_2d\u001b[38;5;241m=\u001b[39m\u001b[38;5;28;01mFalse\u001b[39;00m, dtype\u001b[38;5;241m=\u001b[39mdtype)\n\u001b[1;32m--> 113\u001b[0m y_pred \u001b[38;5;241m=\u001b[39m check_array(y_pred, ensure_2d\u001b[38;5;241m=\u001b[39m\u001b[38;5;28;01mFalse\u001b[39;00m, dtype\u001b[38;5;241m=\u001b[39mdtype)\n\u001b[0;32m    115\u001b[0m \u001b[38;5;28;01mif\u001b[39;00m y_true\u001b[38;5;241m.\u001b[39mndim \u001b[38;5;241m==\u001b[39m \u001b[38;5;241m1\u001b[39m:\n\u001b[0;32m    116\u001b[0m     y_true \u001b[38;5;241m=\u001b[39m xp\u001b[38;5;241m.\u001b[39mreshape(y_true, (\u001b[38;5;241m-\u001b[39m\u001b[38;5;241m1\u001b[39m, \u001b[38;5;241m1\u001b[39m))\n",
      "File \u001b[1;32mC:\\anaconda\\Lib\\site-packages\\sklearn\\utils\\validation.py:1064\u001b[0m, in \u001b[0;36mcheck_array\u001b[1;34m(array, accept_sparse, accept_large_sparse, dtype, order, copy, force_writeable, force_all_finite, ensure_2d, allow_nd, ensure_min_samples, ensure_min_features, estimator, input_name)\u001b[0m\n\u001b[0;32m   1058\u001b[0m     \u001b[38;5;28;01mraise\u001b[39;00m \u001b[38;5;167;01mValueError\u001b[39;00m(\n\u001b[0;32m   1059\u001b[0m         \u001b[38;5;124m\"\u001b[39m\u001b[38;5;124mFound array with dim \u001b[39m\u001b[38;5;132;01m%d\u001b[39;00m\u001b[38;5;124m. \u001b[39m\u001b[38;5;132;01m%s\u001b[39;00m\u001b[38;5;124m expected <= 2.\u001b[39m\u001b[38;5;124m\"\u001b[39m\n\u001b[0;32m   1060\u001b[0m         \u001b[38;5;241m%\u001b[39m (array\u001b[38;5;241m.\u001b[39mndim, estimator_name)\n\u001b[0;32m   1061\u001b[0m     )\n\u001b[0;32m   1063\u001b[0m \u001b[38;5;28;01mif\u001b[39;00m force_all_finite:\n\u001b[1;32m-> 1064\u001b[0m     _assert_all_finite(\n\u001b[0;32m   1065\u001b[0m         array,\n\u001b[0;32m   1066\u001b[0m         input_name\u001b[38;5;241m=\u001b[39minput_name,\n\u001b[0;32m   1067\u001b[0m         estimator_name\u001b[38;5;241m=\u001b[39mestimator_name,\n\u001b[0;32m   1068\u001b[0m         allow_nan\u001b[38;5;241m=\u001b[39mforce_all_finite \u001b[38;5;241m==\u001b[39m \u001b[38;5;124m\"\u001b[39m\u001b[38;5;124mallow-nan\u001b[39m\u001b[38;5;124m\"\u001b[39m,\n\u001b[0;32m   1069\u001b[0m     )\n\u001b[0;32m   1071\u001b[0m \u001b[38;5;28;01mif\u001b[39;00m copy:\n\u001b[0;32m   1072\u001b[0m     \u001b[38;5;28;01mif\u001b[39;00m _is_numpy_namespace(xp):\n\u001b[0;32m   1073\u001b[0m         \u001b[38;5;66;03m# only make a copy if `array` and `array_orig` may share memory`\u001b[39;00m\n",
      "File \u001b[1;32mC:\\anaconda\\Lib\\site-packages\\sklearn\\utils\\validation.py:123\u001b[0m, in \u001b[0;36m_assert_all_finite\u001b[1;34m(X, allow_nan, msg_dtype, estimator_name, input_name)\u001b[0m\n\u001b[0;32m    120\u001b[0m \u001b[38;5;28;01mif\u001b[39;00m first_pass_isfinite:\n\u001b[0;32m    121\u001b[0m     \u001b[38;5;28;01mreturn\u001b[39;00m\n\u001b[1;32m--> 123\u001b[0m _assert_all_finite_element_wise(\n\u001b[0;32m    124\u001b[0m     X,\n\u001b[0;32m    125\u001b[0m     xp\u001b[38;5;241m=\u001b[39mxp,\n\u001b[0;32m    126\u001b[0m     allow_nan\u001b[38;5;241m=\u001b[39mallow_nan,\n\u001b[0;32m    127\u001b[0m     msg_dtype\u001b[38;5;241m=\u001b[39mmsg_dtype,\n\u001b[0;32m    128\u001b[0m     estimator_name\u001b[38;5;241m=\u001b[39mestimator_name,\n\u001b[0;32m    129\u001b[0m     input_name\u001b[38;5;241m=\u001b[39minput_name,\n\u001b[0;32m    130\u001b[0m )\n",
      "File \u001b[1;32mC:\\anaconda\\Lib\\site-packages\\sklearn\\utils\\validation.py:172\u001b[0m, in \u001b[0;36m_assert_all_finite_element_wise\u001b[1;34m(X, xp, allow_nan, msg_dtype, estimator_name, input_name)\u001b[0m\n\u001b[0;32m    155\u001b[0m \u001b[38;5;28;01mif\u001b[39;00m estimator_name \u001b[38;5;129;01mand\u001b[39;00m input_name \u001b[38;5;241m==\u001b[39m \u001b[38;5;124m\"\u001b[39m\u001b[38;5;124mX\u001b[39m\u001b[38;5;124m\"\u001b[39m \u001b[38;5;129;01mand\u001b[39;00m has_nan_error:\n\u001b[0;32m    156\u001b[0m     \u001b[38;5;66;03m# Improve the error message on how to handle missing values in\u001b[39;00m\n\u001b[0;32m    157\u001b[0m     \u001b[38;5;66;03m# scikit-learn.\u001b[39;00m\n\u001b[0;32m    158\u001b[0m     msg_err \u001b[38;5;241m+\u001b[39m\u001b[38;5;241m=\u001b[39m (\n\u001b[0;32m    159\u001b[0m         \u001b[38;5;124mf\u001b[39m\u001b[38;5;124m\"\u001b[39m\u001b[38;5;130;01m\\n\u001b[39;00m\u001b[38;5;132;01m{\u001b[39;00mestimator_name\u001b[38;5;132;01m}\u001b[39;00m\u001b[38;5;124m does not accept missing values\u001b[39m\u001b[38;5;124m\"\u001b[39m\n\u001b[0;32m    160\u001b[0m         \u001b[38;5;124m\"\u001b[39m\u001b[38;5;124m encoded as NaN natively. For supervised learning, you might want\u001b[39m\u001b[38;5;124m\"\u001b[39m\n\u001b[1;32m   (...)\u001b[0m\n\u001b[0;32m    170\u001b[0m         \u001b[38;5;124m\"\u001b[39m\u001b[38;5;124m#estimators-that-handle-nan-values\u001b[39m\u001b[38;5;124m\"\u001b[39m\n\u001b[0;32m    171\u001b[0m     )\n\u001b[1;32m--> 172\u001b[0m \u001b[38;5;28;01mraise\u001b[39;00m \u001b[38;5;167;01mValueError\u001b[39;00m(msg_err)\n",
      "\u001b[1;31mValueError\u001b[0m: Input contains infinity or a value too large for dtype('float64')."
     ]
    }
   ],
   "source": [
    "model, test_predictions = train_model(df_train_preprocessed, df_test_preprocessed)"
   ]
  },
  {
   "cell_type": "code",
   "execution_count": 22,
   "id": "7fcde2c1-0092-47b5-bd73-708179555ca4",
   "metadata": {},
   "outputs": [],
   "source": [
    "from functools import partial"
   ]
  },
  {
   "cell_type": "code",
   "execution_count": 33,
   "id": "d0daae08-5b15-4615-a3bc-54fd04588bb6",
   "metadata": {},
   "outputs": [],
   "source": [
    "def objective(trial, X_train, y_train, X_val, y_val):\n",
    "    \"\"\"Optuna objective function to minimize SMAPE\"\"\"\n",
    "    params = {\n",
    "        'objective': 'regression',\n",
    "        'metric': 'mae',\n",
    "        'verbosity': -1,\n",
    "        'boosting_type': 'gbdt',\n",
    "        'learning_rate': trial.suggest_float('learning_rate', 1e-3, 0.1, log=True),\n",
    "        'num_leaves': trial.suggest_int('num_leaves', 20, 300),\n",
    "        'max_depth': trial.suggest_int('max_depth', 3, 12),\n",
    "        'min_child_samples': trial.suggest_int('min_child_samples', 5, 100),\n",
    "        'feature_fraction': trial.suggest_float('feature_fraction', 0.5, 1.0),\n",
    "        'bagging_fraction': trial.suggest_float('bagging_fraction', 0.5, 1.0),\n",
    "        'bagging_freq': trial.suggest_int('bagging_freq', 0, 10),\n",
    "        'lambda_l1': trial.suggest_float('lambda_l1', 0, 10),\n",
    "        'lambda_l2': trial.suggest_float('lambda_l2', 0, 10),\n",
    "        'seed': 42\n",
    "    }\n",
    "\n",
    "    train_data = lgb.Dataset(X_train, label=y_train)\n",
    "    val_data = lgb.Dataset(X_val, label=y_val, reference=train_data)\n",
    "\n",
    "    model = lgb.train(\n",
    "        params,\n",
    "        train_data,\n",
    "        valid_sets=[val_data],\n",
    "        num_boost_round=1000,\n",
    "        callbacks=[\n",
    "            lgb.early_stopping(stopping_rounds=50),\n",
    "            lgb.log_evaluation(period=100)\n",
    "        ],\n",
    "        feval=smape_metric\n",
    "    )\n",
    "\n",
    "    # Get predictions and convert back to original scale\n",
    "    y_pred = np.expm1(model.predict(X_val))\n",
    "    y_val_orig = np.expm1(y_val)\n",
    "    \n",
    "    return smape(y_val_orig, y_pred)"
   ]
  },
  {
   "cell_type": "code",
   "execution_count": 34,
   "id": "27f8e3df-cb5e-4ce3-bb88-f9b28d456cfc",
   "metadata": {},
   "outputs": [],
   "source": [
    "def train_model(df_train_preprocessed, df_test_preprocessed=None, use_optuna=True, n_trials=100):\n",
    "    df = df_train_preprocessed.copy()\n",
    "    df = df.drop_duplicates(subset='plate', keep='first')\n",
    "\n",
    "    X = df.copy()\n",
    "\n",
    "    y = np.log1p(df['price'])\n",
    "\n",
    "    df['price_bin'] = pd.qcut(df['price'], q=5, labels=False)\n",
    "    X_train, X_val_orig, y_train, y_val = train_test_split(\n",
    "        X, y, test_size=0.2, stratify=df['price_bin'], random_state=42\n",
    "    )\n",
    "\n",
    "    X_train = X_train.drop(columns=['plate', 'price'])\n",
    "\n",
    "    X_val = X_val_orig.drop(columns=['plate', 'price'])\n",
    "\n",
    "    scaler = StandardScaler()\n",
    "    if 'region_encoded' in X_train.columns:\n",
    "        X_train_scaled = X_train.copy()\n",
    "        X_val_scaled = X_val.copy()\n",
    "        X_train_scaled['region_encoded'] = scaler.fit_transform(X_train[['region_encoded']])\n",
    "        X_val_scaled['region_encoded'] = scaler.transform(X_val[['region_encoded']])\n",
    "    else:\n",
    "        X_train_scaled = X_train\n",
    "        X_val_scaled = X_val\n",
    "\n",
    "\n",
    "    if use_optuna:\n",
    "        # Run Optuna optimization\n",
    "        study = optuna.create_study(direction='minimize')\n",
    "        objective_func = partial(\n",
    "            objective,\n",
    "            X_train=X_train,\n",
    "            y_train=y_train,\n",
    "            X_val=X_val,\n",
    "            y_val=y_val\n",
    "        )\n",
    "        study.optimize(objective_func, n_trials=n_trials)\n",
    "        \n",
    "        # Get best params\n",
    "        params = study.best_params\n",
    "        params.update({\n",
    "            'objective': 'regression',\n",
    "            'metric': 'mae',\n",
    "            'verbosity': -1,\n",
    "            'seed': 42\n",
    "        })\n",
    "    else:\n",
    "        params = {\n",
    "            'objective': 'regression',\n",
    "            'metric': 'mae',\n",
    "            'verbosity': -1,\n",
    "            'boosting_type': 'gbdt',\n",
    "            'learning_rate': 0.05,\n",
    "            'num_leaves': 31,\n",
    "            'max_depth': -1,\n",
    "            'seed': 42\n",
    "        }\n",
    "\n",
    "    train_data = lgb.Dataset(X_train, label=y_train)\n",
    "    val_data = lgb.Dataset(X_val, label=y_val, reference=train_data)\n",
    "\n",
    "    params = {\n",
    "        'objective': 'regression',\n",
    "        'metric': 'mae',\n",
    "        'verbosity': -1,\n",
    "        'boosting_type': 'gbdt',\n",
    "        'learning_rate': 0.05,\n",
    "        'num_leaves': 31,\n",
    "        'max_depth': -1,\n",
    "        'seed': 42\n",
    "    }\n",
    "\n",
    "    callbacks = [\n",
    "        lgb.early_stopping(stopping_rounds=50),\n",
    "        lgb.log_evaluation(period=100)\n",
    "    ]\n",
    "\n",
    "    model = lgb.train(\n",
    "        params,\n",
    "        train_data,\n",
    "        valid_sets=[train_data, val_data],\n",
    "        num_boost_round=1000,\n",
    "        callbacks=callbacks,\n",
    "        feval=smape_metric\n",
    "    )\n",
    "\n",
    "\n",
    "    y_pred = np.expm1(model.predict(X_val))\n",
    "    mae = mean_absolute_error(y_val, y_pred)\n",
    "    smape_score = smape(y_val.values, y_pred)\n",
    "\n",
    "    print(f\"MAE: {mae:.2f}\")\n",
    "    print(f\"SMAPE: {smape_score:.2f}%\")\n",
    "\n",
    "    lgb.plot_importance(model, max_num_features=20, importance_type='gain', figsize=(10, 6))\n",
    "    plt.title(\"Feature Importance (Gain)\")\n",
    "    plt.show()\n",
    "\n",
    "    analyze_errors(X_val_orig, y_val, y_pred)\n",
    "    \n",
    "    if df_test_preprocessed is not None:\n",
    "        df_test = df_test_preprocessed.copy()\n",
    "        df_test = df_test.drop(columns=['plate', 'price'], errors='ignore')  # <-- Fix here\n",
    "        test_preds = np.expm1(model.predict(df_test, num_iteration=model.best_iteration)) \n",
    "        return model, test_preds\n",
    "\n",
    "    return model"
   ]
  },
  {
   "cell_type": "code",
   "execution_count": 35,
   "id": "77993f9d-c9fa-4336-b509-f5aad45f8307",
   "metadata": {},
   "outputs": [
    {
     "name": "stderr",
     "output_type": "stream",
     "text": [
      "[I 2025-05-31 02:14:44,015] A new study created in memory with name: no-name-1e920cab-485d-4aa2-8877-e2f5059852ca\n"
     ]
    },
    {
     "name": "stdout",
     "output_type": "stream",
     "text": [
      "Training until validation scores don't improve for 50 rounds\n",
      "[100]\tvalid_0's l1: 0.81731\tvalid_0's SMAPE: 6.73393\n",
      "[200]\tvalid_0's l1: 0.758012\tvalid_0's SMAPE: 6.24875\n",
      "[300]\tvalid_0's l1: 0.726839\tvalid_0's SMAPE: 5.99447\n",
      "[400]\tvalid_0's l1: 0.709727\tvalid_0's SMAPE: 5.85469\n",
      "[500]\tvalid_0's l1: 0.699563\tvalid_0's SMAPE: 5.77151\n",
      "[600]\tvalid_0's l1: 0.693624\tvalid_0's SMAPE: 5.72284\n",
      "[700]\tvalid_0's l1: 0.68941\tvalid_0's SMAPE: 5.6881\n",
      "[800]\tvalid_0's l1: 0.686553\tvalid_0's SMAPE: 5.66452\n",
      "[900]\tvalid_0's l1: 0.684452\tvalid_0's SMAPE: 5.6471\n",
      "[1000]\tvalid_0's l1: 0.682808\tvalid_0's SMAPE: 5.63343\n",
      "Did not meet early stopping. Best iteration is:\n",
      "[1000]\tvalid_0's l1: 0.682808\tvalid_0's SMAPE: 5.63343\n"
     ]
    },
    {
     "name": "stderr",
     "output_type": "stream",
     "text": [
      "[I 2025-05-31 02:14:46,044] Trial 0 finished with value: 60.679503431919215 and parameters: {'learning_rate': 0.00494421724555882, 'num_leaves': 127, 'max_depth': 8, 'min_child_samples': 90, 'feature_fraction': 0.5885212139436883, 'bagging_fraction': 0.76063531640104, 'bagging_freq': 1, 'lambda_l1': 8.668288989830424, 'lambda_l2': 6.994213567349751}. Best is trial 0 with value: 60.679503431919215.\n"
     ]
    },
    {
     "name": "stdout",
     "output_type": "stream",
     "text": [
      "Training until validation scores don't improve for 50 rounds\n",
      "[100]\tvalid_0's l1: 0.678828\tvalid_0's SMAPE: 5.6009\n",
      "[200]\tvalid_0's l1: 0.67317\tvalid_0's SMAPE: 5.5538\n",
      "[300]\tvalid_0's l1: 0.671323\tvalid_0's SMAPE: 5.53871\n",
      "[400]\tvalid_0's l1: 0.670244\tvalid_0's SMAPE: 5.53\n",
      "[500]\tvalid_0's l1: 0.669536\tvalid_0's SMAPE: 5.52432\n",
      "[600]\tvalid_0's l1: 0.669274\tvalid_0's SMAPE: 5.52224\n",
      "[700]\tvalid_0's l1: 0.668968\tvalid_0's SMAPE: 5.51972\n",
      "[800]\tvalid_0's l1: 0.668639\tvalid_0's SMAPE: 5.517\n",
      "Early stopping, best iteration is:\n",
      "[840]\tvalid_0's l1: 0.668536\tvalid_0's SMAPE: 5.51616\n"
     ]
    },
    {
     "name": "stderr",
     "output_type": "stream",
     "text": [
      "[I 2025-05-31 02:14:48,043] Trial 1 finished with value: 59.51780273537296 and parameters: {'learning_rate': 0.04653834869254019, 'num_leaves': 296, 'max_depth': 8, 'min_child_samples': 80, 'feature_fraction': 0.7169794730016317, 'bagging_fraction': 0.9637517713725905, 'bagging_freq': 6, 'lambda_l1': 8.048977257580608, 'lambda_l2': 2.0926595690653773}. Best is trial 1 with value: 59.51780273537296.\n"
     ]
    },
    {
     "name": "stdout",
     "output_type": "stream",
     "text": [
      "Training until validation scores don't improve for 50 rounds\n",
      "[100]\tvalid_0's l1: 0.888449\tvalid_0's SMAPE: 7.31903\n",
      "[200]\tvalid_0's l1: 0.852981\tvalid_0's SMAPE: 7.02664\n",
      "[300]\tvalid_0's l1: 0.823985\tvalid_0's SMAPE: 6.78822\n",
      "[400]\tvalid_0's l1: 0.799981\tvalid_0's SMAPE: 6.59125\n",
      "[500]\tvalid_0's l1: 0.779957\tvalid_0's SMAPE: 6.42726\n",
      "[600]\tvalid_0's l1: 0.763383\tvalid_0's SMAPE: 6.29165\n",
      "[700]\tvalid_0's l1: 0.749497\tvalid_0's SMAPE: 6.1781\n",
      "[800]\tvalid_0's l1: 0.738311\tvalid_0's SMAPE: 6.08686\n",
      "[900]\tvalid_0's l1: 0.729288\tvalid_0's SMAPE: 6.01327\n",
      "[1000]\tvalid_0's l1: 0.721705\tvalid_0's SMAPE: 5.95139\n",
      "Did not meet early stopping. Best iteration is:\n",
      "[1000]\tvalid_0's l1: 0.721705\tvalid_0's SMAPE: 5.95139\n"
     ]
    },
    {
     "name": "stderr",
     "output_type": "stream",
     "text": [
      "[I 2025-05-31 02:14:51,106] Trial 2 finished with value: 63.88427285311924 and parameters: {'learning_rate': 0.0013978586674226468, 'num_leaves': 193, 'max_depth': 9, 'min_child_samples': 68, 'feature_fraction': 0.751429904468184, 'bagging_fraction': 0.5119963168213019, 'bagging_freq': 2, 'lambda_l1': 0.9816857115077504, 'lambda_l2': 8.0541537156531}. Best is trial 1 with value: 59.51780273537296.\n"
     ]
    },
    {
     "name": "stdout",
     "output_type": "stream",
     "text": [
      "Training until validation scores don't improve for 50 rounds\n",
      "[100]\tvalid_0's l1: 0.890371\tvalid_0's SMAPE: 7.33491\n",
      "[200]\tvalid_0's l1: 0.856333\tvalid_0's SMAPE: 7.05431\n",
      "[300]\tvalid_0's l1: 0.82869\tvalid_0's SMAPE: 6.82704\n",
      "[400]\tvalid_0's l1: 0.805455\tvalid_0's SMAPE: 6.6364\n",
      "[500]\tvalid_0's l1: 0.7856\tvalid_0's SMAPE: 6.47374\n",
      "[600]\tvalid_0's l1: 0.769033\tvalid_0's SMAPE: 6.33819\n",
      "[700]\tvalid_0's l1: 0.755216\tvalid_0's SMAPE: 6.22521\n",
      "[800]\tvalid_0's l1: 0.744025\tvalid_0's SMAPE: 6.13396\n",
      "[900]\tvalid_0's l1: 0.735067\tvalid_0's SMAPE: 6.06081\n",
      "[1000]\tvalid_0's l1: 0.727423\tvalid_0's SMAPE: 5.99843\n",
      "Did not meet early stopping. Best iteration is:\n",
      "[1000]\tvalid_0's l1: 0.727423\tvalid_0's SMAPE: 5.99843\n"
     ]
    },
    {
     "name": "stderr",
     "output_type": "stream",
     "text": [
      "[I 2025-05-31 02:14:53,794] Trial 3 finished with value: 64.34950574189145 and parameters: {'learning_rate': 0.0013717338776483054, 'num_leaves': 230, 'max_depth': 9, 'min_child_samples': 49, 'feature_fraction': 0.6511222068150628, 'bagging_fraction': 0.5808687019025054, 'bagging_freq': 10, 'lambda_l1': 5.741497349742865, 'lambda_l2': 7.8342743269005}. Best is trial 1 with value: 59.51780273537296.\n"
     ]
    },
    {
     "name": "stdout",
     "output_type": "stream",
     "text": [
      "Training until validation scores don't improve for 50 rounds\n",
      "[100]\tvalid_0's l1: 0.783756\tvalid_0's SMAPE: 6.46147\n",
      "[200]\tvalid_0's l1: 0.736311\tvalid_0's SMAPE: 6.07548\n",
      "[300]\tvalid_0's l1: 0.717764\tvalid_0's SMAPE: 5.92524\n",
      "[400]\tvalid_0's l1: 0.707319\tvalid_0's SMAPE: 5.84052\n",
      "[500]\tvalid_0's l1: 0.701382\tvalid_0's SMAPE: 5.79185\n",
      "[600]\tvalid_0's l1: 0.697173\tvalid_0's SMAPE: 5.75726\n",
      "[700]\tvalid_0's l1: 0.693734\tvalid_0's SMAPE: 5.72859\n",
      "[800]\tvalid_0's l1: 0.691116\tvalid_0's SMAPE: 5.70683\n",
      "[900]\tvalid_0's l1: 0.689027\tvalid_0's SMAPE: 5.68947\n",
      "[1000]\tvalid_0's l1: 0.6869\tvalid_0's SMAPE: 5.67172\n",
      "Did not meet early stopping. Best iteration is:\n",
      "[1000]\tvalid_0's l1: 0.6869\tvalid_0's SMAPE: 5.67172\n"
     ]
    },
    {
     "name": "stderr",
     "output_type": "stream",
     "text": [
      "[I 2025-05-31 02:14:55,180] Trial 4 finished with value: 61.03717446129363 and parameters: {'learning_rate': 0.00875815907872449, 'num_leaves': 100, 'max_depth': 4, 'min_child_samples': 24, 'feature_fraction': 0.7403145963363288, 'bagging_fraction': 0.6645131876729192, 'bagging_freq': 4, 'lambda_l1': 1.2127762599907377, 'lambda_l2': 6.95018183170861}. Best is trial 1 with value: 59.51780273537296.\n"
     ]
    },
    {
     "name": "stdout",
     "output_type": "stream",
     "text": [
      "Training until validation scores don't improve for 50 rounds\n",
      "[100]\tvalid_0's l1: 0.886053\tvalid_0's SMAPE: 7.29936\n",
      "[200]\tvalid_0's l1: 0.84914\tvalid_0's SMAPE: 6.99535\n",
      "[300]\tvalid_0's l1: 0.819497\tvalid_0's SMAPE: 6.75193\n",
      "[400]\tvalid_0's l1: 0.795405\tvalid_0's SMAPE: 6.55454\n",
      "[500]\tvalid_0's l1: 0.775576\tvalid_0's SMAPE: 6.39232\n",
      "[600]\tvalid_0's l1: 0.759305\tvalid_0's SMAPE: 6.25933\n",
      "[700]\tvalid_0's l1: 0.746209\tvalid_0's SMAPE: 6.15246\n",
      "[800]\tvalid_0's l1: 0.73596\tvalid_0's SMAPE: 6.06883\n",
      "[900]\tvalid_0's l1: 0.727372\tvalid_0's SMAPE: 5.99881\n",
      "[1000]\tvalid_0's l1: 0.720301\tvalid_0's SMAPE: 5.94111\n",
      "Did not meet early stopping. Best iteration is:\n",
      "[1000]\tvalid_0's l1: 0.720301\tvalid_0's SMAPE: 5.94111\n"
     ]
    },
    {
     "name": "stderr",
     "output_type": "stream",
     "text": [
      "[I 2025-05-31 02:14:57,976] Trial 5 finished with value: 63.811176532675404 and parameters: {'learning_rate': 0.0014493126454267068, 'num_leaves': 216, 'max_depth': 7, 'min_child_samples': 36, 'feature_fraction': 0.8893245075361049, 'bagging_fraction': 0.7633792533610559, 'bagging_freq': 9, 'lambda_l1': 8.614592045898084, 'lambda_l2': 2.1517936116521152}. Best is trial 1 with value: 59.51780273537296.\n"
     ]
    },
    {
     "name": "stdout",
     "output_type": "stream",
     "text": [
      "Training until validation scores don't improve for 50 rounds\n",
      "[100]\tvalid_0's l1: 0.687995\tvalid_0's SMAPE: 5.67761\n",
      "[200]\tvalid_0's l1: 0.676796\tvalid_0's SMAPE: 5.58425\n",
      "[300]\tvalid_0's l1: 0.673852\tvalid_0's SMAPE: 5.55974\n",
      "[400]\tvalid_0's l1: 0.672184\tvalid_0's SMAPE: 5.54623\n",
      "[500]\tvalid_0's l1: 0.671078\tvalid_0's SMAPE: 5.53735\n",
      "[600]\tvalid_0's l1: 0.670355\tvalid_0's SMAPE: 5.53152\n",
      "[700]\tvalid_0's l1: 0.66969\tvalid_0's SMAPE: 5.52608\n",
      "[800]\tvalid_0's l1: 0.669357\tvalid_0's SMAPE: 5.52332\n",
      "[900]\tvalid_0's l1: 0.669003\tvalid_0's SMAPE: 5.52042\n"
     ]
    },
    {
     "name": "stderr",
     "output_type": "stream",
     "text": [
      "[I 2025-05-31 02:15:00,645] Trial 6 finished with value: 59.550217823422344 and parameters: {'learning_rate': 0.03368616739537059, 'num_leaves': 129, 'max_depth': 8, 'min_child_samples': 86, 'feature_fraction': 0.5252482120177022, 'bagging_fraction': 0.9769605387958403, 'bagging_freq': 3, 'lambda_l1': 1.524599805489154, 'lambda_l2': 6.744319324627247}. Best is trial 1 with value: 59.51780273537296.\n"
     ]
    },
    {
     "name": "stdout",
     "output_type": "stream",
     "text": [
      "[1000]\tvalid_0's l1: 0.668852\tvalid_0's SMAPE: 5.51926\n",
      "Did not meet early stopping. Best iteration is:\n",
      "[990]\tvalid_0's l1: 0.668836\tvalid_0's SMAPE: 5.51911\n",
      "Training until validation scores don't improve for 50 rounds\n",
      "[100]\tvalid_0's l1: 0.791075\tvalid_0's SMAPE: 6.51811\n",
      "[200]\tvalid_0's l1: 0.731526\tvalid_0's SMAPE: 6.03086\n",
      "[300]\tvalid_0's l1: 0.705225\tvalid_0's SMAPE: 5.81588\n",
      "[400]\tvalid_0's l1: 0.692721\tvalid_0's SMAPE: 5.7138\n",
      "[500]\tvalid_0's l1: 0.686087\tvalid_0's SMAPE: 5.65969\n",
      "[600]\tvalid_0's l1: 0.682279\tvalid_0's SMAPE: 5.6285\n",
      "[700]\tvalid_0's l1: 0.679636\tvalid_0's SMAPE: 5.60675\n",
      "[800]\tvalid_0's l1: 0.677633\tvalid_0's SMAPE: 5.59033\n",
      "[900]\tvalid_0's l1: 0.675945\tvalid_0's SMAPE: 5.57635\n",
      "[1000]\tvalid_0's l1: 0.674764\tvalid_0's SMAPE: 5.56662\n",
      "Did not meet early stopping. Best iteration is:\n",
      "[1000]\tvalid_0's l1: 0.674764\tvalid_0's SMAPE: 5.56662\n"
     ]
    },
    {
     "name": "stderr",
     "output_type": "stream",
     "text": [
      "[I 2025-05-31 02:15:04,465] Trial 7 finished with value: 60.02708073164727 and parameters: {'learning_rate': 0.005803589255640684, 'num_leaves': 297, 'max_depth': 11, 'min_child_samples': 66, 'feature_fraction': 0.9902406469553798, 'bagging_fraction': 0.9027428121648846, 'bagging_freq': 5, 'lambda_l1': 9.720059627969205, 'lambda_l2': 3.271417954112258}. Best is trial 1 with value: 59.51780273537296.\n"
     ]
    },
    {
     "name": "stdout",
     "output_type": "stream",
     "text": [
      "Training until validation scores don't improve for 50 rounds\n",
      "[100]\tvalid_0's l1: 0.696013\tvalid_0's SMAPE: 5.74748\n",
      "[200]\tvalid_0's l1: 0.683458\tvalid_0's SMAPE: 5.6425\n",
      "[300]\tvalid_0's l1: 0.677915\tvalid_0's SMAPE: 5.59612\n",
      "[400]\tvalid_0's l1: 0.675406\tvalid_0's SMAPE: 5.57511\n",
      "[500]\tvalid_0's l1: 0.67356\tvalid_0's SMAPE: 5.55966\n",
      "[600]\tvalid_0's l1: 0.672323\tvalid_0's SMAPE: 5.54913\n",
      "[700]\tvalid_0's l1: 0.671351\tvalid_0's SMAPE: 5.54098\n",
      "[800]\tvalid_0's l1: 0.670835\tvalid_0's SMAPE: 5.53681\n",
      "[900]\tvalid_0's l1: 0.670303\tvalid_0's SMAPE: 5.5324\n"
     ]
    },
    {
     "name": "stderr",
     "output_type": "stream",
     "text": [
      "[I 2025-05-31 02:15:05,837] Trial 8 finished with value: 59.64380336577505 and parameters: {'learning_rate': 0.055330689539202074, 'num_leaves': 257, 'max_depth': 4, 'min_child_samples': 35, 'feature_fraction': 0.8931999315893033, 'bagging_fraction': 0.9202894647846429, 'bagging_freq': 9, 'lambda_l1': 6.761956642529782, 'lambda_l2': 7.6255956505328415}. Best is trial 1 with value: 59.51780273537296.\n"
     ]
    },
    {
     "name": "stdout",
     "output_type": "stream",
     "text": [
      "[1000]\tvalid_0's l1: 0.669854\tvalid_0's SMAPE: 5.5286\n",
      "Did not meet early stopping. Best iteration is:\n",
      "[999]\tvalid_0's l1: 0.669853\tvalid_0's SMAPE: 5.52858\n",
      "Training until validation scores don't improve for 50 rounds\n",
      "[100]\tvalid_0's l1: 0.684771\tvalid_0's SMAPE: 5.65106\n",
      "[200]\tvalid_0's l1: 0.675395\tvalid_0's SMAPE: 5.57349\n",
      "[300]\tvalid_0's l1: 0.671897\tvalid_0's SMAPE: 5.54468\n",
      "[400]\tvalid_0's l1: 0.670294\tvalid_0's SMAPE: 5.53152\n",
      "[500]\tvalid_0's l1: 0.669443\tvalid_0's SMAPE: 5.52449\n",
      "[600]\tvalid_0's l1: 0.668797\tvalid_0's SMAPE: 5.5191\n",
      "[700]\tvalid_0's l1: 0.668383\tvalid_0's SMAPE: 5.51565\n",
      "[800]\tvalid_0's l1: 0.668162\tvalid_0's SMAPE: 5.51379\n",
      "[900]\tvalid_0's l1: 0.668151\tvalid_0's SMAPE: 5.51365\n",
      "Early stopping, best iteration is:\n",
      "[860]\tvalid_0's l1: 0.668095\tvalid_0's SMAPE: 5.51324\n"
     ]
    },
    {
     "name": "stderr",
     "output_type": "stream",
     "text": [
      "[I 2025-05-31 02:15:08,045] Trial 9 finished with value: 59.48535102570344 and parameters: {'learning_rate': 0.03655494718880775, 'num_leaves': 173, 'max_depth': 7, 'min_child_samples': 60, 'feature_fraction': 0.6777835544478306, 'bagging_fraction': 0.8857782764433079, 'bagging_freq': 3, 'lambda_l1': 2.6562756627337523, 'lambda_l2': 6.987290127654374}. Best is trial 9 with value: 59.48535102570344.\n"
     ]
    },
    {
     "name": "stdout",
     "output_type": "stream",
     "text": [
      "Training until validation scores don't improve for 50 rounds\n",
      "[100]\tvalid_0's l1: 0.717116\tvalid_0's SMAPE: 5.91764\n",
      "[200]\tvalid_0's l1: 0.69124\tvalid_0's SMAPE: 5.70664\n",
      "[300]\tvalid_0's l1: 0.683106\tvalid_0's SMAPE: 5.63982\n",
      "[400]\tvalid_0's l1: 0.67864\tvalid_0's SMAPE: 5.60271\n",
      "[500]\tvalid_0's l1: 0.675976\tvalid_0's SMAPE: 5.58037\n",
      "[600]\tvalid_0's l1: 0.674014\tvalid_0's SMAPE: 5.5639\n",
      "[700]\tvalid_0's l1: 0.672498\tvalid_0's SMAPE: 5.5512\n",
      "[800]\tvalid_0's l1: 0.671378\tvalid_0's SMAPE: 5.54183\n",
      "[900]\tvalid_0's l1: 0.670522\tvalid_0's SMAPE: 5.5348\n"
     ]
    },
    {
     "name": "stderr",
     "output_type": "stream",
     "text": [
      "[I 2025-05-31 02:15:09,773] Trial 10 finished with value: 59.669787145552576 and parameters: {'learning_rate': 0.019594285505725763, 'num_leaves': 21, 'max_depth': 6, 'min_child_samples': 10, 'feature_fraction': 0.8242939832008949, 'bagging_fraction': 0.8538750277511822, 'bagging_freq': 0, 'lambda_l1': 3.1071349343623464, 'lambda_l2': 4.924348295663254}. Best is trial 9 with value: 59.48535102570344.\n"
     ]
    },
    {
     "name": "stdout",
     "output_type": "stream",
     "text": [
      "[1000]\tvalid_0's l1: 0.669998\tvalid_0's SMAPE: 5.53046\n",
      "Did not meet early stopping. Best iteration is:\n",
      "[1000]\tvalid_0's l1: 0.669998\tvalid_0's SMAPE: 5.53046\n",
      "Training until validation scores don't improve for 50 rounds\n",
      "[100]\tvalid_0's l1: 0.671745\tvalid_0's SMAPE: 5.5422\n",
      "[200]\tvalid_0's l1: 0.668807\tvalid_0's SMAPE: 5.51822\n",
      "Early stopping, best iteration is:\n",
      "[200]\tvalid_0's l1: 0.668807\tvalid_0's SMAPE: 5.51822\n"
     ]
    },
    {
     "name": "stderr",
     "output_type": "stream",
     "text": [
      "[I 2025-05-31 02:15:10,732] Trial 11 finished with value: 59.521971625700665 and parameters: {'learning_rate': 0.09050863318713816, 'num_leaves': 61, 'max_depth': 12, 'min_child_samples': 72, 'feature_fraction': 0.6884986001524833, 'bagging_fraction': 0.838763882794048, 'bagging_freq': 7, 'lambda_l1': 3.8788410284335137, 'lambda_l2': 0.05287808396802074}. Best is trial 9 with value: 59.48535102570344.\n"
     ]
    },
    {
     "name": "stdout",
     "output_type": "stream",
     "text": [
      "Training until validation scores don't improve for 50 rounds\n",
      "[100]\tvalid_0's l1: 0.710765\tvalid_0's SMAPE: 5.86463\n",
      "[200]\tvalid_0's l1: 0.689364\tvalid_0's SMAPE: 5.68915\n",
      "[300]\tvalid_0's l1: 0.682701\tvalid_0's SMAPE: 5.63378\n",
      "[400]\tvalid_0's l1: 0.679664\tvalid_0's SMAPE: 5.60845\n",
      "[500]\tvalid_0's l1: 0.677159\tvalid_0's SMAPE: 5.58748\n",
      "[600]\tvalid_0's l1: 0.675728\tvalid_0's SMAPE: 5.57559\n",
      "[700]\tvalid_0's l1: 0.674335\tvalid_0's SMAPE: 5.56405\n",
      "[800]\tvalid_0's l1: 0.673512\tvalid_0's SMAPE: 5.55737\n",
      "[900]\tvalid_0's l1: 0.673055\tvalid_0's SMAPE: 5.55372\n"
     ]
    },
    {
     "name": "stderr",
     "output_type": "stream",
     "text": [
      "[I 2025-05-31 02:15:12,816] Trial 12 finished with value: 59.84347897569019 and parameters: {'learning_rate': 0.02115678270851435, 'num_leaves': 173, 'max_depth': 6, 'min_child_samples': 99, 'feature_fraction': 0.6230311267589288, 'bagging_fraction': 0.9840207949296276, 'bagging_freq': 7, 'lambda_l1': 6.802781513892352, 'lambda_l2': 9.52710344647145}. Best is trial 9 with value: 59.48535102570344.\n"
     ]
    },
    {
     "name": "stdout",
     "output_type": "stream",
     "text": [
      "[1000]\tvalid_0's l1: 0.672579\tvalid_0's SMAPE: 5.54983\n",
      "Did not meet early stopping. Best iteration is:\n",
      "[1000]\tvalid_0's l1: 0.672579\tvalid_0's SMAPE: 5.54983\n",
      "Training until validation scores don't improve for 50 rounds\n",
      "[100]\tvalid_0's l1: 0.670753\tvalid_0's SMAPE: 5.53376\n",
      "[200]\tvalid_0's l1: 0.669336\tvalid_0's SMAPE: 5.52254\n",
      "[300]\tvalid_0's l1: 0.668698\tvalid_0's SMAPE: 5.51735\n"
     ]
    },
    {
     "name": "stderr",
     "output_type": "stream",
     "text": [
      "[I 2025-05-31 02:15:14,243] Trial 13 finished with value: 59.4982531535109 and parameters: {'learning_rate': 0.08741795585322581, 'num_leaves': 291, 'max_depth': 10, 'min_child_samples': 56, 'feature_fraction': 0.740618903876617, 'bagging_fraction': 0.8344355558821734, 'bagging_freq': 6, 'lambda_l1': 3.328840150045653, 'lambda_l2': 4.691973123847031}. Best is trial 9 with value: 59.48535102570344.\n"
     ]
    },
    {
     "name": "stdout",
     "output_type": "stream",
     "text": [
      "Early stopping, best iteration is:\n",
      "[323]\tvalid_0's l1: 0.668503\tvalid_0's SMAPE: 5.51556\n",
      "Training until validation scores don't improve for 50 rounds\n",
      "[100]\tvalid_0's l1: 0.67049\tvalid_0's SMAPE: 5.53206\n",
      "[200]\tvalid_0's l1: 0.66873\tvalid_0's SMAPE: 5.51768\n"
     ]
    },
    {
     "name": "stderr",
     "output_type": "stream",
     "text": [
      "[I 2025-05-31 02:15:15,273] Trial 14 finished with value: 59.49920362998454 and parameters: {'learning_rate': 0.09071477812908536, 'num_leaves': 255, 'max_depth': 10, 'min_child_samples': 53, 'feature_fraction': 0.8088993461820813, 'bagging_fraction': 0.8077220126906831, 'bagging_freq': 4, 'lambda_l1': 3.066646756983911, 'lambda_l2': 5.507761995857978}. Best is trial 9 with value: 59.48535102570344.\n"
     ]
    },
    {
     "name": "stdout",
     "output_type": "stream",
     "text": [
      "Early stopping, best iteration is:\n",
      "[217]\tvalid_0's l1: 0.668273\tvalid_0's SMAPE: 5.51395\n",
      "Training until validation scores don't improve for 50 rounds\n",
      "[100]\tvalid_0's l1: 0.69614\tvalid_0's SMAPE: 5.74413\n",
      "[200]\tvalid_0's l1: 0.678423\tvalid_0's SMAPE: 5.59764\n",
      "[300]\tvalid_0's l1: 0.674174\tvalid_0's SMAPE: 5.56234\n",
      "[400]\tvalid_0's l1: 0.671745\tvalid_0's SMAPE: 5.54234\n",
      "[500]\tvalid_0's l1: 0.670777\tvalid_0's SMAPE: 5.53457\n",
      "[600]\tvalid_0's l1: 0.669955\tvalid_0's SMAPE: 5.52799\n",
      "[700]\tvalid_0's l1: 0.669326\tvalid_0's SMAPE: 5.52295\n",
      "[800]\tvalid_0's l1: 0.669068\tvalid_0's SMAPE: 5.5208\n",
      "Early stopping, best iteration is:\n",
      "[810]\tvalid_0's l1: 0.669011\tvalid_0's SMAPE: 5.52036\n"
     ]
    },
    {
     "name": "stderr",
     "output_type": "stream",
     "text": [
      "[I 2025-05-31 02:15:18,137] Trial 15 finished with value: 59.54499525275503 and parameters: {'learning_rate': 0.023827056192508685, 'num_leaves': 144, 'max_depth': 12, 'min_child_samples': 50, 'feature_fraction': 0.558631851943809, 'bagging_fraction': 0.6723112883072782, 'bagging_freq': 6, 'lambda_l1': 4.513300122413508, 'lambda_l2': 4.8385342721258295}. Best is trial 9 with value: 59.48535102570344.\n"
     ]
    },
    {
     "name": "stdout",
     "output_type": "stream",
     "text": [
      "Training until validation scores don't improve for 50 rounds\n",
      "[100]\tvalid_0's l1: 0.673581\tvalid_0's SMAPE: 5.55759\n",
      "[200]\tvalid_0's l1: 0.669701\tvalid_0's SMAPE: 5.52595\n",
      "[300]\tvalid_0's l1: 0.66908\tvalid_0's SMAPE: 5.52084\n",
      "[400]\tvalid_0's l1: 0.668655\tvalid_0's SMAPE: 5.51742\n",
      "Early stopping, best iteration is:\n",
      "[392]\tvalid_0's l1: 0.668557\tvalid_0's SMAPE: 5.51656\n"
     ]
    },
    {
     "name": "stderr",
     "output_type": "stream",
     "text": [
      "[I 2025-05-31 02:15:19,781] Trial 16 finished with value: 59.51737787731376 and parameters: {'learning_rate': 0.05610031557968978, 'num_leaves': 78, 'max_depth': 10, 'min_child_samples': 57, 'feature_fraction': 0.7909838909159581, 'bagging_fraction': 0.8865363181556333, 'bagging_freq': 2, 'lambda_l1': 2.1954074113129174, 'lambda_l2': 9.665854924347503}. Best is trial 9 with value: 59.48535102570344.\n"
     ]
    },
    {
     "name": "stdout",
     "output_type": "stream",
     "text": [
      "Training until validation scores don't improve for 50 rounds\n",
      "[100]\tvalid_0's l1: 0.673765\tvalid_0's SMAPE: 5.56144\n",
      "[200]\tvalid_0's l1: 0.669567\tvalid_0's SMAPE: 5.52616\n",
      "[300]\tvalid_0's l1: 0.669208\tvalid_0's SMAPE: 5.52304\n",
      "Early stopping, best iteration is:\n",
      "[266]\tvalid_0's l1: 0.66889\tvalid_0's SMAPE: 5.52047\n"
     ]
    },
    {
     "name": "stderr",
     "output_type": "stream",
     "text": [
      "[I 2025-05-31 02:15:20,431] Trial 17 finished with value: 59.55616581550731 and parameters: {'learning_rate': 0.0998188675350883, 'num_leaves': 179, 'max_depth': 6, 'min_child_samples': 38, 'feature_fraction': 0.6635327272872964, 'bagging_fraction': 0.8083047614976676, 'bagging_freq': 4, 'lambda_l1': 0.09727963080140789, 'lambda_l2': 3.6618507443611246}. Best is trial 9 with value: 59.48535102570344.\n"
     ]
    },
    {
     "name": "stdout",
     "output_type": "stream",
     "text": [
      "Training until validation scores don't improve for 50 rounds\n",
      "[100]\tvalid_0's l1: 0.775676\tvalid_0's SMAPE: 6.39551\n",
      "[200]\tvalid_0's l1: 0.7363\tvalid_0's SMAPE: 6.07615\n",
      "[300]\tvalid_0's l1: 0.721457\tvalid_0's SMAPE: 5.95634\n",
      "[400]\tvalid_0's l1: 0.714076\tvalid_0's SMAPE: 5.89673\n",
      "[500]\tvalid_0's l1: 0.708185\tvalid_0's SMAPE: 5.8482\n",
      "[600]\tvalid_0's l1: 0.705342\tvalid_0's SMAPE: 5.825\n",
      "[700]\tvalid_0's l1: 0.70169\tvalid_0's SMAPE: 5.79409\n",
      "[800]\tvalid_0's l1: 0.698543\tvalid_0's SMAPE: 5.76797\n",
      "[900]\tvalid_0's l1: 0.697094\tvalid_0's SMAPE: 5.75596\n",
      "[1000]\tvalid_0's l1: 0.694731\tvalid_0's SMAPE: 5.73613\n",
      "Did not meet early stopping. Best iteration is:\n",
      "[1000]\tvalid_0's l1: 0.694731\tvalid_0's SMAPE: 5.73613\n"
     ]
    },
    {
     "name": "stderr",
     "output_type": "stream",
     "text": [
      "[I 2025-05-31 02:15:21,525] Trial 18 finished with value: 61.64139359902466 and parameters: {'learning_rate': 0.012117294151492236, 'num_leaves': 265, 'max_depth': 3, 'min_child_samples': 63, 'feature_fraction': 0.8792560450489428, 'bagging_fraction': 0.688221551292305, 'bagging_freq': 7, 'lambda_l1': 5.0107271564073335, 'lambda_l2': 5.67456053016114}. Best is trial 9 with value: 59.48535102570344.\n"
     ]
    },
    {
     "name": "stdout",
     "output_type": "stream",
     "text": [
      "Training until validation scores don't improve for 50 rounds\n",
      "[100]\tvalid_0's l1: 0.685842\tvalid_0's SMAPE: 5.65901\n",
      "[200]\tvalid_0's l1: 0.67505\tvalid_0's SMAPE: 5.56947\n",
      "[300]\tvalid_0's l1: 0.67231\tvalid_0's SMAPE: 5.54678\n",
      "[400]\tvalid_0's l1: 0.670833\tvalid_0's SMAPE: 5.53485\n",
      "[500]\tvalid_0's l1: 0.670044\tvalid_0's SMAPE: 5.52838\n",
      "Early stopping, best iteration is:\n",
      "[549]\tvalid_0's l1: 0.669837\tvalid_0's SMAPE: 5.52673\n"
     ]
    },
    {
     "name": "stderr",
     "output_type": "stream",
     "text": [
      "[I 2025-05-31 02:15:23,129] Trial 19 finished with value: 59.613555982503655 and parameters: {'learning_rate': 0.03360901492683109, 'num_leaves': 219, 'max_depth': 10, 'min_child_samples': 77, 'feature_fraction': 0.5959499312700057, 'bagging_fraction': 0.7332550507107233, 'bagging_freq': 5, 'lambda_l1': 2.7059912063417544, 'lambda_l2': 3.9265418629997395}. Best is trial 9 with value: 59.48535102570344.\n"
     ]
    },
    {
     "name": "stdout",
     "output_type": "stream",
     "text": [
      "Training until validation scores don't improve for 50 rounds\n",
      "[100]\tvalid_0's l1: 0.739872\tvalid_0's SMAPE: 6.10203\n",
      "[200]\tvalid_0's l1: 0.701494\tvalid_0's SMAPE: 5.7892\n",
      "[300]\tvalid_0's l1: 0.689156\tvalid_0's SMAPE: 5.68842\n",
      "[400]\tvalid_0's l1: 0.682837\tvalid_0's SMAPE: 5.63621\n",
      "[500]\tvalid_0's l1: 0.679161\tvalid_0's SMAPE: 5.60561\n",
      "[600]\tvalid_0's l1: 0.676704\tvalid_0's SMAPE: 5.58513\n",
      "[700]\tvalid_0's l1: 0.674902\tvalid_0's SMAPE: 5.57019\n",
      "[800]\tvalid_0's l1: 0.673626\tvalid_0's SMAPE: 5.55965\n",
      "[900]\tvalid_0's l1: 0.672421\tvalid_0's SMAPE: 5.54963\n"
     ]
    },
    {
     "name": "stderr",
     "output_type": "stream",
     "text": [
      "[I 2025-05-31 02:15:25,046] Trial 20 finished with value: 59.798352073227946 and parameters: {'learning_rate': 0.012463169121645667, 'num_leaves': 27, 'max_depth': 7, 'min_child_samples': 42, 'feature_fraction': 0.6968567090548768, 'bagging_fraction': 0.918024239493946, 'bagging_freq': 2, 'lambda_l1': 4.041892342727115, 'lambda_l2': 8.77598387389993}. Best is trial 9 with value: 59.48535102570344.\n"
     ]
    },
    {
     "name": "stdout",
     "output_type": "stream",
     "text": [
      "[1000]\tvalid_0's l1: 0.671622\tvalid_0's SMAPE: 5.54305\n",
      "Did not meet early stopping. Best iteration is:\n",
      "[1000]\tvalid_0's l1: 0.671622\tvalid_0's SMAPE: 5.54305\n",
      "Training until validation scores don't improve for 50 rounds\n",
      "[100]\tvalid_0's l1: 0.672333\tvalid_0's SMAPE: 5.5473\n",
      "[200]\tvalid_0's l1: 0.669303\tvalid_0's SMAPE: 5.5226\n",
      "Early stopping, best iteration is:\n",
      "[220]\tvalid_0's l1: 0.668852\tvalid_0's SMAPE: 5.51895\n"
     ]
    },
    {
     "name": "stderr",
     "output_type": "stream",
     "text": [
      "[I 2025-05-31 02:15:25,837] Trial 21 finished with value: 59.55824840219992 and parameters: {'learning_rate': 0.07104979624922768, 'num_leaves': 263, 'max_depth': 10, 'min_child_samples': 58, 'feature_fraction': 0.8026172186855439, 'bagging_fraction': 0.7995297595574667, 'bagging_freq': 4, 'lambda_l1': 3.39495157141301, 'lambda_l2': 6.088331597615669}. Best is trial 9 with value: 59.48535102570344.\n"
     ]
    },
    {
     "name": "stdout",
     "output_type": "stream",
     "text": [
      "Training until validation scores don't improve for 50 rounds\n",
      "[100]\tvalid_0's l1: 0.676452\tvalid_0's SMAPE: 5.58156\n",
      "[200]\tvalid_0's l1: 0.669965\tvalid_0's SMAPE: 5.528\n",
      "[300]\tvalid_0's l1: 0.668784\tvalid_0's SMAPE: 5.5185\n",
      "[400]\tvalid_0's l1: 0.668421\tvalid_0's SMAPE: 5.51562\n",
      "Early stopping, best iteration is:\n",
      "[418]\tvalid_0's l1: 0.668312\tvalid_0's SMAPE: 5.51474\n"
     ]
    },
    {
     "name": "stderr",
     "output_type": "stream",
     "text": [
      "[I 2025-05-31 02:15:27,337] Trial 22 finished with value: 59.503303867706016 and parameters: {'learning_rate': 0.03630184140944219, 'num_leaves': 254, 'max_depth': 11, 'min_child_samples': 46, 'feature_fraction': 0.7667071612403725, 'bagging_fraction': 0.8555023740760485, 'bagging_freq': 3, 'lambda_l1': 2.2499649388175125, 'lambda_l2': 5.609873401214727}. Best is trial 9 with value: 59.48535102570344.\n"
     ]
    },
    {
     "name": "stdout",
     "output_type": "stream",
     "text": [
      "Training until validation scores don't improve for 50 rounds\n",
      "[100]\tvalid_0's l1: 0.670808\tvalid_0's SMAPE: 5.53571\n",
      "[200]\tvalid_0's l1: 0.667831\tvalid_0's SMAPE: 5.51134\n"
     ]
    },
    {
     "name": "stderr",
     "output_type": "stream",
     "text": [
      "[I 2025-05-31 02:15:28,182] Trial 23 finished with value: 59.411266512718065 and parameters: {'learning_rate': 0.07011783838075347, 'num_leaves': 281, 'max_depth': 9, 'min_child_samples': 29, 'feature_fraction': 0.8444707553275969, 'bagging_fraction': 0.8066437119383281, 'bagging_freq': 5, 'lambda_l1': 5.085945505028337, 'lambda_l2': 4.4877710899641}. Best is trial 23 with value: 59.411266512718065.\n"
     ]
    },
    {
     "name": "stdout",
     "output_type": "stream",
     "text": [
      "[300]\tvalid_0's l1: 0.667432\tvalid_0's SMAPE: 5.50806\n",
      "Early stopping, best iteration is:\n",
      "[270]\tvalid_0's l1: 0.667134\tvalid_0's SMAPE: 5.50566\n",
      "Training until validation scores don't improve for 50 rounds\n",
      "[100]\tvalid_0's l1: 0.672079\tvalid_0's SMAPE: 5.54604\n",
      "[200]\tvalid_0's l1: 0.668799\tvalid_0's SMAPE: 5.51932\n",
      "[300]\tvalid_0's l1: 0.668103\tvalid_0's SMAPE: 5.51378\n",
      "Early stopping, best iteration is:\n",
      "[324]\tvalid_0's l1: 0.66765\tvalid_0's SMAPE: 5.51019\n"
     ]
    },
    {
     "name": "stderr",
     "output_type": "stream",
     "text": [
      "[I 2025-05-31 02:15:29,173] Trial 24 finished with value: 59.45662606979678 and parameters: {'learning_rate': 0.06082949185868321, 'num_leaves': 286, 'max_depth': 9, 'min_child_samples': 26, 'feature_fraction': 0.8495557746220376, 'bagging_fraction': 0.7321612641192623, 'bagging_freq': 6, 'lambda_l1': 5.454152947701856, 'lambda_l2': 4.14563802759625}. Best is trial 23 with value: 59.411266512718065.\n"
     ]
    },
    {
     "name": "stdout",
     "output_type": "stream",
     "text": [
      "Training until validation scores don't improve for 50 rounds\n",
      "[100]\tvalid_0's l1: 0.67431\tvalid_0's SMAPE: 5.5643\n",
      "[200]\tvalid_0's l1: 0.669969\tvalid_0's SMAPE: 5.5286\n",
      "[300]\tvalid_0's l1: 0.66907\tvalid_0's SMAPE: 5.52121\n",
      "[400]\tvalid_0's l1: 0.668323\tvalid_0's SMAPE: 5.51526\n"
     ]
    },
    {
     "name": "stderr",
     "output_type": "stream",
     "text": [
      "[I 2025-05-31 02:15:30,595] Trial 25 finished with value: 59.46837843449907 and parameters: {'learning_rate': 0.045927633953463325, 'num_leaves': 196, 'max_depth': 9, 'min_child_samples': 24, 'feature_fraction': 0.9390781967930013, 'bagging_fraction': 0.720966931270449, 'bagging_freq': 8, 'lambda_l1': 5.661400335533875, 'lambda_l2': 2.7412190201495843}. Best is trial 23 with value: 59.411266512718065.\n"
     ]
    },
    {
     "name": "stdout",
     "output_type": "stream",
     "text": [
      "Early stopping, best iteration is:\n",
      "[432]\tvalid_0's l1: 0.667889\tvalid_0's SMAPE: 5.51173\n",
      "Training until validation scores don't improve for 50 rounds\n",
      "[100]\tvalid_0's l1: 0.673102\tvalid_0's SMAPE: 5.55411\n",
      "[200]\tvalid_0's l1: 0.669508\tvalid_0's SMAPE: 5.52479\n"
     ]
    },
    {
     "name": "stderr",
     "output_type": "stream",
     "text": [
      "[I 2025-05-31 02:15:31,468] Trial 26 finished with value: 59.55291895142568 and parameters: {'learning_rate': 0.05925732027133364, 'num_leaves': 205, 'max_depth': 9, 'min_child_samples': 22, 'feature_fraction': 0.972177710197003, 'bagging_fraction': 0.7108943365067132, 'bagging_freq': 9, 'lambda_l1': 5.68732648165371, 'lambda_l2': 2.3808510627620763}. Best is trial 23 with value: 59.411266512718065.\n"
     ]
    },
    {
     "name": "stdout",
     "output_type": "stream",
     "text": [
      "[300]\tvalid_0's l1: 0.669291\tvalid_0's SMAPE: 5.52315\n",
      "Early stopping, best iteration is:\n",
      "[260]\tvalid_0's l1: 0.668798\tvalid_0's SMAPE: 5.519\n",
      "Training until validation scores don't improve for 50 rounds\n",
      "[100]\tvalid_0's l1: 0.835084\tvalid_0's SMAPE: 6.87964\n",
      "[200]\tvalid_0's l1: 0.775791\tvalid_0's SMAPE: 6.39373\n",
      "[300]\tvalid_0's l1: 0.739266\tvalid_0's SMAPE: 6.09542\n",
      "[400]\tvalid_0's l1: 0.716903\tvalid_0's SMAPE: 5.91307\n",
      "[500]\tvalid_0's l1: 0.702721\tvalid_0's SMAPE: 5.79724\n",
      "[600]\tvalid_0's l1: 0.69387\tvalid_0's SMAPE: 5.72466\n",
      "[700]\tvalid_0's l1: 0.688188\tvalid_0's SMAPE: 5.67803\n",
      "[800]\tvalid_0's l1: 0.684077\tvalid_0's SMAPE: 5.64423\n",
      "[900]\tvalid_0's l1: 0.681175\tvalid_0's SMAPE: 5.62036\n",
      "[1000]\tvalid_0's l1: 0.679168\tvalid_0's SMAPE: 5.60381\n",
      "Did not meet early stopping. Best iteration is:\n",
      "[1000]\tvalid_0's l1: 0.679168\tvalid_0's SMAPE: 5.60381\n"
     ]
    },
    {
     "name": "stderr",
     "output_type": "stream",
     "text": [
      "[I 2025-05-31 02:15:34,575] Trial 27 finished with value: 60.43563805619807 and parameters: {'learning_rate': 0.0033814473803444444, 'num_leaves': 233, 'max_depth': 9, 'min_child_samples': 5, 'feature_fraction': 0.9348031537496726, 'bagging_fraction': 0.6209384409590102, 'bagging_freq': 8, 'lambda_l1': 6.763610263671977, 'lambda_l2': 0.8419163978372568}. Best is trial 23 with value: 59.411266512718065.\n"
     ]
    },
    {
     "name": "stdout",
     "output_type": "stream",
     "text": [
      "Training until validation scores don't improve for 50 rounds\n",
      "[100]\tvalid_0's l1: 0.686918\tvalid_0's SMAPE: 5.66781\n",
      "[200]\tvalid_0's l1: 0.674414\tvalid_0's SMAPE: 5.56492\n",
      "[300]\tvalid_0's l1: 0.671307\tvalid_0's SMAPE: 5.5395\n",
      "[400]\tvalid_0's l1: 0.670364\tvalid_0's SMAPE: 5.53152\n",
      "[500]\tvalid_0's l1: 0.669633\tvalid_0's SMAPE: 5.52576\n"
     ]
    },
    {
     "name": "stderr",
     "output_type": "stream",
     "text": [
      "[I 2025-05-31 02:15:36,197] Trial 28 finished with value: 59.55686895148953 and parameters: {'learning_rate': 0.025168386169438343, 'num_leaves': 277, 'max_depth': 11, 'min_child_samples': 27, 'feature_fraction': 0.8496011173182489, 'bagging_fraction': 0.6296377283150747, 'bagging_freq': 8, 'lambda_l1': 5.638477798407084, 'lambda_l2': 2.763468830274064}. Best is trial 23 with value: 59.411266512718065.\n"
     ]
    },
    {
     "name": "stdout",
     "output_type": "stream",
     "text": [
      "[600]\tvalid_0's l1: 0.66907\tvalid_0's SMAPE: 5.52124\n",
      "Early stopping, best iteration is:\n",
      "[558]\tvalid_0's l1: 0.668929\tvalid_0's SMAPE: 5.51989\n",
      "Training until validation scores don't improve for 50 rounds\n",
      "[100]\tvalid_0's l1: 0.70309\tvalid_0's SMAPE: 5.80012\n",
      "[200]\tvalid_0's l1: 0.680043\tvalid_0's SMAPE: 5.61156\n",
      "[300]\tvalid_0's l1: 0.674633\tvalid_0's SMAPE: 5.56708\n",
      "[400]\tvalid_0's l1: 0.671531\tvalid_0's SMAPE: 5.54155\n",
      "[500]\tvalid_0's l1: 0.66994\tvalid_0's SMAPE: 5.52842\n",
      "[600]\tvalid_0's l1: 0.669314\tvalid_0's SMAPE: 5.52323\n",
      "[700]\tvalid_0's l1: 0.668942\tvalid_0's SMAPE: 5.52016\n",
      "Early stopping, best iteration is:\n",
      "[690]\tvalid_0's l1: 0.668914\tvalid_0's SMAPE: 5.51993\n"
     ]
    },
    {
     "name": "stderr",
     "output_type": "stream",
     "text": [
      "[I 2025-05-31 02:15:38,011] Trial 29 finished with value: 59.55327442129143 and parameters: {'learning_rate': 0.01765093871608882, 'num_leaves': 239, 'max_depth': 8, 'min_child_samples': 16, 'feature_fraction': 0.9483892525787996, 'bagging_fraction': 0.761219604084332, 'bagging_freq': 5, 'lambda_l1': 7.394845887672966, 'lambda_l2': 4.14050033762124}. Best is trial 23 with value: 59.411266512718065.\n"
     ]
    },
    {
     "name": "stdout",
     "output_type": "stream",
     "text": [
      "Training until validation scores don't improve for 50 rounds\n",
      "[100]\tvalid_0's l1: 0.675976\tvalid_0's SMAPE: 5.5782\n",
      "[200]\tvalid_0's l1: 0.670742\tvalid_0's SMAPE: 5.53529\n",
      "[300]\tvalid_0's l1: 0.669386\tvalid_0's SMAPE: 5.52425\n",
      "[400]\tvalid_0's l1: 0.668467\tvalid_0's SMAPE: 5.51652\n"
     ]
    },
    {
     "name": "stderr",
     "output_type": "stream",
     "text": [
      "[I 2025-05-31 02:15:39,083] Trial 30 finished with value: 59.4917259555971 and parameters: {'learning_rate': 0.04582557344184118, 'num_leaves': 279, 'max_depth': 8, 'min_child_samples': 32, 'feature_fraction': 0.9303328348362728, 'bagging_fraction': 0.7244489009517753, 'bagging_freq': 8, 'lambda_l1': 5.044221325642166, 'lambda_l2': 1.6361703166324686}. Best is trial 23 with value: 59.411266512718065.\n"
     ]
    },
    {
     "name": "stdout",
     "output_type": "stream",
     "text": [
      "Early stopping, best iteration is:\n",
      "[432]\tvalid_0's l1: 0.668071\tvalid_0's SMAPE: 5.51335\n",
      "Training until validation scores don't improve for 50 rounds\n",
      "[100]\tvalid_0's l1: 0.679674\tvalid_0's SMAPE: 5.60919\n",
      "[200]\tvalid_0's l1: 0.671858\tvalid_0's SMAPE: 5.5446\n",
      "[300]\tvalid_0's l1: 0.669383\tvalid_0's SMAPE: 5.52411\n",
      "[400]\tvalid_0's l1: 0.668751\tvalid_0's SMAPE: 5.51887\n",
      "[500]\tvalid_0's l1: 0.668071\tvalid_0's SMAPE: 5.51308\n",
      "[600]\tvalid_0's l1: 0.667838\tvalid_0's SMAPE: 5.51117\n"
     ]
    },
    {
     "name": "stderr",
     "output_type": "stream",
     "text": [
      "[I 2025-05-31 02:15:40,491] Trial 31 finished with value: 59.44641120683608 and parameters: {'learning_rate': 0.038899309911210773, 'num_leaves': 167, 'max_depth': 7, 'min_child_samples': 15, 'feature_fraction': 0.8430405851974649, 'bagging_fraction': 0.7710552330711979, 'bagging_freq': 3, 'lambda_l1': 6.194965517766086, 'lambda_l2': 3.0721304294155614}. Best is trial 23 with value: 59.411266512718065.\n"
     ]
    },
    {
     "name": "stdout",
     "output_type": "stream",
     "text": [
      "Early stopping, best iteration is:\n",
      "[645]\tvalid_0's l1: 0.667529\tvalid_0's SMAPE: 5.50862\n",
      "Training until validation scores don't improve for 50 rounds\n",
      "[100]\tvalid_0's l1: 0.66973\tvalid_0's SMAPE: 5.52637\n"
     ]
    },
    {
     "name": "stderr",
     "output_type": "stream",
     "text": [
      "[I 2025-05-31 02:15:41,384] Trial 32 finished with value: 59.47567600642938 and parameters: {'learning_rate': 0.06928258905934966, 'num_leaves': 139, 'max_depth': 9, 'min_child_samples': 18, 'feature_fraction': 0.8554790627738271, 'bagging_fraction': 0.7705630192473206, 'bagging_freq': 6, 'lambda_l1': 6.23167053406677, 'lambda_l2': 3.0666545025966037}. Best is trial 23 with value: 59.411266512718065.\n"
     ]
    },
    {
     "name": "stdout",
     "output_type": "stream",
     "text": [
      "[200]\tvalid_0's l1: 0.667935\tvalid_0's SMAPE: 5.51173\n",
      "Early stopping, best iteration is:\n",
      "[169]\tvalid_0's l1: 0.667869\tvalid_0's SMAPE: 5.51105\n",
      "Training until validation scores don't improve for 50 rounds\n",
      "[100]\tvalid_0's l1: 0.675872\tvalid_0's SMAPE: 5.57718\n",
      "[200]\tvalid_0's l1: 0.669863\tvalid_0's SMAPE: 5.52771\n",
      "[300]\tvalid_0's l1: 0.668352\tvalid_0's SMAPE: 5.51516\n",
      "[400]\tvalid_0's l1: 0.667623\tvalid_0's SMAPE: 5.50928\n"
     ]
    },
    {
     "name": "stderr",
     "output_type": "stream",
     "text": [
      "[I 2025-05-31 02:15:42,541] Trial 33 finished with value: 59.437114918584754 and parameters: {'learning_rate': 0.04542967151772452, 'num_leaves': 194, 'max_depth': 8, 'min_child_samples': 14, 'feature_fraction': 0.8444014889549055, 'bagging_fraction': 0.7831610604650768, 'bagging_freq': 1, 'lambda_l1': 7.799389845397103, 'lambda_l2': 1.54748714792646}. Best is trial 23 with value: 59.411266512718065.\n"
     ]
    },
    {
     "name": "stdout",
     "output_type": "stream",
     "text": [
      "Early stopping, best iteration is:\n",
      "[433]\tvalid_0's l1: 0.667427\tvalid_0's SMAPE: 5.50769\n",
      "Training until validation scores don't improve for 50 rounds\n",
      "[100]\tvalid_0's l1: 0.685195\tvalid_0's SMAPE: 5.65399\n",
      "[200]\tvalid_0's l1: 0.673572\tvalid_0's SMAPE: 5.55829\n",
      "[300]\tvalid_0's l1: 0.670654\tvalid_0's SMAPE: 5.53411\n",
      "[400]\tvalid_0's l1: 0.669261\tvalid_0's SMAPE: 5.5227\n",
      "[500]\tvalid_0's l1: 0.668728\tvalid_0's SMAPE: 5.51836\n",
      "[600]\tvalid_0's l1: 0.668424\tvalid_0's SMAPE: 5.51584\n",
      "[700]\tvalid_0's l1: 0.668132\tvalid_0's SMAPE: 5.5134\n",
      "Early stopping, best iteration is:\n",
      "[744]\tvalid_0's l1: 0.668031\tvalid_0's SMAPE: 5.51254\n"
     ]
    },
    {
     "name": "stderr",
     "output_type": "stream",
     "text": [
      "[I 2025-05-31 02:15:44,129] Trial 34 finished with value: 59.486991773687535 and parameters: {'learning_rate': 0.02868084820841293, 'num_leaves': 105, 'max_depth': 8, 'min_child_samples': 14, 'feature_fraction': 0.8417912222686552, 'bagging_fraction': 0.792364104192509, 'bagging_freq': 1, 'lambda_l1': 7.911830208144263, 'lambda_l2': 1.668604023760478}. Best is trial 23 with value: 59.411266512718065.\n"
     ]
    },
    {
     "name": "stdout",
     "output_type": "stream",
     "text": [
      "Training until validation scores don't improve for 50 rounds\n",
      "[100]\tvalid_0's l1: 0.692678\tvalid_0's SMAPE: 5.71907\n",
      "[200]\tvalid_0's l1: 0.681117\tvalid_0's SMAPE: 5.62268\n",
      "[300]\tvalid_0's l1: 0.675983\tvalid_0's SMAPE: 5.57964\n",
      "[400]\tvalid_0's l1: 0.673668\tvalid_0's SMAPE: 5.56038\n",
      "[500]\tvalid_0's l1: 0.672225\tvalid_0's SMAPE: 5.54838\n"
     ]
    },
    {
     "name": "stderr",
     "output_type": "stream",
     "text": [
      "[I 2025-05-31 02:15:44,865] Trial 35 finished with value: 59.77696691854045 and parameters: {'learning_rate': 0.045706806221418705, 'num_leaves': 156, 'max_depth': 5, 'min_child_samples': 6, 'feature_fraction': 0.7795527687605923, 'bagging_fraction': 0.7775471475434712, 'bagging_freq': 0, 'lambda_l1': 9.796647547092952, 'lambda_l2': 4.244330823964519}. Best is trial 23 with value: 59.411266512718065.\n"
     ]
    },
    {
     "name": "stdout",
     "output_type": "stream",
     "text": [
      "[600]\tvalid_0's l1: 0.671594\tvalid_0's SMAPE: 5.54306\n",
      "Early stopping, best iteration is:\n",
      "[617]\tvalid_0's l1: 0.671583\tvalid_0's SMAPE: 5.54297\n",
      "Training until validation scores don't improve for 50 rounds\n",
      "[100]\tvalid_0's l1: 0.71804\tvalid_0's SMAPE: 5.92286\n",
      "[200]\tvalid_0's l1: 0.688354\tvalid_0's SMAPE: 5.68018\n",
      "[300]\tvalid_0's l1: 0.679842\tvalid_0's SMAPE: 5.61044\n",
      "[400]\tvalid_0's l1: 0.676016\tvalid_0's SMAPE: 5.57887\n",
      "[500]\tvalid_0's l1: 0.673836\tvalid_0's SMAPE: 5.56079\n",
      "[600]\tvalid_0's l1: 0.672457\tvalid_0's SMAPE: 5.54935\n",
      "[700]\tvalid_0's l1: 0.671477\tvalid_0's SMAPE: 5.54116\n",
      "[800]\tvalid_0's l1: 0.670792\tvalid_0's SMAPE: 5.53552\n",
      "[900]\tvalid_0's l1: 0.670235\tvalid_0's SMAPE: 5.53086\n",
      "[1000]\tvalid_0's l1: 0.669792\tvalid_0's SMAPE: 5.5272\n",
      "Did not meet early stopping. Best iteration is:\n",
      "[998]\tvalid_0's l1: 0.669786\tvalid_0's SMAPE: 5.52716\n"
     ]
    },
    {
     "name": "stderr",
     "output_type": "stream",
     "text": [
      "[I 2025-05-31 02:15:46,650] Trial 36 finished with value: 59.6407082663556 and parameters: {'learning_rate': 0.015000396427108131, 'num_leaves': 112, 'max_depth': 7, 'min_child_samples': 30, 'feature_fraction': 0.9005117311694034, 'bagging_fraction': 0.6939720769035176, 'bagging_freq': 1, 'lambda_l1': 8.648528816353025, 'lambda_l2': 1.187356138654339}. Best is trial 23 with value: 59.411266512718065.\n"
     ]
    },
    {
     "name": "stdout",
     "output_type": "stream",
     "text": [
      "Training until validation scores don't improve for 50 rounds\n",
      "[100]\tvalid_0's l1: 0.670825\tvalid_0's SMAPE: 5.53584\n",
      "[200]\tvalid_0's l1: 0.668234\tvalid_0's SMAPE: 5.51452\n"
     ]
    },
    {
     "name": "stderr",
     "output_type": "stream",
     "text": [
      "[I 2025-05-31 02:15:47,392] Trial 37 finished with value: 59.47281441113809 and parameters: {'learning_rate': 0.0719117896346184, 'num_leaves': 283, 'max_depth': 8, 'min_child_samples': 12, 'feature_fraction': 0.8701059675750248, 'bagging_fraction': 0.7467933497076056, 'bagging_freq': 2, 'lambda_l1': 7.474279024027298, 'lambda_l2': 0.5846445385880781}. Best is trial 23 with value: 59.411266512718065.\n"
     ]
    },
    {
     "name": "stdout",
     "output_type": "stream",
     "text": [
      "Early stopping, best iteration is:\n",
      "[242]\tvalid_0's l1: 0.667843\tvalid_0's SMAPE: 5.51123\n",
      "Training until validation scores don't improve for 50 rounds\n",
      "[100]\tvalid_0's l1: 0.874476\tvalid_0's SMAPE: 7.20399\n",
      "[200]\tvalid_0's l1: 0.830843\tvalid_0's SMAPE: 6.84528\n",
      "[300]\tvalid_0's l1: 0.797456\tvalid_0's SMAPE: 6.57178\n",
      "[400]\tvalid_0's l1: 0.771486\tvalid_0's SMAPE: 6.35961\n",
      "[500]\tvalid_0's l1: 0.751745\tvalid_0's SMAPE: 6.19851\n",
      "[600]\tvalid_0's l1: 0.73698\tvalid_0's SMAPE: 6.07824\n",
      "[700]\tvalid_0's l1: 0.725231\tvalid_0's SMAPE: 5.98251\n",
      "[800]\tvalid_0's l1: 0.71614\tvalid_0's SMAPE: 5.90841\n",
      "[900]\tvalid_0's l1: 0.709088\tvalid_0's SMAPE: 5.85084\n",
      "[1000]\tvalid_0's l1: 0.703771\tvalid_0's SMAPE: 5.80727\n",
      "Did not meet early stopping. Best iteration is:\n",
      "[1000]\tvalid_0's l1: 0.703771\tvalid_0's SMAPE: 5.80727\n"
     ]
    },
    {
     "name": "stderr",
     "output_type": "stream",
     "text": [
      "[I 2025-05-31 02:15:49,855] Trial 38 finished with value: 62.473817972829 and parameters: {'learning_rate': 0.001908645085014283, 'num_leaves': 242, 'max_depth': 7, 'min_child_samples': 19, 'feature_fraction': 0.7179359372165282, 'bagging_fraction': 0.8264393187361561, 'bagging_freq': 3, 'lambda_l1': 6.312742741942031, 'lambda_l2': 3.552687849527175}. Best is trial 23 with value: 59.411266512718065.\n"
     ]
    },
    {
     "name": "stdout",
     "output_type": "stream",
     "text": [
      "Training until validation scores don't improve for 50 rounds\n",
      "[100]\tvalid_0's l1: 0.781351\tvalid_0's SMAPE: 6.44077\n",
      "[200]\tvalid_0's l1: 0.730536\tvalid_0's SMAPE: 6.02659\n",
      "[300]\tvalid_0's l1: 0.710796\tvalid_0's SMAPE: 5.8657\n",
      "[400]\tvalid_0's l1: 0.700949\tvalid_0's SMAPE: 5.78539\n",
      "[500]\tvalid_0's l1: 0.694791\tvalid_0's SMAPE: 5.7348\n",
      "[600]\tvalid_0's l1: 0.690512\tvalid_0's SMAPE: 5.69943\n",
      "[700]\tvalid_0's l1: 0.687829\tvalid_0's SMAPE: 5.67727\n",
      "[800]\tvalid_0's l1: 0.685384\tvalid_0's SMAPE: 5.6569\n",
      "[900]\tvalid_0's l1: 0.683788\tvalid_0's SMAPE: 5.6437\n",
      "[1000]\tvalid_0's l1: 0.682049\tvalid_0's SMAPE: 5.62922\n",
      "Did not meet early stopping. Best iteration is:\n",
      "[1000]\tvalid_0's l1: 0.682049\tvalid_0's SMAPE: 5.62922\n"
     ]
    },
    {
     "name": "stderr",
     "output_type": "stream",
     "text": [
      "[I 2025-05-31 02:15:51,552] Trial 39 finished with value: 60.63338811220639 and parameters: {'learning_rate': 0.007894349853347813, 'num_leaves': 209, 'max_depth': 5, 'min_child_samples': 29, 'feature_fraction': 0.8241657660283703, 'bagging_fraction': 0.5136144532128712, 'bagging_freq': 4, 'lambda_l1': 7.995129350390608, 'lambda_l2': 2.017297795733404}. Best is trial 23 with value: 59.411266512718065.\n"
     ]
    },
    {
     "name": "stdout",
     "output_type": "stream",
     "text": [
      "Training until validation scores don't improve for 50 rounds\n",
      "[100]\tvalid_0's l1: 0.680352\tvalid_0's SMAPE: 5.61373\n",
      "[200]\tvalid_0's l1: 0.67337\tvalid_0's SMAPE: 5.55671\n",
      "[300]\tvalid_0's l1: 0.671271\tvalid_0's SMAPE: 5.53915\n",
      "[400]\tvalid_0's l1: 0.67035\tvalid_0's SMAPE: 5.53163\n",
      "[500]\tvalid_0's l1: 0.669628\tvalid_0's SMAPE: 5.52596\n"
     ]
    },
    {
     "name": "stderr",
     "output_type": "stream",
     "text": [
      "[I 2025-05-31 02:15:53,497] Trial 40 finished with value: 59.55528304535582 and parameters: {'learning_rate': 0.03986643832293476, 'num_leaves': 192, 'max_depth': 9, 'min_child_samples': 23, 'feature_fraction': 0.8983866498369645, 'bagging_fraction': 0.6462800726076379, 'bagging_freq': 5, 'lambda_l1': 9.00378861139339, 'lambda_l2': 3.2840720139325823}. Best is trial 23 with value: 59.411266512718065.\n"
     ]
    },
    {
     "name": "stdout",
     "output_type": "stream",
     "text": [
      "[600]\tvalid_0's l1: 0.669138\tvalid_0's SMAPE: 5.52207\n",
      "Early stopping, best iteration is:\n",
      "[573]\tvalid_0's l1: 0.668968\tvalid_0's SMAPE: 5.52061\n",
      "Training until validation scores don't improve for 50 rounds\n",
      "[100]\tvalid_0's l1: 0.672992\tvalid_0's SMAPE: 5.55327\n",
      "[200]\tvalid_0's l1: 0.669281\tvalid_0's SMAPE: 5.52257\n",
      "[300]\tvalid_0's l1: 0.668579\tvalid_0's SMAPE: 5.51706\n",
      "Early stopping, best iteration is:\n",
      "[280]\tvalid_0's l1: 0.668176\tvalid_0's SMAPE: 5.5138\n"
     ]
    },
    {
     "name": "stderr",
     "output_type": "stream",
     "text": [
      "[I 2025-05-31 02:15:54,437] Trial 41 finished with value: 59.49825895591284 and parameters: {'learning_rate': 0.05302995430068253, 'num_leaves': 198, 'max_depth': 9, 'min_child_samples': 24, 'feature_fraction': 0.917590955381846, 'bagging_fraction': 0.7415016530339409, 'bagging_freq': 10, 'lambda_l1': 5.464357777860858, 'lambda_l2': 2.5812383345699583}. Best is trial 23 with value: 59.411266512718065.\n"
     ]
    },
    {
     "name": "stdout",
     "output_type": "stream",
     "text": [
      "Training until validation scores don't improve for 50 rounds\n",
      "[100]\tvalid_0's l1: 0.684786\tvalid_0's SMAPE: 5.65017\n",
      "[200]\tvalid_0's l1: 0.672954\tvalid_0's SMAPE: 5.5531\n",
      "[300]\tvalid_0's l1: 0.66981\tvalid_0's SMAPE: 5.5274\n",
      "[400]\tvalid_0's l1: 0.668756\tvalid_0's SMAPE: 5.51879\n",
      "[500]\tvalid_0's l1: 0.668271\tvalid_0's SMAPE: 5.5149\n",
      "[600]\tvalid_0's l1: 0.667952\tvalid_0's SMAPE: 5.51225\n"
     ]
    },
    {
     "name": "stderr",
     "output_type": "stream",
     "text": [
      "[I 2025-05-31 02:15:56,071] Trial 42 finished with value: 59.47301164085722 and parameters: {'learning_rate': 0.027921633344017257, 'num_leaves': 225, 'max_depth': 8, 'min_child_samples': 9, 'feature_fraction': 0.9705876764158023, 'bagging_fraction': 0.7112195847049583, 'bagging_freq': 1, 'lambda_l1': 6.305115429494216, 'lambda_l2': 4.434414576311468}. Best is trial 23 with value: 59.411266512718065.\n"
     ]
    },
    {
     "name": "stdout",
     "output_type": "stream",
     "text": [
      "[700]\tvalid_0's l1: 0.667916\tvalid_0's SMAPE: 5.51182\n",
      "Early stopping, best iteration is:\n",
      "[666]\tvalid_0's l1: 0.667849\tvalid_0's SMAPE: 5.51129\n",
      "Training until validation scores don't improve for 50 rounds\n",
      "[100]\tvalid_0's l1: 0.671172\tvalid_0's SMAPE: 5.53815\n",
      "[200]\tvalid_0's l1: 0.668525\tvalid_0's SMAPE: 5.51676\n"
     ]
    },
    {
     "name": "stderr",
     "output_type": "stream",
     "text": [
      "[I 2025-05-31 02:15:56,727] Trial 43 finished with value: 59.52754345277913 and parameters: {'learning_rate': 0.06764707421891797, 'num_leaves': 186, 'max_depth': 9, 'min_child_samples': 39, 'feature_fraction': 0.8362648517375235, 'bagging_fraction': 0.7695696438021888, 'bagging_freq': 7, 'lambda_l1': 4.706701790068788, 'lambda_l2': 1.6975190461829073}. Best is trial 23 with value: 59.411266512718065.\n"
     ]
    },
    {
     "name": "stdout",
     "output_type": "stream",
     "text": [
      "Early stopping, best iteration is:\n",
      "[197]\tvalid_0's l1: 0.668445\tvalid_0's SMAPE: 5.51613\n",
      "Training until validation scores don't improve for 50 rounds\n",
      "[100]\tvalid_0's l1: 0.675944\tvalid_0's SMAPE: 5.57895\n",
      "[200]\tvalid_0's l1: 0.670145\tvalid_0's SMAPE: 5.53116\n",
      "[300]\tvalid_0's l1: 0.668144\tvalid_0's SMAPE: 5.51428\n",
      "[400]\tvalid_0's l1: 0.667289\tvalid_0's SMAPE: 5.50689\n"
     ]
    },
    {
     "name": "stderr",
     "output_type": "stream",
     "text": [
      "[I 2025-05-31 02:15:57,658] Trial 44 finished with value: 59.407442626043974 and parameters: {'learning_rate': 0.04663223737205929, 'num_leaves': 156, 'max_depth': 7, 'min_child_samples': 18, 'feature_fraction': 0.8707530064808247, 'bagging_fraction': 0.7887761675612306, 'bagging_freq': 9, 'lambda_l1': 4.186685056896134, 'lambda_l2': 3.196029975604466}. Best is trial 44 with value: 59.407442626043974.\n"
     ]
    },
    {
     "name": "stdout",
     "output_type": "stream",
     "text": [
      "Early stopping, best iteration is:\n",
      "[396]\tvalid_0's l1: 0.667222\tvalid_0's SMAPE: 5.50631\n",
      "Training until validation scores don't improve for 50 rounds\n",
      "[100]\tvalid_0's l1: 0.693651\tvalid_0's SMAPE: 5.72559\n",
      "[200]\tvalid_0's l1: 0.678725\tvalid_0's SMAPE: 5.60287\n",
      "[300]\tvalid_0's l1: 0.67352\tvalid_0's SMAPE: 5.55919\n",
      "[400]\tvalid_0's l1: 0.671147\tvalid_0's SMAPE: 5.53922\n",
      "[500]\tvalid_0's l1: 0.670047\tvalid_0's SMAPE: 5.53007\n",
      "[600]\tvalid_0's l1: 0.668654\tvalid_0's SMAPE: 5.51817\n",
      "[700]\tvalid_0's l1: 0.667984\tvalid_0's SMAPE: 5.51247\n",
      "[800]\tvalid_0's l1: 0.66759\tvalid_0's SMAPE: 5.50926\n"
     ]
    },
    {
     "name": "stderr",
     "output_type": "stream",
     "text": [
      "[I 2025-05-31 02:15:59,035] Trial 45 finished with value: 59.42113812869304 and parameters: {'learning_rate': 0.030340280442507545, 'num_leaves': 150, 'max_depth': 6, 'min_child_samples': 15, 'feature_fraction': 0.87039511984165, 'bagging_fraction': 0.7858491936179484, 'bagging_freq': 0, 'lambda_l1': 4.249930381681921, 'lambda_l2': 6.385380927073276}. Best is trial 44 with value: 59.407442626043974.\n"
     ]
    },
    {
     "name": "stdout",
     "output_type": "stream",
     "text": [
      "[900]\tvalid_0's l1: 0.66724\tvalid_0's SMAPE: 5.50642\n",
      "Early stopping, best iteration is:\n",
      "[871]\tvalid_0's l1: 0.667202\tvalid_0's SMAPE: 5.50608\n",
      "Training until validation scores don't improve for 50 rounds\n",
      "[100]\tvalid_0's l1: 0.694634\tvalid_0's SMAPE: 5.7334\n",
      "[200]\tvalid_0's l1: 0.678963\tvalid_0's SMAPE: 5.60467\n",
      "[300]\tvalid_0's l1: 0.673425\tvalid_0's SMAPE: 5.55858\n",
      "[400]\tvalid_0's l1: 0.671007\tvalid_0's SMAPE: 5.53824\n",
      "[500]\tvalid_0's l1: 0.669374\tvalid_0's SMAPE: 5.52455\n",
      "[600]\tvalid_0's l1: 0.668341\tvalid_0's SMAPE: 5.51585\n",
      "[700]\tvalid_0's l1: 0.667875\tvalid_0's SMAPE: 5.51195\n",
      "[800]\tvalid_0's l1: 0.667504\tvalid_0's SMAPE: 5.50885\n",
      "[900]\tvalid_0's l1: 0.667343\tvalid_0's SMAPE: 5.50749\n"
     ]
    },
    {
     "name": "stderr",
     "output_type": "stream",
     "text": [
      "[I 2025-05-31 02:16:00,735] Trial 46 finished with value: 59.419175220875 and parameters: {'learning_rate': 0.028284096762181844, 'num_leaves': 158, 'max_depth': 6, 'min_child_samples': 18, 'feature_fraction': 0.870329730734065, 'bagging_fraction': 0.8740443454742558, 'bagging_freq': 1, 'lambda_l1': 4.249633783665211, 'lambda_l2': 6.204124555225785}. Best is trial 44 with value: 59.407442626043974.\n"
     ]
    },
    {
     "name": "stdout",
     "output_type": "stream",
     "text": [
      "[1000]\tvalid_0's l1: 0.66712\tvalid_0's SMAPE: 5.50568\n",
      "Did not meet early stopping. Best iteration is:\n",
      "[1000]\tvalid_0's l1: 0.66712\tvalid_0's SMAPE: 5.50568\n",
      "Training until validation scores don't improve for 50 rounds\n",
      "[100]\tvalid_0's l1: 0.702739\tvalid_0's SMAPE: 5.80049\n",
      "[200]\tvalid_0's l1: 0.68591\tvalid_0's SMAPE: 5.66271\n",
      "[300]\tvalid_0's l1: 0.679108\tvalid_0's SMAPE: 5.60588\n",
      "[400]\tvalid_0's l1: 0.675729\tvalid_0's SMAPE: 5.57759\n",
      "[500]\tvalid_0's l1: 0.673683\tvalid_0's SMAPE: 5.56048\n",
      "[600]\tvalid_0's l1: 0.672676\tvalid_0's SMAPE: 5.5521\n",
      "[700]\tvalid_0's l1: 0.671644\tvalid_0's SMAPE: 5.54338\n",
      "[800]\tvalid_0's l1: 0.670963\tvalid_0's SMAPE: 5.53766\n",
      "[900]\tvalid_0's l1: 0.670404\tvalid_0's SMAPE: 5.53297\n",
      "[1000]\tvalid_0's l1: 0.669936\tvalid_0's SMAPE: 5.52902\n",
      "Did not meet early stopping. Best iteration is:\n",
      "[1000]\tvalid_0's l1: 0.669936\tvalid_0's SMAPE: 5.52902\n"
     ]
    },
    {
     "name": "stderr",
     "output_type": "stream",
     "text": [
      "[I 2025-05-31 02:16:02,225] Trial 47 finished with value: 59.640258189202555 and parameters: {'learning_rate': 0.028093376852538297, 'num_leaves': 119, 'max_depth': 5, 'min_child_samples': 19, 'feature_fraction': 0.8690122462161344, 'bagging_fraction': 0.8673907621715564, 'bagging_freq': 0, 'lambda_l1': 3.9860132219165036, 'lambda_l2': 6.543596515869734}. Best is trial 44 with value: 59.407442626043974.\n"
     ]
    },
    {
     "name": "stdout",
     "output_type": "stream",
     "text": [
      "Training until validation scores don't improve for 50 rounds\n",
      "[100]\tvalid_0's l1: 0.7088\tvalid_0's SMAPE: 5.84962\n",
      "[200]\tvalid_0's l1: 0.68687\tvalid_0's SMAPE: 5.67026\n",
      "[300]\tvalid_0's l1: 0.679562\tvalid_0's SMAPE: 5.60998\n",
      "[400]\tvalid_0's l1: 0.675331\tvalid_0's SMAPE: 5.57477\n",
      "[500]\tvalid_0's l1: 0.672672\tvalid_0's SMAPE: 5.55259\n",
      "[600]\tvalid_0's l1: 0.671028\tvalid_0's SMAPE: 5.53881\n",
      "[700]\tvalid_0's l1: 0.669828\tvalid_0's SMAPE: 5.52877\n",
      "[800]\tvalid_0's l1: 0.669001\tvalid_0's SMAPE: 5.52184\n",
      "[900]\tvalid_0's l1: 0.668345\tvalid_0's SMAPE: 5.51637\n"
     ]
    },
    {
     "name": "stderr",
     "output_type": "stream",
     "text": [
      "[I 2025-05-31 02:16:04,135] Trial 48 finished with value: 59.481945312094375 and parameters: {'learning_rate': 0.019964088143421075, 'num_leaves': 148, 'max_depth': 6, 'min_child_samples': 10, 'feature_fraction': 0.7631580422503317, 'bagging_fraction': 0.9600565381815576, 'bagging_freq': 1, 'lambda_l1': 4.408531675095607, 'lambda_l2': 7.45112806992327}. Best is trial 44 with value: 59.407442626043974.\n"
     ]
    },
    {
     "name": "stdout",
     "output_type": "stream",
     "text": [
      "[1000]\tvalid_0's l1: 0.667856\tvalid_0's SMAPE: 5.51222\n",
      "Did not meet early stopping. Best iteration is:\n",
      "[997]\tvalid_0's l1: 0.667852\tvalid_0's SMAPE: 5.51219\n",
      "Training until validation scores don't improve for 50 rounds\n",
      "[100]\tvalid_0's l1: 0.721402\tvalid_0's SMAPE: 5.95239\n",
      "[200]\tvalid_0's l1: 0.692444\tvalid_0's SMAPE: 5.71563\n",
      "[300]\tvalid_0's l1: 0.683181\tvalid_0's SMAPE: 5.63971\n",
      "[400]\tvalid_0's l1: 0.678492\tvalid_0's SMAPE: 5.60085\n",
      "[500]\tvalid_0's l1: 0.675424\tvalid_0's SMAPE: 5.57516\n",
      "[600]\tvalid_0's l1: 0.673051\tvalid_0's SMAPE: 5.55518\n",
      "[700]\tvalid_0's l1: 0.671299\tvalid_0's SMAPE: 5.54043\n",
      "[800]\tvalid_0's l1: 0.670348\tvalid_0's SMAPE: 5.53246\n",
      "[900]\tvalid_0's l1: 0.669693\tvalid_0's SMAPE: 5.52702\n"
     ]
    },
    {
     "name": "stderr",
     "output_type": "stream",
     "text": [
      "[I 2025-05-31 02:16:05,524] Trial 49 finished with value: 59.577306521359375 and parameters: {'learning_rate': 0.015556885115591428, 'num_leaves': 130, 'max_depth': 6, 'min_child_samples': 19, 'feature_fraction': 0.9128654417563103, 'bagging_fraction': 0.8214998501415953, 'bagging_freq': 0, 'lambda_l1': 4.204792485157211, 'lambda_l2': 5.360954273721667}. Best is trial 44 with value: 59.407442626043974.\n"
     ]
    },
    {
     "name": "stdout",
     "output_type": "stream",
     "text": [
      "[1000]\tvalid_0's l1: 0.669126\tvalid_0's SMAPE: 5.52237\n",
      "Did not meet early stopping. Best iteration is:\n",
      "[1000]\tvalid_0's l1: 0.669126\tvalid_0's SMAPE: 5.52237\n",
      "Training until validation scores don't improve for 50 rounds\n",
      "[100]\tvalid_0's l1: 0.708553\tvalid_0's SMAPE: 5.85107\n",
      "[200]\tvalid_0's l1: 0.693103\tvalid_0's SMAPE: 5.72379\n",
      "[300]\tvalid_0's l1: 0.685488\tvalid_0's SMAPE: 5.6601\n",
      "[400]\tvalid_0's l1: 0.681602\tvalid_0's SMAPE: 5.62772\n",
      "[500]\tvalid_0's l1: 0.677864\tvalid_0's SMAPE: 5.59629\n",
      "[600]\tvalid_0's l1: 0.674983\tvalid_0's SMAPE: 5.57213\n",
      "[700]\tvalid_0's l1: 0.673886\tvalid_0's SMAPE: 5.56293\n",
      "[800]\tvalid_0's l1: 0.673125\tvalid_0's SMAPE: 5.55654\n",
      "[900]\tvalid_0's l1: 0.672628\tvalid_0's SMAPE: 5.55229\n",
      "[1000]\tvalid_0's l1: 0.671908\tvalid_0's SMAPE: 5.54618\n",
      "Did not meet early stopping. Best iteration is:\n",
      "[997]\tvalid_0's l1: 0.671904\tvalid_0's SMAPE: 5.54615\n"
     ]
    },
    {
     "name": "stderr",
     "output_type": "stream",
     "text": [
      "[I 2025-05-31 02:16:06,538] Trial 50 finished with value: 59.8252078522526 and parameters: {'learning_rate': 0.033583988392945366, 'num_leaves': 86, 'max_depth': 4, 'min_child_samples': 9, 'feature_fraction': 0.8800107141366326, 'bagging_fraction': 0.9487841892928767, 'bagging_freq': 0, 'lambda_l1': 3.646934423341235, 'lambda_l2': 6.277963840078501}. Best is trial 44 with value: 59.407442626043974.\n"
     ]
    },
    {
     "name": "stdout",
     "output_type": "stream",
     "text": [
      "Training until validation scores don't improve for 50 rounds\n",
      "[100]\tvalid_0's l1: 0.679334\tvalid_0's SMAPE: 5.60648\n",
      "[200]\tvalid_0's l1: 0.671648\tvalid_0's SMAPE: 5.54316\n",
      "[300]\tvalid_0's l1: 0.66948\tvalid_0's SMAPE: 5.52499\n",
      "[400]\tvalid_0's l1: 0.668298\tvalid_0's SMAPE: 5.51505\n",
      "[500]\tvalid_0's l1: 0.667811\tvalid_0's SMAPE: 5.51093\n"
     ]
    },
    {
     "name": "stderr",
     "output_type": "stream",
     "text": [
      "[I 2025-05-31 02:16:07,857] Trial 51 finished with value: 59.4682050599087 and parameters: {'learning_rate': 0.04321592306750047, 'num_leaves': 164, 'max_depth': 7, 'min_child_samples': 15, 'feature_fraction': 0.8191961065950758, 'bagging_fraction': 0.7893696675226987, 'bagging_freq': 2, 'lambda_l1': 4.716817934030454, 'lambda_l2': 7.406204631571715}. Best is trial 44 with value: 59.407442626043974.\n"
     ]
    },
    {
     "name": "stdout",
     "output_type": "stream",
     "text": [
      "Early stopping, best iteration is:\n",
      "[498]\tvalid_0's l1: 0.667747\tvalid_0's SMAPE: 5.51038\n",
      "Training until validation scores don't improve for 50 rounds\n",
      "[100]\tvalid_0's l1: 0.692746\tvalid_0's SMAPE: 5.71797\n",
      "[200]\tvalid_0's l1: 0.678874\tvalid_0's SMAPE: 5.60369\n",
      "[300]\tvalid_0's l1: 0.673781\tvalid_0's SMAPE: 5.56154\n",
      "[400]\tvalid_0's l1: 0.671242\tvalid_0's SMAPE: 5.54039\n",
      "[500]\tvalid_0's l1: 0.669777\tvalid_0's SMAPE: 5.5282\n",
      "[600]\tvalid_0's l1: 0.668884\tvalid_0's SMAPE: 5.52073\n",
      "[700]\tvalid_0's l1: 0.668283\tvalid_0's SMAPE: 5.51557\n",
      "[800]\tvalid_0's l1: 0.667917\tvalid_0's SMAPE: 5.51248\n",
      "[900]\tvalid_0's l1: 0.667636\tvalid_0's SMAPE: 5.51006\n",
      "[1000]\tvalid_0's l1: 0.667457\tvalid_0's SMAPE: 5.50849\n",
      "Did not meet early stopping. Best iteration is:\n",
      "[994]\tvalid_0's l1: 0.667414\tvalid_0's SMAPE: 5.50813\n"
     ]
    },
    {
     "name": "stderr",
     "output_type": "stream",
     "text": [
      "[I 2025-05-31 02:16:09,391] Trial 52 finished with value: 59.444511917683364 and parameters: {'learning_rate': 0.030942428868885083, 'num_leaves': 160, 'max_depth': 6, 'min_child_samples': 13, 'feature_fraction': 0.7976122285751233, 'bagging_fraction': 0.8465812285909036, 'bagging_freq': 1, 'lambda_l1': 5.135559081214971, 'lambda_l2': 8.30437655375679}. Best is trial 44 with value: 59.407442626043974.\n"
     ]
    },
    {
     "name": "stdout",
     "output_type": "stream",
     "text": [
      "Training until validation scores don't improve for 50 rounds\n",
      "[100]\tvalid_0's l1: 0.69218\tvalid_0's SMAPE: 5.71325\n",
      "[200]\tvalid_0's l1: 0.678418\tvalid_0's SMAPE: 5.60006\n",
      "[300]\tvalid_0's l1: 0.673412\tvalid_0's SMAPE: 5.55844\n",
      "[400]\tvalid_0's l1: 0.671224\tvalid_0's SMAPE: 5.54039\n",
      "[500]\tvalid_0's l1: 0.669593\tvalid_0's SMAPE: 5.52679\n",
      "[600]\tvalid_0's l1: 0.668683\tvalid_0's SMAPE: 5.51918\n",
      "[700]\tvalid_0's l1: 0.668194\tvalid_0's SMAPE: 5.51502\n",
      "[800]\tvalid_0's l1: 0.667851\tvalid_0's SMAPE: 5.51212\n",
      "Early stopping, best iteration is:\n",
      "[805]\tvalid_0's l1: 0.667834\tvalid_0's SMAPE: 5.51198\n"
     ]
    },
    {
     "name": "stderr",
     "output_type": "stream",
     "text": [
      "[I 2025-05-31 02:16:10,669] Trial 53 finished with value: 59.481638053664966 and parameters: {'learning_rate': 0.031249311645382225, 'num_leaves': 157, 'max_depth': 6, 'min_child_samples': 34, 'feature_fraction': 0.7969617836566979, 'bagging_fraction': 0.8786519011335744, 'bagging_freq': 1, 'lambda_l1': 3.722275455721319, 'lambda_l2': 8.398549955329347}. Best is trial 44 with value: 59.407442626043974.\n"
     ]
    },
    {
     "name": "stdout",
     "output_type": "stream",
     "text": [
      "Training until validation scores don't improve for 50 rounds\n",
      "[100]\tvalid_0's l1: 0.709501\tvalid_0's SMAPE: 5.85646\n",
      "[200]\tvalid_0's l1: 0.689602\tvalid_0's SMAPE: 5.69362\n",
      "[300]\tvalid_0's l1: 0.681736\tvalid_0's SMAPE: 5.62827\n",
      "[400]\tvalid_0's l1: 0.677384\tvalid_0's SMAPE: 5.59196\n",
      "[500]\tvalid_0's l1: 0.674676\tvalid_0's SMAPE: 5.56939\n",
      "[600]\tvalid_0's l1: 0.672833\tvalid_0's SMAPE: 5.55403\n",
      "[700]\tvalid_0's l1: 0.671549\tvalid_0's SMAPE: 5.54324\n",
      "[800]\tvalid_0's l1: 0.670779\tvalid_0's SMAPE: 5.53679\n",
      "[900]\tvalid_0's l1: 0.670121\tvalid_0's SMAPE: 5.53124\n"
     ]
    },
    {
     "name": "stderr",
     "output_type": "stream",
     "text": [
      "[I 2025-05-31 02:16:12,068] Trial 54 finished with value: 59.62869761848112 and parameters: {'learning_rate': 0.023850375489365118, 'num_leaves': 133, 'max_depth': 5, 'min_child_samples': 12, 'feature_fraction': 0.8663871973736553, 'bagging_fraction': 0.8476523525540149, 'bagging_freq': 1, 'lambda_l1': 5.2596094344464595, 'lambda_l2': 5.182346205791041}. Best is trial 44 with value: 59.407442626043974.\n"
     ]
    },
    {
     "name": "stdout",
     "output_type": "stream",
     "text": [
      "[1000]\tvalid_0's l1: 0.669623\tvalid_0's SMAPE: 5.52703\n",
      "Did not meet early stopping. Best iteration is:\n",
      "[994]\tvalid_0's l1: 0.669623\tvalid_0's SMAPE: 5.52702\n",
      "Training until validation scores don't improve for 50 rounds\n",
      "[100]\tvalid_0's l1: 0.674928\tvalid_0's SMAPE: 5.5712\n",
      "[200]\tvalid_0's l1: 0.66905\tvalid_0's SMAPE: 5.52205\n",
      "[300]\tvalid_0's l1: 0.667352\tvalid_0's SMAPE: 5.50774\n",
      "[400]\tvalid_0's l1: 0.666755\tvalid_0's SMAPE: 5.5027\n",
      "Early stopping, best iteration is:\n",
      "[370]\tvalid_0's l1: 0.666406\tvalid_0's SMAPE: 5.49992\n"
     ]
    },
    {
     "name": "stderr",
     "output_type": "stream",
     "text": [
      "[I 2025-05-31 02:16:12,891] Trial 55 finished with value: 59.35689734521574 and parameters: {'learning_rate': 0.07603162895126407, 'num_leaves': 176, 'max_depth': 6, 'min_child_samples': 21, 'feature_fraction': 0.8115702391631839, 'bagging_fraction': 0.8144185606524796, 'bagging_freq': 2, 'lambda_l1': 2.839361678770688, 'lambda_l2': 8.835573226285472}. Best is trial 55 with value: 59.35689734521574.\n"
     ]
    },
    {
     "name": "stdout",
     "output_type": "stream",
     "text": [
      "Training until validation scores don't improve for 50 rounds\n",
      "[100]\tvalid_0's l1: 0.679814\tvalid_0's SMAPE: 5.6122\n",
      "[200]\tvalid_0's l1: 0.671901\tvalid_0's SMAPE: 5.54577\n",
      "[300]\tvalid_0's l1: 0.669548\tvalid_0's SMAPE: 5.52598\n",
      "[400]\tvalid_0's l1: 0.66855\tvalid_0's SMAPE: 5.51766\n",
      "[500]\tvalid_0's l1: 0.667817\tvalid_0's SMAPE: 5.51146\n"
     ]
    },
    {
     "name": "stderr",
     "output_type": "stream",
     "text": [
      "[I 2025-05-31 02:16:13,969] Trial 56 finished with value: 59.41627246344483 and parameters: {'learning_rate': 0.07886018634064444, 'num_leaves': 178, 'max_depth': 5, 'min_child_samples': 21, 'feature_fraction': 0.8929681976869316, 'bagging_fraction': 0.9015067295361726, 'bagging_freq': 2, 'lambda_l1': 1.7824190645787894, 'lambda_l2': 6.10456088533892}. Best is trial 55 with value: 59.35689734521574.\n"
     ]
    },
    {
     "name": "stdout",
     "output_type": "stream",
     "text": [
      "[600]\tvalid_0's l1: 0.667283\tvalid_0's SMAPE: 5.5071\n",
      "Early stopping, best iteration is:\n",
      "[594]\tvalid_0's l1: 0.667187\tvalid_0's SMAPE: 5.50632\n",
      "Training until validation scores don't improve for 50 rounds\n",
      "[100]\tvalid_0's l1: 0.679266\tvalid_0's SMAPE: 5.60769\n",
      "[200]\tvalid_0's l1: 0.671454\tvalid_0's SMAPE: 5.54228\n",
      "[300]\tvalid_0's l1: 0.669261\tvalid_0's SMAPE: 5.52394\n",
      "[400]\tvalid_0's l1: 0.668206\tvalid_0's SMAPE: 5.51529\n",
      "[500]\tvalid_0's l1: 0.667474\tvalid_0's SMAPE: 5.50904\n",
      "[600]\tvalid_0's l1: 0.667109\tvalid_0's SMAPE: 5.50604\n",
      "Early stopping, best iteration is:\n",
      "[645]\tvalid_0's l1: 0.666896\tvalid_0's SMAPE: 5.50421\n"
     ]
    },
    {
     "name": "stderr",
     "output_type": "stream",
     "text": [
      "[I 2025-05-31 02:16:15,097] Trial 57 finished with value: 59.39899020405887 and parameters: {'learning_rate': 0.08130410276778546, 'num_leaves': 182, 'max_depth': 5, 'min_child_samples': 28, 'feature_fraction': 0.8924541003238133, 'bagging_fraction': 0.9037487854814372, 'bagging_freq': 2, 'lambda_l1': 1.3542233723948212, 'lambda_l2': 5.899971664902814}. Best is trial 55 with value: 59.35689734521574.\n"
     ]
    },
    {
     "name": "stdout",
     "output_type": "stream",
     "text": [
      "Training until validation scores don't improve for 50 rounds\n",
      "[100]\tvalid_0's l1: 0.701614\tvalid_0's SMAPE: 5.79433\n",
      "[200]\tvalid_0's l1: 0.688365\tvalid_0's SMAPE: 5.68434\n",
      "[300]\tvalid_0's l1: 0.681635\tvalid_0's SMAPE: 5.62788\n",
      "[400]\tvalid_0's l1: 0.678331\tvalid_0's SMAPE: 5.60032\n",
      "[500]\tvalid_0's l1: 0.675531\tvalid_0's SMAPE: 5.5767\n",
      "[600]\tvalid_0's l1: 0.674059\tvalid_0's SMAPE: 5.56437\n",
      "[700]\tvalid_0's l1: 0.67304\tvalid_0's SMAPE: 5.55598\n",
      "[800]\tvalid_0's l1: 0.672528\tvalid_0's SMAPE: 5.55161\n",
      "[900]\tvalid_0's l1: 0.671908\tvalid_0's SMAPE: 5.54649\n",
      "[1000]\tvalid_0's l1: 0.671425\tvalid_0's SMAPE: 5.54241\n",
      "Did not meet early stopping. Best iteration is:\n",
      "[1000]\tvalid_0's l1: 0.671425\tvalid_0's SMAPE: 5.54241\n"
     ]
    },
    {
     "name": "stderr",
     "output_type": "stream",
     "text": [
      "[I 2025-05-31 02:16:16,360] Trial 58 finished with value: 59.7697379371391 and parameters: {'learning_rate': 0.08521117408949024, 'num_leaves': 179, 'max_depth': 3, 'min_child_samples': 43, 'feature_fraction': 0.9171257919213281, 'bagging_fraction': 0.9079211012611504, 'bagging_freq': 2, 'lambda_l1': 1.5707632843626238, 'lambda_l2': 5.865463431932508}. Best is trial 55 with value: 59.35689734521574.\n"
     ]
    },
    {
     "name": "stdout",
     "output_type": "stream",
     "text": [
      "Training until validation scores don't improve for 50 rounds\n",
      "[100]\tvalid_0's l1: 0.677288\tvalid_0's SMAPE: 5.59113\n",
      "[200]\tvalid_0's l1: 0.670847\tvalid_0's SMAPE: 5.53716\n",
      "[300]\tvalid_0's l1: 0.668553\tvalid_0's SMAPE: 5.5183\n",
      "[400]\tvalid_0's l1: 0.667742\tvalid_0's SMAPE: 5.51161\n",
      "[500]\tvalid_0's l1: 0.667448\tvalid_0's SMAPE: 5.50928\n"
     ]
    },
    {
     "name": "stderr",
     "output_type": "stream",
     "text": [
      "[I 2025-05-31 02:16:17,391] Trial 59 finished with value: 59.40859487612744 and parameters: {'learning_rate': 0.08103711646953657, 'num_leaves': 172, 'max_depth': 5, 'min_child_samples': 28, 'feature_fraction': 0.8917411111993626, 'bagging_fraction': 0.9345070784149376, 'bagging_freq': 3, 'lambda_l1': 0.5751343498657717, 'lambda_l2': 4.774556425630959}. Best is trial 55 with value: 59.35689734521574.\n"
     ]
    },
    {
     "name": "stdout",
     "output_type": "stream",
     "text": [
      "[600]\tvalid_0's l1: 0.667175\tvalid_0's SMAPE: 5.50697\n",
      "Early stopping, best iteration is:\n",
      "[615]\tvalid_0's l1: 0.667028\tvalid_0's SMAPE: 5.5056\n",
      "Training until validation scores don't improve for 50 rounds\n",
      "[100]\tvalid_0's l1: 0.687719\tvalid_0's SMAPE: 5.67845\n",
      "[200]\tvalid_0's l1: 0.676236\tvalid_0's SMAPE: 5.58243\n",
      "[300]\tvalid_0's l1: 0.673217\tvalid_0's SMAPE: 5.5573\n",
      "[400]\tvalid_0's l1: 0.670669\tvalid_0's SMAPE: 5.53619\n",
      "[500]\tvalid_0's l1: 0.66931\tvalid_0's SMAPE: 5.52495\n",
      "[600]\tvalid_0's l1: 0.668546\tvalid_0's SMAPE: 5.51845\n",
      "[700]\tvalid_0's l1: 0.66821\tvalid_0's SMAPE: 5.51579\n",
      "[800]\tvalid_0's l1: 0.667921\tvalid_0's SMAPE: 5.51334\n",
      "[900]\tvalid_0's l1: 0.667528\tvalid_0's SMAPE: 5.51\n"
     ]
    },
    {
     "name": "stderr",
     "output_type": "stream",
     "text": [
      "[I 2025-05-31 02:16:18,802] Trial 60 finished with value: 59.42968494258967 and parameters: {'learning_rate': 0.08143828130993176, 'num_leaves': 174, 'max_depth': 4, 'min_child_samples': 30, 'feature_fraction': 0.9984102366246724, 'bagging_fraction': 0.937640630497613, 'bagging_freq': 2, 'lambda_l1': 0.5022550603929178, 'lambda_l2': 9.278628353907088}. Best is trial 55 with value: 59.35689734521574.\n"
     ]
    },
    {
     "name": "stdout",
     "output_type": "stream",
     "text": [
      "[1000]\tvalid_0's l1: 0.667266\tvalid_0's SMAPE: 5.50779\n",
      "Did not meet early stopping. Best iteration is:\n",
      "[991]\tvalid_0's l1: 0.667209\tvalid_0's SMAPE: 5.50732\n",
      "Training until validation scores don't improve for 50 rounds\n",
      "[100]\tvalid_0's l1: 0.675319\tvalid_0's SMAPE: 5.57466\n",
      "[200]\tvalid_0's l1: 0.670087\tvalid_0's SMAPE: 5.53082\n",
      "[300]\tvalid_0's l1: 0.668931\tvalid_0's SMAPE: 5.52123\n",
      "[400]\tvalid_0's l1: 0.667822\tvalid_0's SMAPE: 5.51175\n",
      "[500]\tvalid_0's l1: 0.667173\tvalid_0's SMAPE: 5.5064\n",
      "[600]\tvalid_0's l1: 0.666892\tvalid_0's SMAPE: 5.50396\n"
     ]
    },
    {
     "name": "stderr",
     "output_type": "stream",
     "text": [
      "[I 2025-05-31 02:16:19,923] Trial 61 finished with value: 59.37781773500652 and parameters: {'learning_rate': 0.09963059012126334, 'num_leaves': 184, 'max_depth': 5, 'min_child_samples': 21, 'feature_fraction': 0.8900208631465985, 'bagging_fraction': 0.8960768187733228, 'bagging_freq': 3, 'lambda_l1': 1.130810524962444, 'lambda_l2': 6.957559754595426}. Best is trial 55 with value: 59.35689734521574.\n"
     ]
    },
    {
     "name": "stdout",
     "output_type": "stream",
     "text": [
      "Early stopping, best iteration is:\n",
      "[605]\tvalid_0's l1: 0.666814\tvalid_0's SMAPE: 5.50325\n",
      "Training until validation scores don't improve for 50 rounds\n",
      "[100]\tvalid_0's l1: 0.678627\tvalid_0's SMAPE: 5.6017\n",
      "[200]\tvalid_0's l1: 0.672469\tvalid_0's SMAPE: 5.55064\n",
      "[300]\tvalid_0's l1: 0.670231\tvalid_0's SMAPE: 5.53231\n",
      "[400]\tvalid_0's l1: 0.668716\tvalid_0's SMAPE: 5.51981\n",
      "[500]\tvalid_0's l1: 0.667828\tvalid_0's SMAPE: 5.5124\n",
      "[600]\tvalid_0's l1: 0.667401\tvalid_0's SMAPE: 5.50888\n",
      "[700]\tvalid_0's l1: 0.666975\tvalid_0's SMAPE: 5.50528\n",
      "Early stopping, best iteration is:\n",
      "[745]\tvalid_0's l1: 0.666829\tvalid_0's SMAPE: 5.50404\n"
     ]
    },
    {
     "name": "stderr",
     "output_type": "stream",
     "text": [
      "[I 2025-05-31 02:16:21,127] Trial 62 finished with value: 59.39685231930988 and parameters: {'learning_rate': 0.07867319331370946, 'num_leaves': 182, 'max_depth': 5, 'min_child_samples': 36, 'feature_fraction': 0.8901955209815501, 'bagging_fraction': 0.9989573127239133, 'bagging_freq': 3, 'lambda_l1': 1.058257976808922, 'lambda_l2': 6.959125207635853}. Best is trial 55 with value: 59.35689734521574.\n"
     ]
    },
    {
     "name": "stdout",
     "output_type": "stream",
     "text": [
      "Training until validation scores don't improve for 50 rounds\n",
      "[100]\tvalid_0's l1: 0.680123\tvalid_0's SMAPE: 5.61533\n",
      "[200]\tvalid_0's l1: 0.672916\tvalid_0's SMAPE: 5.55509\n",
      "[300]\tvalid_0's l1: 0.670235\tvalid_0's SMAPE: 5.53253\n",
      "[400]\tvalid_0's l1: 0.668883\tvalid_0's SMAPE: 5.5212\n",
      "[500]\tvalid_0's l1: 0.668092\tvalid_0's SMAPE: 5.51456\n"
     ]
    },
    {
     "name": "stderr",
     "output_type": "stream",
     "text": [
      "[I 2025-05-31 02:16:22,342] Trial 63 finished with value: 59.443887688481986 and parameters: {'learning_rate': 0.0980293010817531, 'num_leaves': 211, 'max_depth': 5, 'min_child_samples': 36, 'feature_fraction': 0.5031542561635896, 'bagging_fraction': 0.9924822439239744, 'bagging_freq': 3, 'lambda_l1': 0.6955172702885052, 'lambda_l2': 6.9832229245128925}. Best is trial 55 with value: 59.35689734521574.\n"
     ]
    },
    {
     "name": "stdout",
     "output_type": "stream",
     "text": [
      "[600]\tvalid_0's l1: 0.667335\tvalid_0's SMAPE: 5.50835\n",
      "Early stopping, best iteration is:\n",
      "[606]\tvalid_0's l1: 0.667326\tvalid_0's SMAPE: 5.50828\n",
      "Training until validation scores don't improve for 50 rounds\n",
      "[100]\tvalid_0's l1: 0.694702\tvalid_0's SMAPE: 5.73708\n",
      "[200]\tvalid_0's l1: 0.682611\tvalid_0's SMAPE: 5.63614\n",
      "[300]\tvalid_0's l1: 0.677357\tvalid_0's SMAPE: 5.59211\n",
      "[400]\tvalid_0's l1: 0.674328\tvalid_0's SMAPE: 5.56664\n",
      "[500]\tvalid_0's l1: 0.672779\tvalid_0's SMAPE: 5.55348\n",
      "[600]\tvalid_0's l1: 0.671775\tvalid_0's SMAPE: 5.54508\n",
      "[700]\tvalid_0's l1: 0.670862\tvalid_0's SMAPE: 5.53742\n",
      "[800]\tvalid_0's l1: 0.670231\tvalid_0's SMAPE: 5.53216\n",
      "[900]\tvalid_0's l1: 0.669606\tvalid_0's SMAPE: 5.5269\n"
     ]
    },
    {
     "name": "stderr",
     "output_type": "stream",
     "text": [
      "[I 2025-05-31 02:16:23,677] Trial 64 finished with value: 59.594294122376844 and parameters: {'learning_rate': 0.05482334409149622, 'num_leaves': 188, 'max_depth': 4, 'min_child_samples': 27, 'feature_fraction': 0.8157735383838046, 'bagging_fraction': 0.9768619711233605, 'bagging_freq': 3, 'lambda_l1': 1.1235596528780634, 'lambda_l2': 4.735483399037908}. Best is trial 55 with value: 59.35689734521574.\n"
     ]
    },
    {
     "name": "stdout",
     "output_type": "stream",
     "text": [
      "[1000]\tvalid_0's l1: 0.669177\tvalid_0's SMAPE: 5.52348\n",
      "Did not meet early stopping. Best iteration is:\n",
      "[990]\tvalid_0's l1: 0.669125\tvalid_0's SMAPE: 5.52307\n",
      "Training until validation scores don't improve for 50 rounds\n",
      "[100]\tvalid_0's l1: 0.691323\tvalid_0's SMAPE: 5.70819\n",
      "[200]\tvalid_0's l1: 0.679736\tvalid_0's SMAPE: 5.61136\n",
      "[300]\tvalid_0's l1: 0.674587\tvalid_0's SMAPE: 5.56887\n",
      "[400]\tvalid_0's l1: 0.672009\tvalid_0's SMAPE: 5.54749\n",
      "[500]\tvalid_0's l1: 0.670358\tvalid_0's SMAPE: 5.53377\n",
      "[600]\tvalid_0's l1: 0.669739\tvalid_0's SMAPE: 5.52865\n",
      "[700]\tvalid_0's l1: 0.668939\tvalid_0's SMAPE: 5.52197\n",
      "[800]\tvalid_0's l1: 0.668618\tvalid_0's SMAPE: 5.51922\n",
      "[900]\tvalid_0's l1: 0.668128\tvalid_0's SMAPE: 5.51511\n",
      "[1000]\tvalid_0's l1: 0.667938\tvalid_0's SMAPE: 5.51341\n",
      "Did not meet early stopping. Best iteration is:\n",
      "[996]\tvalid_0's l1: 0.667867\tvalid_0's SMAPE: 5.51282\n"
     ]
    },
    {
     "name": "stderr",
     "output_type": "stream",
     "text": [
      "[I 2025-05-31 02:16:25,047] Trial 65 finished with value: 59.481509620695014 and parameters: {'learning_rate': 0.06334200413497815, 'num_leaves': 300, 'max_depth': 4, 'min_child_samples': 40, 'feature_fraction': 0.9521296165698807, 'bagging_fraction': 0.9307115209860789, 'bagging_freq': 4, 'lambda_l1': 2.20108098965974, 'lambda_l2': 6.729246079176227}. Best is trial 55 with value: 59.35689734521574.\n"
     ]
    },
    {
     "name": "stdout",
     "output_type": "stream",
     "text": [
      "Training until validation scores don't improve for 50 rounds\n",
      "[100]\tvalid_0's l1: 0.677247\tvalid_0's SMAPE: 5.59113\n",
      "[200]\tvalid_0's l1: 0.671168\tvalid_0's SMAPE: 5.54023\n",
      "[300]\tvalid_0's l1: 0.66862\tvalid_0's SMAPE: 5.51894\n",
      "[400]\tvalid_0's l1: 0.66805\tvalid_0's SMAPE: 5.5142\n",
      "[500]\tvalid_0's l1: 0.667526\tvalid_0's SMAPE: 5.50964\n",
      "Early stopping, best iteration is:\n",
      "[494]\tvalid_0's l1: 0.667411\tvalid_0's SMAPE: 5.50867\n"
     ]
    },
    {
     "name": "stderr",
     "output_type": "stream",
     "text": [
      "[I 2025-05-31 02:16:25,873] Trial 66 finished with value: 59.42898429196289 and parameters: {'learning_rate': 0.09914284684373764, 'num_leaves': 202, 'max_depth': 5, 'min_child_samples': 32, 'feature_fraction': 0.9018428800219037, 'bagging_fraction': 0.8911745433533514, 'bagging_freq': 4, 'lambda_l1': 0.15745836816929581, 'lambda_l2': 7.760732101096414}. Best is trial 55 with value: 59.35689734521574.\n"
     ]
    },
    {
     "name": "stdout",
     "output_type": "stream",
     "text": [
      "Training until validation scores don't improve for 50 rounds\n",
      "[100]\tvalid_0's l1: 0.688326\tvalid_0's SMAPE: 5.68301\n",
      "[200]\tvalid_0's l1: 0.67765\tvalid_0's SMAPE: 5.5941\n",
      "[300]\tvalid_0's l1: 0.673791\tvalid_0's SMAPE: 5.5622\n",
      "[400]\tvalid_0's l1: 0.671127\tvalid_0's SMAPE: 5.53981\n",
      "[500]\tvalid_0's l1: 0.669883\tvalid_0's SMAPE: 5.52961\n",
      "[600]\tvalid_0's l1: 0.669446\tvalid_0's SMAPE: 5.52579\n",
      "[700]\tvalid_0's l1: 0.668627\tvalid_0's SMAPE: 5.51899\n",
      "[800]\tvalid_0's l1: 0.667905\tvalid_0's SMAPE: 5.51294\n",
      "[900]\tvalid_0's l1: 0.667603\tvalid_0's SMAPE: 5.51039\n",
      "Early stopping, best iteration is:\n",
      "[888]\tvalid_0's l1: 0.667464\tvalid_0's SMAPE: 5.50924\n"
     ]
    },
    {
     "name": "stderr",
     "output_type": "stream",
     "text": [
      "[I 2025-05-31 02:16:27,101] Trial 67 finished with value: 59.442357193571596 and parameters: {'learning_rate': 0.08036121755094092, 'num_leaves': 141, 'max_depth': 4, 'min_child_samples': 26, 'feature_fraction': 0.8826990040020684, 'bagging_fraction': 0.9716610615299266, 'bagging_freq': 3, 'lambda_l1': 0.892707380135194, 'lambda_l2': 9.959858395131944}. Best is trial 55 with value: 59.35689734521574.\n"
     ]
    },
    {
     "name": "stdout",
     "output_type": "stream",
     "text": [
      "Training until validation scores don't improve for 50 rounds\n",
      "[100]\tvalid_0's l1: 0.68515\tvalid_0's SMAPE: 5.65658\n",
      "[200]\tvalid_0's l1: 0.676302\tvalid_0's SMAPE: 5.58272\n",
      "[300]\tvalid_0's l1: 0.672665\tvalid_0's SMAPE: 5.55227\n",
      "[400]\tvalid_0's l1: 0.670914\tvalid_0's SMAPE: 5.53772\n",
      "[500]\tvalid_0's l1: 0.669687\tvalid_0's SMAPE: 5.52749\n",
      "[600]\tvalid_0's l1: 0.668212\tvalid_0's SMAPE: 5.51528\n",
      "[700]\tvalid_0's l1: 0.667837\tvalid_0's SMAPE: 5.5122\n"
     ]
    },
    {
     "name": "stderr",
     "output_type": "stream",
     "text": [
      "[I 2025-05-31 02:16:28,255] Trial 68 finished with value: 59.48661158580796 and parameters: {'learning_rate': 0.053655400084554314, 'num_leaves': 171, 'max_depth': 5, 'min_child_samples': 34, 'feature_fraction': 0.9296147084511416, 'bagging_fraction': 0.9971054984266972, 'bagging_freq': 5, 'lambda_l1': 1.3684679242555233, 'lambda_l2': 5.072159493179989}. Best is trial 55 with value: 59.35689734521574.\n"
     ]
    },
    {
     "name": "stdout",
     "output_type": "stream",
     "text": [
      "Early stopping, best iteration is:\n",
      "[704]\tvalid_0's l1: 0.6678\tvalid_0's SMAPE: 5.51191\n",
      "Training until validation scores don't improve for 50 rounds\n",
      "[100]\tvalid_0's l1: 0.67619\tvalid_0's SMAPE: 5.58052\n",
      "[200]\tvalid_0's l1: 0.67051\tvalid_0's SMAPE: 5.53358\n",
      "[300]\tvalid_0's l1: 0.66853\tvalid_0's SMAPE: 5.51718\n",
      "[400]\tvalid_0's l1: 0.667971\tvalid_0's SMAPE: 5.5125\n",
      "[500]\tvalid_0's l1: 0.667577\tvalid_0's SMAPE: 5.50942\n",
      "[600]\tvalid_0's l1: 0.667504\tvalid_0's SMAPE: 5.50873\n"
     ]
    },
    {
     "name": "stderr",
     "output_type": "stream",
     "text": [
      "[I 2025-05-31 02:16:29,499] Trial 69 finished with value: 59.41757764427889 and parameters: {'learning_rate': 0.07270633927038965, 'num_leaves': 214, 'max_depth': 6, 'min_child_samples': 50, 'feature_fraction': 0.9618092870569894, 'bagging_fraction': 0.9551077350049445, 'bagging_freq': 3, 'lambda_l1': 2.651630034970399, 'lambda_l2': 8.960838856652114}. Best is trial 55 with value: 59.35689734521574.\n"
     ]
    },
    {
     "name": "stdout",
     "output_type": "stream",
     "text": [
      "Early stopping, best iteration is:\n",
      "[629]\tvalid_0's l1: 0.667388\tvalid_0's SMAPE: 5.50774\n",
      "Training until validation scores don't improve for 50 rounds\n",
      "[100]\tvalid_0's l1: 0.678462\tvalid_0's SMAPE: 5.59983\n",
      "[200]\tvalid_0's l1: 0.672018\tvalid_0's SMAPE: 5.54622\n",
      "[300]\tvalid_0's l1: 0.670706\tvalid_0's SMAPE: 5.53512\n",
      "[400]\tvalid_0's l1: 0.669648\tvalid_0's SMAPE: 5.52651\n"
     ]
    },
    {
     "name": "stderr",
     "output_type": "stream",
     "text": [
      "[I 2025-05-31 02:16:30,455] Trial 70 finished with value: 59.5231882283096 and parameters: {'learning_rate': 0.08986041254755212, 'num_leaves': 122, 'max_depth': 5, 'min_child_samples': 43, 'feature_fraction': 0.8318514435696995, 'bagging_fraction': 0.815732708198288, 'bagging_freq': 4, 'lambda_l1': 0.35702200908644466, 'lambda_l2': 5.844765993494569}. Best is trial 55 with value: 59.35689734521574.\n"
     ]
    },
    {
     "name": "stdout",
     "output_type": "stream",
     "text": [
      "[500]\tvalid_0's l1: 0.668795\tvalid_0's SMAPE: 5.51926\n",
      "Early stopping, best iteration is:\n",
      "[532]\tvalid_0's l1: 0.668754\tvalid_0's SMAPE: 5.51892\n",
      "Training until validation scores don't improve for 50 rounds\n",
      "[100]\tvalid_0's l1: 0.679767\tvalid_0's SMAPE: 5.61199\n",
      "[200]\tvalid_0's l1: 0.671651\tvalid_0's SMAPE: 5.54413\n",
      "[300]\tvalid_0's l1: 0.669483\tvalid_0's SMAPE: 5.52597\n",
      "[400]\tvalid_0's l1: 0.668342\tvalid_0's SMAPE: 5.51646\n",
      "[500]\tvalid_0's l1: 0.667462\tvalid_0's SMAPE: 5.50913\n"
     ]
    },
    {
     "name": "stderr",
     "output_type": "stream",
     "text": [
      "[I 2025-05-31 02:16:31,467] Trial 71 finished with value: 59.43733489621936 and parameters: {'learning_rate': 0.07776315058695185, 'num_leaves': 182, 'max_depth': 5, 'min_child_samples': 21, 'feature_fraction': 0.8912267928661611, 'bagging_fraction': 0.9106555168883071, 'bagging_freq': 2, 'lambda_l1': 1.6918105462200081, 'lambda_l2': 7.342171665492515}. Best is trial 55 with value: 59.35689734521574.\n"
     ]
    },
    {
     "name": "stdout",
     "output_type": "stream",
     "text": [
      "Early stopping, best iteration is:\n",
      "[498]\tvalid_0's l1: 0.667386\tvalid_0's SMAPE: 5.50848\n",
      "Training until validation scores don't improve for 50 rounds\n",
      "[100]\tvalid_0's l1: 0.683616\tvalid_0's SMAPE: 5.64427\n",
      "[200]\tvalid_0's l1: 0.673285\tvalid_0's SMAPE: 5.55761\n",
      "[300]\tvalid_0's l1: 0.670371\tvalid_0's SMAPE: 5.53328\n",
      "[400]\tvalid_0's l1: 0.668953\tvalid_0's SMAPE: 5.52122\n",
      "[500]\tvalid_0's l1: 0.667991\tvalid_0's SMAPE: 5.51309\n",
      "[600]\tvalid_0's l1: 0.667602\tvalid_0's SMAPE: 5.50995\n"
     ]
    },
    {
     "name": "stderr",
     "output_type": "stream",
     "text": [
      "[I 2025-05-31 02:16:32,643] Trial 72 finished with value: 59.44276361375906 and parameters: {'learning_rate': 0.06150721744583823, 'num_leaves': 41, 'max_depth': 5, 'min_child_samples': 22, 'feature_fraction': 0.8578769791020482, 'bagging_fraction': 0.8911115046051149, 'bagging_freq': 2, 'lambda_l1': 1.86503791776487, 'lambda_l2': 5.371675578017383}. Best is trial 55 with value: 59.35689734521574.\n"
     ]
    },
    {
     "name": "stdout",
     "output_type": "stream",
     "text": [
      "Early stopping, best iteration is:\n",
      "[617]\tvalid_0's l1: 0.667475\tvalid_0's SMAPE: 5.5089\n",
      "Training until validation scores don't improve for 50 rounds\n",
      "[100]\tvalid_0's l1: 0.672558\tvalid_0's SMAPE: 5.55104\n",
      "[200]\tvalid_0's l1: 0.668396\tvalid_0's SMAPE: 5.51663\n",
      "[300]\tvalid_0's l1: 0.668078\tvalid_0's SMAPE: 5.51397\n",
      "[400]\tvalid_0's l1: 0.667195\tvalid_0's SMAPE: 5.5064\n"
     ]
    },
    {
     "name": "stderr",
     "output_type": "stream",
     "text": [
      "[I 2025-05-31 02:16:33,526] Trial 73 finished with value: 59.40706240867235 and parameters: {'learning_rate': 0.085214054265455, 'num_leaves': 176, 'max_depth': 6, 'min_child_samples': 28, 'feature_fraction': 0.9101891766792485, 'bagging_fraction': 0.835443247518103, 'bagging_freq': 2, 'lambda_l1': 0.9528766353095133, 'lambda_l2': 4.52086862495989}. Best is trial 55 with value: 59.35689734521574.\n"
     ]
    },
    {
     "name": "stdout",
     "output_type": "stream",
     "text": [
      "Early stopping, best iteration is:\n",
      "[392]\tvalid_0's l1: 0.667073\tvalid_0's SMAPE: 5.50539\n",
      "Training until validation scores don't improve for 50 rounds\n",
      "[100]\tvalid_0's l1: 0.673898\tvalid_0's SMAPE: 5.56164\n",
      "[200]\tvalid_0's l1: 0.668661\tvalid_0's SMAPE: 5.51845\n",
      "[300]\tvalid_0's l1: 0.667525\tvalid_0's SMAPE: 5.50938\n",
      "[400]\tvalid_0's l1: 0.667181\tvalid_0's SMAPE: 5.50637\n",
      "Early stopping, best iteration is:\n",
      "[372]\tvalid_0's l1: 0.667142\tvalid_0's SMAPE: 5.50602\n"
     ]
    },
    {
     "name": "stderr",
     "output_type": "stream",
     "text": [
      "[I 2025-05-31 02:16:34,446] Trial 74 finished with value: 59.42201120616297 and parameters: {'learning_rate': 0.05087300328724019, 'num_leaves': 169, 'max_depth': 7, 'min_child_samples': 27, 'feature_fraction': 0.9198818419447308, 'bagging_fraction': 0.8625888875939058, 'bagging_freq': 3, 'lambda_l1': 0.7470279956466713, 'lambda_l2': 3.8041858061457603}. Best is trial 55 with value: 59.35689734521574.\n"
     ]
    },
    {
     "name": "stdout",
     "output_type": "stream",
     "text": [
      "Training until validation scores don't improve for 50 rounds\n",
      "[100]\tvalid_0's l1: 0.676182\tvalid_0's SMAPE: 5.58135\n",
      "[200]\tvalid_0's l1: 0.669958\tvalid_0's SMAPE: 5.52967\n",
      "[300]\tvalid_0's l1: 0.668349\tvalid_0's SMAPE: 5.5162\n",
      "[400]\tvalid_0's l1: 0.667323\tvalid_0's SMAPE: 5.50755\n",
      "Early stopping, best iteration is:\n",
      "[428]\tvalid_0's l1: 0.667078\tvalid_0's SMAPE: 5.50556\n"
     ]
    },
    {
     "name": "stderr",
     "output_type": "stream",
     "text": [
      "[I 2025-05-31 02:16:35,371] Trial 75 finished with value: 59.42852477500175 and parameters: {'learning_rate': 0.06648358429087903, 'num_leaves': 151, 'max_depth': 6, 'min_child_samples': 30, 'feature_fraction': 0.9047479623377486, 'bagging_fraction': 0.8344877807740705, 'bagging_freq': 2, 'lambda_l1': 1.2037759836612407, 'lambda_l2': 4.317378034202292}. Best is trial 55 with value: 59.35689734521574.\n"
     ]
    },
    {
     "name": "stdout",
     "output_type": "stream",
     "text": [
      "Training until validation scores don't improve for 50 rounds\n",
      "[100]\tvalid_0's l1: 0.670089\tvalid_0's SMAPE: 5.53023\n"
     ]
    },
    {
     "name": "stderr",
     "output_type": "stream",
     "text": [
      "[I 2025-05-31 02:16:35,986] Trial 76 finished with value: 59.44009218375871 and parameters: {'learning_rate': 0.09947187167303045, 'num_leaves': 188, 'max_depth': 7, 'min_child_samples': 36, 'feature_fraction': 0.9439542631465642, 'bagging_fraction': 0.9271135431620765, 'bagging_freq': 3, 'lambda_l1': 2.9171850441104863, 'lambda_l2': 4.718174717962147}. Best is trial 55 with value: 59.35689734521574.\n"
     ]
    },
    {
     "name": "stdout",
     "output_type": "stream",
     "text": [
      "[200]\tvalid_0's l1: 0.667579\tvalid_0's SMAPE: 5.5098\n",
      "Early stopping, best iteration is:\n",
      "[213]\tvalid_0's l1: 0.667308\tvalid_0's SMAPE: 5.5077\n",
      "Training until validation scores don't improve for 50 rounds\n",
      "[100]\tvalid_0's l1: 0.833934\tvalid_0's SMAPE: 6.87133\n",
      "[200]\tvalid_0's l1: 0.783114\tvalid_0's SMAPE: 6.45604\n",
      "[300]\tvalid_0's l1: 0.753153\tvalid_0's SMAPE: 6.21201\n",
      "[400]\tvalid_0's l1: 0.735378\tvalid_0's SMAPE: 6.06747\n",
      "[500]\tvalid_0's l1: 0.725063\tvalid_0's SMAPE: 5.98432\n",
      "[600]\tvalid_0's l1: 0.717844\tvalid_0's SMAPE: 5.9258\n",
      "[700]\tvalid_0's l1: 0.711937\tvalid_0's SMAPE: 5.87776\n",
      "[800]\tvalid_0's l1: 0.707431\tvalid_0's SMAPE: 5.84101\n",
      "[900]\tvalid_0's l1: 0.703989\tvalid_0's SMAPE: 5.81293\n"
     ]
    },
    {
     "name": "stderr",
     "output_type": "stream",
     "text": [
      "[I 2025-05-31 02:16:37,369] Trial 77 finished with value: 62.19196445605127 and parameters: {'learning_rate': 0.004445083607255775, 'num_leaves': 204, 'max_depth': 4, 'min_child_samples': 47, 'feature_fraction': 0.7846992865711746, 'bagging_fraction': 0.8029421189457868, 'bagging_freq': 5, 'lambda_l1': 2.018724001911994, 'lambda_l2': 7.159941994362862}. Best is trial 55 with value: 59.35689734521574.\n"
     ]
    },
    {
     "name": "stdout",
     "output_type": "stream",
     "text": [
      "[1000]\tvalid_0's l1: 0.701065\tvalid_0's SMAPE: 5.78893\n",
      "Did not meet early stopping. Best iteration is:\n",
      "[1000]\tvalid_0's l1: 0.701065\tvalid_0's SMAPE: 5.78893\n",
      "Training until validation scores don't improve for 50 rounds\n",
      "[100]\tvalid_0's l1: 0.673306\tvalid_0's SMAPE: 5.55751\n",
      "[200]\tvalid_0's l1: 0.66854\tvalid_0's SMAPE: 5.51776\n",
      "[300]\tvalid_0's l1: 0.667112\tvalid_0's SMAPE: 5.50583\n",
      "[400]\tvalid_0's l1: 0.66649\tvalid_0's SMAPE: 5.50057\n",
      "Early stopping, best iteration is:\n",
      "[376]\tvalid_0's l1: 0.666316\tvalid_0's SMAPE: 5.49928\n"
     ]
    },
    {
     "name": "stderr",
     "output_type": "stream",
     "text": [
      "[I 2025-05-31 02:16:38,191] Trial 78 finished with value: 59.348785653760984 and parameters: {'learning_rate': 0.0893436642162904, 'num_leaves': 220, 'max_depth': 6, 'min_child_samples': 25, 'feature_fraction': 0.8556088861111303, 'bagging_fraction': 0.9439802992201605, 'bagging_freq': 4, 'lambda_l1': 2.47160958671776, 'lambda_l2': 4.934612477217659}. Best is trial 78 with value: 59.348785653760984.\n"
     ]
    },
    {
     "name": "stdout",
     "output_type": "stream",
     "text": [
      "Training until validation scores don't improve for 50 rounds\n",
      "[100]\tvalid_0's l1: 0.672438\tvalid_0's SMAPE: 5.55053\n",
      "[200]\tvalid_0's l1: 0.668162\tvalid_0's SMAPE: 5.51492\n",
      "[300]\tvalid_0's l1: 0.667177\tvalid_0's SMAPE: 5.50641\n"
     ]
    },
    {
     "name": "stderr",
     "output_type": "stream",
     "text": [
      "[I 2025-05-31 02:16:39,026] Trial 79 finished with value: 59.35697774280607 and parameters: {'learning_rate': 0.08986841188723826, 'num_leaves': 222, 'max_depth': 6, 'min_child_samples': 25, 'feature_fraction': 0.8558556869180202, 'bagging_fraction': 0.9509129693272519, 'bagging_freq': 4, 'lambda_l1': 1.418746039241282, 'lambda_l2': 4.94426195830151}. Best is trial 78 with value: 59.348785653760984.\n"
     ]
    },
    {
     "name": "stdout",
     "output_type": "stream",
     "text": [
      "[400]\tvalid_0's l1: 0.666419\tvalid_0's SMAPE: 5.50001\n",
      "Early stopping, best iteration is:\n",
      "[389]\tvalid_0's l1: 0.666396\tvalid_0's SMAPE: 5.49986\n",
      "Training until validation scores don't improve for 50 rounds\n",
      "[100]\tvalid_0's l1: 0.675845\tvalid_0's SMAPE: 5.57671\n",
      "[200]\tvalid_0's l1: 0.671665\tvalid_0's SMAPE: 5.54264\n"
     ]
    },
    {
     "name": "stderr",
     "output_type": "stream",
     "text": [
      "[I 2025-05-31 02:16:39,694] Trial 80 finished with value: 59.59974951348097 and parameters: {'learning_rate': 0.08937689521673671, 'num_leaves': 225, 'max_depth': 6, 'min_child_samples': 87, 'feature_fraction': 0.8284321465105956, 'bagging_fraction': 0.9438118324898718, 'bagging_freq': 4, 'lambda_l1': 1.0028651108165403, 'lambda_l2': 8.07370985136641}. Best is trial 78 with value: 59.348785653760984.\n"
     ]
    },
    {
     "name": "stdout",
     "output_type": "stream",
     "text": [
      "[300]\tvalid_0's l1: 0.669676\tvalid_0's SMAPE: 5.52621\n",
      "Early stopping, best iteration is:\n",
      "[331]\tvalid_0's l1: 0.669417\tvalid_0's SMAPE: 5.5242\n",
      "Training until validation scores don't improve for 50 rounds\n",
      "[100]\tvalid_0's l1: 0.677052\tvalid_0's SMAPE: 5.58875\n",
      "[200]\tvalid_0's l1: 0.669993\tvalid_0's SMAPE: 5.52969\n",
      "[300]\tvalid_0's l1: 0.667626\tvalid_0's SMAPE: 5.51004\n"
     ]
    },
    {
     "name": "stderr",
     "output_type": "stream",
     "text": [
      "[I 2025-05-31 02:16:40,573] Trial 81 finished with value: 59.395794300891424 and parameters: {'learning_rate': 0.06042618848406114, 'num_leaves': 220, 'max_depth': 6, 'min_child_samples': 24, 'feature_fraction': 0.856564419008704, 'bagging_fraction': 0.9180532786469707, 'bagging_freq': 3, 'lambda_l1': 0.5250828833943313, 'lambda_l2': 4.921315450950723}. Best is trial 78 with value: 59.348785653760984.\n"
     ]
    },
    {
     "name": "stdout",
     "output_type": "stream",
     "text": [
      "[400]\tvalid_0's l1: 0.667001\tvalid_0's SMAPE: 5.5049\n",
      "Early stopping, best iteration is:\n",
      "[415]\tvalid_0's l1: 0.666846\tvalid_0's SMAPE: 5.50349\n",
      "Training until validation scores don't improve for 50 rounds\n",
      "[100]\tvalid_0's l1: 0.678517\tvalid_0's SMAPE: 5.60128\n",
      "[200]\tvalid_0's l1: 0.670682\tvalid_0's SMAPE: 5.53568\n",
      "[300]\tvalid_0's l1: 0.668649\tvalid_0's SMAPE: 5.51859\n",
      "[400]\tvalid_0's l1: 0.667361\tvalid_0's SMAPE: 5.5078\n",
      "[500]\tvalid_0's l1: 0.666551\tvalid_0's SMAPE: 5.50117\n",
      "[600]\tvalid_0's l1: 0.66635\tvalid_0's SMAPE: 5.49946\n"
     ]
    },
    {
     "name": "stderr",
     "output_type": "stream",
     "text": [
      "[I 2025-05-31 02:16:41,843] Trial 82 finished with value: 59.35332513701513 and parameters: {'learning_rate': 0.05825454485203833, 'num_leaves': 237, 'max_depth': 6, 'min_child_samples': 24, 'feature_fraction': 0.8565422352438253, 'bagging_fraction': 0.9809909632520053, 'bagging_freq': 4, 'lambda_l1': 2.410352162097641, 'lambda_l2': 5.055609409753533}. Best is trial 78 with value: 59.348785653760984.\n"
     ]
    },
    {
     "name": "stdout",
     "output_type": "stream",
     "text": [
      "Early stopping, best iteration is:\n",
      "[596]\tvalid_0's l1: 0.666311\tvalid_0's SMAPE: 5.49915\n",
      "Training until validation scores don't improve for 50 rounds\n",
      "[100]\tvalid_0's l1: 0.674603\tvalid_0's SMAPE: 5.56814\n",
      "[200]\tvalid_0's l1: 0.669136\tvalid_0's SMAPE: 5.52233\n",
      "[300]\tvalid_0's l1: 0.667777\tvalid_0's SMAPE: 5.511\n",
      "[400]\tvalid_0's l1: 0.666842\tvalid_0's SMAPE: 5.50307\n"
     ]
    },
    {
     "name": "stderr",
     "output_type": "stream",
     "text": [
      "[I 2025-05-31 02:16:42,764] Trial 83 finished with value: 59.364025438325505 and parameters: {'learning_rate': 0.07306014202305355, 'num_leaves': 243, 'max_depth': 6, 'min_child_samples': 25, 'feature_fraction': 0.8815145069687641, 'bagging_fraction': 0.9680227453359981, 'bagging_freq': 4, 'lambda_l1': 2.4992830686654073, 'lambda_l2': 5.041763284064443}. Best is trial 78 with value: 59.348785653760984.\n"
     ]
    },
    {
     "name": "stdout",
     "output_type": "stream",
     "text": [
      "Early stopping, best iteration is:\n",
      "[438]\tvalid_0's l1: 0.666607\tvalid_0's SMAPE: 5.50104\n",
      "Training until validation scores don't improve for 50 rounds\n",
      "[100]\tvalid_0's l1: 0.678905\tvalid_0's SMAPE: 5.60475\n",
      "[200]\tvalid_0's l1: 0.670184\tvalid_0's SMAPE: 5.53151\n",
      "[300]\tvalid_0's l1: 0.667987\tvalid_0's SMAPE: 5.51322\n",
      "[400]\tvalid_0's l1: 0.666919\tvalid_0's SMAPE: 5.50431\n"
     ]
    },
    {
     "name": "stderr",
     "output_type": "stream",
     "text": [
      "[I 2025-05-31 02:16:43,678] Trial 84 finished with value: 59.37958522555968 and parameters: {'learning_rate': 0.05914998907391232, 'num_leaves': 245, 'max_depth': 6, 'min_child_samples': 23, 'feature_fraction': 0.8595544502037106, 'bagging_fraction': 0.9680094747735082, 'bagging_freq': 4, 'lambda_l1': 2.5894009750605234, 'lambda_l2': 5.746308730299251}. Best is trial 78 with value: 59.348785653760984.\n"
     ]
    },
    {
     "name": "stdout",
     "output_type": "stream",
     "text": [
      "Early stopping, best iteration is:\n",
      "[425]\tvalid_0's l1: 0.666678\tvalid_0's SMAPE: 5.50226\n",
      "Training until validation scores don't improve for 50 rounds\n",
      "[100]\tvalid_0's l1: 0.677957\tvalid_0's SMAPE: 5.59673\n",
      "[200]\tvalid_0's l1: 0.670588\tvalid_0's SMAPE: 5.53476\n",
      "[300]\tvalid_0's l1: 0.668415\tvalid_0's SMAPE: 5.51646\n",
      "[400]\tvalid_0's l1: 0.667121\tvalid_0's SMAPE: 5.50572\n",
      "[500]\tvalid_0's l1: 0.666704\tvalid_0's SMAPE: 5.50241\n",
      "[600]\tvalid_0's l1: 0.666353\tvalid_0's SMAPE: 5.49946\n"
     ]
    },
    {
     "name": "stderr",
     "output_type": "stream",
     "text": [
      "[I 2025-05-31 02:16:44,850] Trial 85 finished with value: 59.34486723706745 and parameters: {'learning_rate': 0.06124450839057146, 'num_leaves': 249, 'max_depth': 6, 'min_child_samples': 25, 'feature_fraction': 0.8555095353944043, 'bagging_fraction': 0.9838929216691009, 'bagging_freq': 4, 'lambda_l1': 2.4867210504607833, 'lambda_l2': 5.073323560417457}. Best is trial 85 with value: 59.34486723706745.\n"
     ]
    },
    {
     "name": "stdout",
     "output_type": "stream",
     "text": [
      "Early stopping, best iteration is:\n",
      "[601]\tvalid_0's l1: 0.666351\tvalid_0's SMAPE: 5.49944\n",
      "Training until validation scores don't improve for 50 rounds\n",
      "[100]\tvalid_0's l1: 0.678364\tvalid_0's SMAPE: 5.59999\n",
      "[200]\tvalid_0's l1: 0.670812\tvalid_0's SMAPE: 5.53654\n",
      "[300]\tvalid_0's l1: 0.668183\tvalid_0's SMAPE: 5.51466\n",
      "[400]\tvalid_0's l1: 0.666878\tvalid_0's SMAPE: 5.50389\n"
     ]
    },
    {
     "name": "stderr",
     "output_type": "stream",
     "text": [
      "[I 2025-05-31 02:16:45,877] Trial 86 finished with value: 59.36354917420491 and parameters: {'learning_rate': 0.06092236482764284, 'num_leaves': 247, 'max_depth': 6, 'min_child_samples': 24, 'feature_fraction': 0.8559203701560225, 'bagging_fraction': 0.9683009671986091, 'bagging_freq': 4, 'lambda_l1': 2.563466589409917, 'lambda_l2': 5.109317367239228}. Best is trial 85 with value: 59.34486723706745.\n"
     ]
    },
    {
     "name": "stdout",
     "output_type": "stream",
     "text": [
      "[500]\tvalid_0's l1: 0.666516\tvalid_0's SMAPE: 5.50077\n",
      "Early stopping, best iteration is:\n",
      "[459]\tvalid_0's l1: 0.666413\tvalid_0's SMAPE: 5.49991\n",
      "Training until validation scores don't improve for 50 rounds\n",
      "[100]\tvalid_0's l1: 0.680947\tvalid_0's SMAPE: 5.62145\n",
      "[200]\tvalid_0's l1: 0.673111\tvalid_0's SMAPE: 5.55567\n",
      "[300]\tvalid_0's l1: 0.670267\tvalid_0's SMAPE: 5.53197\n",
      "[400]\tvalid_0's l1: 0.668413\tvalid_0's SMAPE: 5.51637\n",
      "[500]\tvalid_0's l1: 0.667587\tvalid_0's SMAPE: 5.50945\n",
      "[600]\tvalid_0's l1: 0.667233\tvalid_0's SMAPE: 5.50653\n",
      "[700]\tvalid_0's l1: 0.666974\tvalid_0's SMAPE: 5.5043\n",
      "Early stopping, best iteration is:\n",
      "[706]\tvalid_0's l1: 0.666958\tvalid_0's SMAPE: 5.50419\n"
     ]
    },
    {
     "name": "stderr",
     "output_type": "stream",
     "text": [
      "[I 2025-05-31 02:16:47,225] Trial 87 finished with value: 59.40429848230278 and parameters: {'learning_rate': 0.050060648724568994, 'num_leaves': 246, 'max_depth': 6, 'min_child_samples': 25, 'feature_fraction': 0.8062904090863307, 'bagging_fraction': 0.9838836538809138, 'bagging_freq': 4, 'lambda_l1': 2.518273100839118, 'lambda_l2': 5.523638526474711}. Best is trial 85 with value: 59.34486723706745.\n"
     ]
    },
    {
     "name": "stdout",
     "output_type": "stream",
     "text": [
      "Training until validation scores don't improve for 50 rounds\n",
      "[100]\tvalid_0's l1: 0.896463\tvalid_0's SMAPE: 7.3853\n",
      "[200]\tvalid_0's l1: 0.866017\tvalid_0's SMAPE: 7.1343\n",
      "[300]\tvalid_0's l1: 0.84009\tvalid_0's SMAPE: 6.92111\n",
      "[400]\tvalid_0's l1: 0.818204\tvalid_0's SMAPE: 6.74158\n",
      "[500]\tvalid_0's l1: 0.799221\tvalid_0's SMAPE: 6.58612\n",
      "[600]\tvalid_0's l1: 0.782953\tvalid_0's SMAPE: 6.45316\n",
      "[700]\tvalid_0's l1: 0.768834\tvalid_0's SMAPE: 6.33785\n",
      "[800]\tvalid_0's l1: 0.756767\tvalid_0's SMAPE: 6.23937\n",
      "[900]\tvalid_0's l1: 0.746389\tvalid_0's SMAPE: 6.15479\n",
      "[1000]\tvalid_0's l1: 0.737759\tvalid_0's SMAPE: 6.08445\n",
      "Did not meet early stopping. Best iteration is:\n",
      "[1000]\tvalid_0's l1: 0.737759\tvalid_0's SMAPE: 6.08445\n"
     ]
    },
    {
     "name": "stderr",
     "output_type": "stream",
     "text": [
      "[I 2025-05-31 02:16:50,171] Trial 88 finished with value: 65.21944622574549 and parameters: {'learning_rate': 0.0010755575554509706, 'num_leaves': 266, 'max_depth': 7, 'min_child_samples': 32, 'feature_fraction': 0.8359944577602814, 'bagging_fraction': 0.968594184168563, 'bagging_freq': 4, 'lambda_l1': 3.3464148235847513, 'lambda_l2': 4.03304088427542}. Best is trial 85 with value: 59.34486723706745.\n"
     ]
    },
    {
     "name": "stdout",
     "output_type": "stream",
     "text": [
      "Training until validation scores don't improve for 50 rounds\n",
      "[100]\tvalid_0's l1: 0.685439\tvalid_0's SMAPE: 5.65874\n",
      "[200]\tvalid_0's l1: 0.673589\tvalid_0's SMAPE: 5.56021\n",
      "[300]\tvalid_0's l1: 0.67066\tvalid_0's SMAPE: 5.53555\n",
      "[400]\tvalid_0's l1: 0.668954\tvalid_0's SMAPE: 5.52123\n",
      "[500]\tvalid_0's l1: 0.667682\tvalid_0's SMAPE: 5.51076\n",
      "[600]\tvalid_0's l1: 0.667256\tvalid_0's SMAPE: 5.50711\n",
      "[700]\tvalid_0's l1: 0.6669\tvalid_0's SMAPE: 5.50413\n",
      "[800]\tvalid_0's l1: 0.666676\tvalid_0's SMAPE: 5.50228\n",
      "[900]\tvalid_0's l1: 0.666465\tvalid_0's SMAPE: 5.50046\n"
     ]
    },
    {
     "name": "stderr",
     "output_type": "stream",
     "text": [
      "[I 2025-05-31 02:16:51,959] Trial 89 finished with value: 59.33920837249724 and parameters: {'learning_rate': 0.03884146730680265, 'num_leaves': 234, 'max_depth': 6, 'min_child_samples': 21, 'feature_fraction': 0.8575366438564239, 'bagging_fraction': 0.9614076491050091, 'bagging_freq': 5, 'lambda_l1': 2.3417981996441535, 'lambda_l2': 5.202139629970659}. Best is trial 89 with value: 59.33920837249724.\n"
     ]
    },
    {
     "name": "stdout",
     "output_type": "stream",
     "text": [
      "[1000]\tvalid_0's l1: 0.666275\tvalid_0's SMAPE: 5.49893\n",
      "Did not meet early stopping. Best iteration is:\n",
      "[1000]\tvalid_0's l1: 0.666275\tvalid_0's SMAPE: 5.49893\n",
      "Training until validation scores don't improve for 50 rounds\n",
      "[100]\tvalid_0's l1: 0.672029\tvalid_0's SMAPE: 5.54664\n",
      "[200]\tvalid_0's l1: 0.667788\tvalid_0's SMAPE: 5.51094\n",
      "[300]\tvalid_0's l1: 0.667155\tvalid_0's SMAPE: 5.50583\n"
     ]
    },
    {
     "name": "stderr",
     "output_type": "stream",
     "text": [
      "[I 2025-05-31 02:16:52,817] Trial 90 finished with value: 59.390969958523776 and parameters: {'learning_rate': 0.07270304303157253, 'num_leaves': 234, 'max_depth': 7, 'min_child_samples': 17, 'feature_fraction': 0.8473679018557994, 'bagging_fraction': 0.9564575257494585, 'bagging_freq': 5, 'lambda_l1': 2.974729518799311, 'lambda_l2': 5.152794194854515}. Best is trial 89 with value: 59.33920837249724.\n"
     ]
    },
    {
     "name": "stdout",
     "output_type": "stream",
     "text": [
      "Early stopping, best iteration is:\n",
      "[335]\tvalid_0's l1: 0.666905\tvalid_0's SMAPE: 5.50362\n",
      "Training until validation scores don't improve for 50 rounds\n",
      "[100]\tvalid_0's l1: 0.684736\tvalid_0's SMAPE: 5.65257\n",
      "[200]\tvalid_0's l1: 0.673678\tvalid_0's SMAPE: 5.5606\n",
      "[300]\tvalid_0's l1: 0.67042\tvalid_0's SMAPE: 5.53325\n",
      "[400]\tvalid_0's l1: 0.668635\tvalid_0's SMAPE: 5.51837\n",
      "[500]\tvalid_0's l1: 0.667508\tvalid_0's SMAPE: 5.50889\n",
      "[600]\tvalid_0's l1: 0.66705\tvalid_0's SMAPE: 5.50512\n",
      "[700]\tvalid_0's l1: 0.666862\tvalid_0's SMAPE: 5.50341\n",
      "[800]\tvalid_0's l1: 0.666552\tvalid_0's SMAPE: 5.50077\n",
      "[900]\tvalid_0's l1: 0.666372\tvalid_0's SMAPE: 5.49925\n"
     ]
    },
    {
     "name": "stderr",
     "output_type": "stream",
     "text": [
      "[I 2025-05-31 02:16:54,632] Trial 91 finished with value: 59.33547807628815 and parameters: {'learning_rate': 0.04085253147300811, 'num_leaves': 247, 'max_depth': 6, 'min_child_samples': 21, 'feature_fraction': 0.8543349215161115, 'bagging_fraction': 0.9862803388784936, 'bagging_freq': 4, 'lambda_l1': 2.4814419169629476, 'lambda_l2': 5.435832604038263}. Best is trial 91 with value: 59.33547807628815.\n"
     ]
    },
    {
     "name": "stdout",
     "output_type": "stream",
     "text": [
      "Early stopping, best iteration is:\n",
      "[911]\tvalid_0's l1: 0.666261\tvalid_0's SMAPE: 5.49833\n",
      "Training until validation scores don't improve for 50 rounds\n",
      "[100]\tvalid_0's l1: 0.68577\tvalid_0's SMAPE: 5.66126\n",
      "[200]\tvalid_0's l1: 0.674102\tvalid_0's SMAPE: 5.56437\n",
      "[300]\tvalid_0's l1: 0.670914\tvalid_0's SMAPE: 5.53756\n",
      "[400]\tvalid_0's l1: 0.669477\tvalid_0's SMAPE: 5.5255\n",
      "[500]\tvalid_0's l1: 0.668107\tvalid_0's SMAPE: 5.51401\n",
      "[600]\tvalid_0's l1: 0.667422\tvalid_0's SMAPE: 5.50841\n",
      "[700]\tvalid_0's l1: 0.666924\tvalid_0's SMAPE: 5.50421\n",
      "[800]\tvalid_0's l1: 0.666778\tvalid_0's SMAPE: 5.50291\n",
      "[900]\tvalid_0's l1: 0.666648\tvalid_0's SMAPE: 5.50186\n"
     ]
    },
    {
     "name": "stderr",
     "output_type": "stream",
     "text": [
      "[I 2025-05-31 02:16:56,350] Trial 92 finished with value: 59.37444712498417 and parameters: {'learning_rate': 0.03956409102945651, 'num_leaves': 256, 'max_depth': 6, 'min_child_samples': 22, 'feature_fraction': 0.8147494100528224, 'bagging_fraction': 0.9846209024447955, 'bagging_freq': 5, 'lambda_l1': 2.3818563467313307, 'lambda_l2': 5.375208127159372}. Best is trial 91 with value: 59.33547807628815.\n"
     ]
    },
    {
     "name": "stdout",
     "output_type": "stream",
     "text": [
      "Early stopping, best iteration is:\n",
      "[935]\tvalid_0's l1: 0.666612\tvalid_0's SMAPE: 5.50153\n",
      "Training until validation scores don't improve for 50 rounds\n",
      "[100]\tvalid_0's l1: 0.686316\tvalid_0's SMAPE: 5.66589\n",
      "[200]\tvalid_0's l1: 0.674411\tvalid_0's SMAPE: 5.56662\n",
      "[300]\tvalid_0's l1: 0.671173\tvalid_0's SMAPE: 5.53944\n",
      "[400]\tvalid_0's l1: 0.669141\tvalid_0's SMAPE: 5.52244\n",
      "[500]\tvalid_0's l1: 0.668082\tvalid_0's SMAPE: 5.5136\n",
      "[600]\tvalid_0's l1: 0.667457\tvalid_0's SMAPE: 5.50837\n",
      "[700]\tvalid_0's l1: 0.666962\tvalid_0's SMAPE: 5.50436\n",
      "[800]\tvalid_0's l1: 0.666674\tvalid_0's SMAPE: 5.50199\n",
      "[900]\tvalid_0's l1: 0.666491\tvalid_0's SMAPE: 5.50053\n"
     ]
    },
    {
     "name": "stderr",
     "output_type": "stream",
     "text": [
      "[I 2025-05-31 02:16:58,174] Trial 93 finished with value: 59.34671471217621 and parameters: {'learning_rate': 0.037983373443885644, 'num_leaves': 254, 'max_depth': 6, 'min_child_samples': 20, 'feature_fraction': 0.8253339041419407, 'bagging_fraction': 0.9847413775456517, 'bagging_freq': 6, 'lambda_l1': 2.1429074834449917, 'lambda_l2': 5.32711326968228}. Best is trial 91 with value: 59.33547807628815.\n"
     ]
    },
    {
     "name": "stdout",
     "output_type": "stream",
     "text": [
      "[1000]\tvalid_0's l1: 0.666376\tvalid_0's SMAPE: 5.4996\n",
      "Did not meet early stopping. Best iteration is:\n",
      "[965]\tvalid_0's l1: 0.66635\tvalid_0's SMAPE: 5.49942\n",
      "Training until validation scores don't improve for 50 rounds\n",
      "[100]\tvalid_0's l1: 0.688635\tvalid_0's SMAPE: 5.68468\n",
      "[200]\tvalid_0's l1: 0.674947\tvalid_0's SMAPE: 5.57136\n",
      "[300]\tvalid_0's l1: 0.671062\tvalid_0's SMAPE: 5.53863\n",
      "[400]\tvalid_0's l1: 0.669125\tvalid_0's SMAPE: 5.52249\n",
      "[500]\tvalid_0's l1: 0.668476\tvalid_0's SMAPE: 5.51698\n",
      "[600]\tvalid_0's l1: 0.667463\tvalid_0's SMAPE: 5.50854\n",
      "[700]\tvalid_0's l1: 0.666961\tvalid_0's SMAPE: 5.50429\n",
      "[800]\tvalid_0's l1: 0.66651\tvalid_0's SMAPE: 5.50075\n",
      "[900]\tvalid_0's l1: 0.66634\tvalid_0's SMAPE: 5.49924\n"
     ]
    },
    {
     "name": "stderr",
     "output_type": "stream",
     "text": [
      "[I 2025-05-31 02:17:00,011] Trial 94 finished with value: 59.3499308185322 and parameters: {'learning_rate': 0.03510709093197114, 'num_leaves': 271, 'max_depth': 6, 'min_child_samples': 25, 'feature_fraction': 0.8770521473138339, 'bagging_fraction': 0.9810971219454613, 'bagging_freq': 6, 'lambda_l1': 2.839302698571258, 'lambda_l2': 4.526016008628266}. Best is trial 91 with value: 59.33547807628815.\n"
     ]
    },
    {
     "name": "stdout",
     "output_type": "stream",
     "text": [
      "[1000]\tvalid_0's l1: 0.666266\tvalid_0's SMAPE: 5.49864\n",
      "Did not meet early stopping. Best iteration is:\n",
      "[990]\tvalid_0's l1: 0.666255\tvalid_0's SMAPE: 5.49855\n",
      "Training until validation scores don't improve for 50 rounds\n",
      "[100]\tvalid_0's l1: 0.678946\tvalid_0's SMAPE: 5.60383\n",
      "[200]\tvalid_0's l1: 0.670388\tvalid_0's SMAPE: 5.53255\n",
      "[300]\tvalid_0's l1: 0.668371\tvalid_0's SMAPE: 5.51592\n",
      "[400]\tvalid_0's l1: 0.667351\tvalid_0's SMAPE: 5.50728\n",
      "[500]\tvalid_0's l1: 0.66702\tvalid_0's SMAPE: 5.50447\n",
      "[600]\tvalid_0's l1: 0.666853\tvalid_0's SMAPE: 5.50305\n"
     ]
    },
    {
     "name": "stderr",
     "output_type": "stream",
     "text": [
      "[I 2025-05-31 02:17:01,393] Trial 95 finished with value: 59.382805928883734 and parameters: {'learning_rate': 0.04143852047721073, 'num_leaves': 273, 'max_depth': 7, 'min_child_samples': 20, 'feature_fraction': 0.8260222230555784, 'bagging_fraction': 0.949065546542556, 'bagging_freq': 6, 'lambda_l1': 2.0596838174346326, 'lambda_l2': 4.456529615273223}. Best is trial 91 with value: 59.33547807628815.\n"
     ]
    },
    {
     "name": "stdout",
     "output_type": "stream",
     "text": [
      "Early stopping, best iteration is:\n",
      "[586]\tvalid_0's l1: 0.666834\tvalid_0's SMAPE: 5.50292\n",
      "Training until validation scores don't improve for 50 rounds\n",
      "[100]\tvalid_0's l1: 0.678992\tvalid_0's SMAPE: 5.60504\n",
      "[200]\tvalid_0's l1: 0.670594\tvalid_0's SMAPE: 5.53469\n",
      "[300]\tvalid_0's l1: 0.66813\tvalid_0's SMAPE: 5.51406\n",
      "[400]\tvalid_0's l1: 0.667138\tvalid_0's SMAPE: 5.50564\n",
      "[500]\tvalid_0's l1: 0.666449\tvalid_0's SMAPE: 5.49991\n",
      "[600]\tvalid_0's l1: 0.666176\tvalid_0's SMAPE: 5.49785\n",
      "Early stopping, best iteration is:\n",
      "[579]\tvalid_0's l1: 0.666129\tvalid_0's SMAPE: 5.49751\n"
     ]
    },
    {
     "name": "stderr",
     "output_type": "stream",
     "text": [
      "[I 2025-05-31 02:17:02,615] Trial 96 finished with value: 59.329516490473665 and parameters: {'learning_rate': 0.05719384321041132, 'num_leaves': 252, 'max_depth': 6, 'min_child_samples': 17, 'feature_fraction': 0.8499381021385577, 'bagging_fraction': 0.9851915351762695, 'bagging_freq': 6, 'lambda_l1': 2.823632491764687, 'lambda_l2': 3.5898437431930152}. Best is trial 96 with value: 59.329516490473665.\n"
     ]
    },
    {
     "name": "stdout",
     "output_type": "stream",
     "text": [
      "Training until validation scores don't improve for 50 rounds\n",
      "[100]\tvalid_0's l1: 0.691231\tvalid_0's SMAPE: 5.705\n",
      "[200]\tvalid_0's l1: 0.67939\tvalid_0's SMAPE: 5.60646\n",
      "[300]\tvalid_0's l1: 0.675053\tvalid_0's SMAPE: 5.57043\n",
      "[400]\tvalid_0's l1: 0.672542\tvalid_0's SMAPE: 5.54966\n",
      "[500]\tvalid_0's l1: 0.671529\tvalid_0's SMAPE: 5.54136\n",
      "[600]\tvalid_0's l1: 0.670637\tvalid_0's SMAPE: 5.53415\n",
      "[700]\tvalid_0's l1: 0.670102\tvalid_0's SMAPE: 5.52963\n",
      "[800]\tvalid_0's l1: 0.669695\tvalid_0's SMAPE: 5.52634\n",
      "[900]\tvalid_0's l1: 0.66947\tvalid_0's SMAPE: 5.52454\n"
     ]
    },
    {
     "name": "stderr",
     "output_type": "stream",
     "text": [
      "[I 2025-05-31 02:17:04,310] Trial 97 finished with value: 59.580645622868786 and parameters: {'learning_rate': 0.03420797151915937, 'num_leaves': 262, 'max_depth': 6, 'min_child_samples': 72, 'feature_fraction': 0.7716213574997314, 'bagging_fraction': 0.9863544647376187, 'bagging_freq': 7, 'lambda_l1': 2.9593197729781036, 'lambda_l2': 3.551534607866049}. Best is trial 96 with value: 59.329516490473665.\n"
     ]
    },
    {
     "name": "stdout",
     "output_type": "stream",
     "text": [
      "[1000]\tvalid_0's l1: 0.669195\tvalid_0's SMAPE: 5.52233\n",
      "Did not meet early stopping. Best iteration is:\n",
      "[974]\tvalid_0's l1: 0.669193\tvalid_0's SMAPE: 5.52234\n",
      "Training until validation scores don't improve for 50 rounds\n",
      "[100]\tvalid_0's l1: 0.680882\tvalid_0's SMAPE: 5.62134\n",
      "[200]\tvalid_0's l1: 0.671762\tvalid_0's SMAPE: 5.54536\n",
      "[300]\tvalid_0's l1: 0.668884\tvalid_0's SMAPE: 5.52088\n",
      "[400]\tvalid_0's l1: 0.667564\tvalid_0's SMAPE: 5.50975\n",
      "[500]\tvalid_0's l1: 0.666832\tvalid_0's SMAPE: 5.50363\n",
      "[600]\tvalid_0's l1: 0.666465\tvalid_0's SMAPE: 5.50034\n",
      "[700]\tvalid_0's l1: 0.666415\tvalid_0's SMAPE: 5.49991\n",
      "Early stopping, best iteration is:\n",
      "[670]\tvalid_0's l1: 0.666325\tvalid_0's SMAPE: 5.49926\n"
     ]
    },
    {
     "name": "stderr",
     "output_type": "stream",
     "text": [
      "[I 2025-05-31 02:17:05,639] Trial 98 finished with value: 59.349044630976955 and parameters: {'learning_rate': 0.04916374963955919, 'num_leaves': 252, 'max_depth': 6, 'min_child_samples': 7, 'feature_fraction': 0.8412956783579443, 'bagging_fraction': 0.9813072338536756, 'bagging_freq': 6, 'lambda_l1': 3.1384832787648276, 'lambda_l2': 3.911758398731756}. Best is trial 96 with value: 59.329516490473665.\n"
     ]
    },
    {
     "name": "stdout",
     "output_type": "stream",
     "text": [
      "Training until validation scores don't improve for 50 rounds\n",
      "[100]\tvalid_0's l1: 0.683364\tvalid_0's SMAPE: 5.64057\n",
      "[200]\tvalid_0's l1: 0.672511\tvalid_0's SMAPE: 5.55072\n",
      "[300]\tvalid_0's l1: 0.669341\tvalid_0's SMAPE: 5.52407\n",
      "[400]\tvalid_0's l1: 0.667868\tvalid_0's SMAPE: 5.51173\n",
      "[500]\tvalid_0's l1: 0.667397\tvalid_0's SMAPE: 5.50772\n",
      "[600]\tvalid_0's l1: 0.666796\tvalid_0's SMAPE: 5.50283\n",
      "[700]\tvalid_0's l1: 0.666528\tvalid_0's SMAPE: 5.50049\n",
      "Early stopping, best iteration is:\n",
      "[734]\tvalid_0's l1: 0.666401\tvalid_0's SMAPE: 5.49942\n"
     ]
    },
    {
     "name": "stderr",
     "output_type": "stream",
     "text": [
      "[I 2025-05-31 02:17:07,452] Trial 99 finished with value: 59.354939926339576 and parameters: {'learning_rate': 0.03468513355301834, 'num_leaves': 290, 'max_depth': 7, 'min_child_samples': 16, 'feature_fraction': 0.7489935498513135, 'bagging_fraction': 0.9804499983574848, 'bagging_freq': 6, 'lambda_l1': 3.193666723157451, 'lambda_l2': 4.089130340685479}. Best is trial 96 with value: 59.329516490473665.\n"
     ]
    },
    {
     "name": "stdout",
     "output_type": "stream",
     "text": [
      "Training until validation scores don't improve for 50 rounds\n",
      "[100]\ttraining's l1: 0.67512\ttraining's SMAPE: 5.5827\tvalid_1's l1: 0.676412\tvalid_1's SMAPE: 5.584\n",
      "[200]\ttraining's l1: 0.664897\ttraining's SMAPE: 5.4986\tvalid_1's l1: 0.670216\tvalid_1's SMAPE: 5.53202\n",
      "[300]\ttraining's l1: 0.659236\ttraining's SMAPE: 5.45217\tvalid_1's l1: 0.668521\tvalid_1's SMAPE: 5.51751\n",
      "[400]\ttraining's l1: 0.655228\ttraining's SMAPE: 5.4194\tvalid_1's l1: 0.667371\tvalid_1's SMAPE: 5.50793\n",
      "[500]\ttraining's l1: 0.652446\ttraining's SMAPE: 5.39709\tvalid_1's l1: 0.667224\tvalid_1's SMAPE: 5.50681\n",
      "Early stopping, best iteration is:\n",
      "[463]\ttraining's l1: 0.65328\ttraining's SMAPE: 5.40371\tvalid_1's l1: 0.667006\tvalid_1's SMAPE: 5.50497\n",
      "MAE: 267448.14\n",
      "SMAPE: 199.97%\n"
     ]
    },
    {
     "data": {
      "image/png": "[encoded data removed]",
      "text/plain": [
       "<Figure size 1000x600 with 1 Axes>"
      ]
     },
     "metadata": {},
     "output_type": "display_data"
    },
    {
     "name": "stdout",
     "output_type": "stream",
     "text": [
      "\n",
      "Top 10 Overpriced Plates:\n",
      "           plate     price          pred\n",
      "19593   K777KK77  22500000  2.046459e+07\n",
      "30168   A117MP77  20000000  1.203388e+07\n",
      "2027   C777AC777   8000000  1.117140e+07\n",
      "29553  E777EM777   2800000  9.880148e+06\n",
      "18318  K777TK777   8000000  1.014379e+07\n",
      "28505  B777OO777  11000000  9.880148e+06\n",
      "37762   C999CC97  30000000  9.919418e+06\n",
      "36802  O777AO777  30000000  8.355773e+06\n",
      "32292   A110MP77  20800000  7.634997e+06\n",
      "4972    O999PO99   5000000  6.800072e+06\n",
      "\n",
      "Error by Region:\n",
      "region_encoded\n",
      "3.215000e+06    47768.206097\n",
      "2.528571e+06    44964.480756\n",
      "5.505588e+05    43734.843904\n",
      "1.572979e+06    39407.883844\n",
      "1.146879e+06    31917.725879\n",
      "                    ...     \n",
      "2.786804e+05    11281.949692\n",
      "2.408043e+05    10648.821232\n",
      "2.562740e+05     9843.193106\n",
      "1.515152e+05     9561.595386\n",
      "2.375000e+05     9334.044643\n",
      "Name: pct_error, Length: 86, dtype: float64\n",
      "\n",
      "Error by Plate Features:\n",
      "three_same_letter: three_same_letter\n",
      "0    17130.795128\n",
      "1    62449.859319\n",
      "Name: pct_error, dtype: float64\n",
      "is_gov: is_gov\n",
      "0     19169.220284\n",
      "1    133497.642519\n",
      "2     90012.342601\n",
      "3    108300.997563\n",
      "4     62454.578046\n",
      "5     97989.305035\n",
      "6    154819.418624\n",
      "8    421390.651546\n",
      "Name: pct_error, dtype: float64\n",
      "unique_char_ratio: unique_char_ratio\n",
      "0.250000    720309.719709\n",
      "0.333333    340252.871540\n",
      "0.375000    215423.793760\n",
      "0.444444     66137.272633\n",
      "0.500000     81830.554397\n",
      "0.555556     25761.676352\n",
      "0.625000     34632.855025\n",
      "0.666667     13577.799138\n",
      "0.750000     21069.469685\n",
      "0.777778      9645.757134\n",
      "0.875000     19073.303502\n",
      "0.888889      7086.920514\n",
      "1.000000     12172.418917\n",
      "Name: pct_error, dtype: float64\n"
     ]
    }
   ],
   "source": [
    "model, test_predictions = train_model(df_train_preprocessed, df_test_preprocessed)"
   ]
  },
  {
   "cell_type": "code",
   "execution_count": 21,
   "id": "74a57282-3aac-442d-b715-1c9b43895947",
   "metadata": {},
   "outputs": [
    {
     "ename": "KeyError",
     "evalue": "'price_bin'",
     "output_type": "error",
     "traceback": [
      "\u001b[1;31m---------------------------------------------------------------------------\u001b[0m",
      "\u001b[1;31mKeyError\u001b[0m                                  Traceback (most recent call last)",
      "File \u001b[1;32mC:\\anaconda\\Lib\\site-packages\\pandas\\core\\indexes\\base.py:3805\u001b[0m, in \u001b[0;36mIndex.get_loc\u001b[1;34m(self, key)\u001b[0m\n\u001b[0;32m   3804\u001b[0m \u001b[38;5;28;01mtry\u001b[39;00m:\n\u001b[1;32m-> 3805\u001b[0m     \u001b[38;5;28;01mreturn\u001b[39;00m \u001b[38;5;28mself\u001b[39m\u001b[38;5;241m.\u001b[39m_engine\u001b[38;5;241m.\u001b[39mget_loc(casted_key)\n\u001b[0;32m   3806\u001b[0m \u001b[38;5;28;01mexcept\u001b[39;00m \u001b[38;5;167;01mKeyError\u001b[39;00m \u001b[38;5;28;01mas\u001b[39;00m err:\n",
      "File \u001b[1;32mindex.pyx:167\u001b[0m, in \u001b[0;36mpandas._libs.index.IndexEngine.get_loc\u001b[1;34m()\u001b[0m\n",
      "File \u001b[1;32mindex.pyx:196\u001b[0m, in \u001b[0;36mpandas._libs.index.IndexEngine.get_loc\u001b[1;34m()\u001b[0m\n",
      "File \u001b[1;32mpandas\\\\_libs\\\\hashtable_class_helper.pxi:7081\u001b[0m, in \u001b[0;36mpandas._libs.hashtable.PyObjectHashTable.get_item\u001b[1;34m()\u001b[0m\n",
      "File \u001b[1;32mpandas\\\\_libs\\\\hashtable_class_helper.pxi:7089\u001b[0m, in \u001b[0;36mpandas._libs.hashtable.PyObjectHashTable.get_item\u001b[1;34m()\u001b[0m\n",
      "\u001b[1;31mKeyError\u001b[0m: 'price_bin'",
      "\nThe above exception was the direct cause of the following exception:\n",
      "\u001b[1;31mKeyError\u001b[0m                                  Traceback (most recent call last)",
      "Cell \u001b[1;32mIn[21], line 199\u001b[0m\n\u001b[0;32m    193\u001b[0m     \u001b[38;5;28;01mreturn\u001b[39;00m model, \u001b[38;5;28;01mNone\u001b[39;00m, best_adj\n\u001b[0;32m    195\u001b[0m \u001b[38;5;66;03m# Keep all your other existing functions exactly the same:\u001b[39;00m\n\u001b[0;32m    196\u001b[0m \u001b[38;5;66;03m# preprocess_data(), smape(), smape_metric(), analyze_errors(), extract_plate_features()\u001b[39;00m\n\u001b[0;32m    197\u001b[0m \n\u001b[0;32m    198\u001b[0m \u001b[38;5;66;03m# Example usage:\u001b[39;00m\n\u001b[1;32m--> 199\u001b[0m model, test_preds, adj_factor \u001b[38;5;241m=\u001b[39m train_model(df_train_preprocessed, df_test_preprocessed, use_optuna\u001b[38;5;241m=\u001b[39m\u001b[38;5;28;01mTrue\u001b[39;00m)\n",
      "Cell \u001b[1;32mIn[21], line 104\u001b[0m, in \u001b[0;36mtrain_model\u001b[1;34m(df_train_preprocessed, df_test_preprocessed, use_optuna, n_trials)\u001b[0m\n\u001b[0;32m    101\u001b[0m \u001b[38;5;66;03m# Split data\u001b[39;00m\n\u001b[0;32m    102\u001b[0m X \u001b[38;5;241m=\u001b[39m df\u001b[38;5;241m.\u001b[39mdrop(columns\u001b[38;5;241m=\u001b[39m[\u001b[38;5;124m'\u001b[39m\u001b[38;5;124mplate\u001b[39m\u001b[38;5;124m'\u001b[39m, \u001b[38;5;124m'\u001b[39m\u001b[38;5;124mprice\u001b[39m\u001b[38;5;124m'\u001b[39m])\n\u001b[0;32m    103\u001b[0m X_train, X_val_orig, y_train, y_val \u001b[38;5;241m=\u001b[39m train_test_split(\n\u001b[1;32m--> 104\u001b[0m     X, y, test_size\u001b[38;5;241m=\u001b[39m\u001b[38;5;241m0.2\u001b[39m, stratify\u001b[38;5;241m=\u001b[39mdf[\u001b[38;5;124m'\u001b[39m\u001b[38;5;124mprice_bin\u001b[39m\u001b[38;5;124m'\u001b[39m], random_state\u001b[38;5;241m=\u001b[39m\u001b[38;5;241m42\u001b[39m\n\u001b[0;32m    105\u001b[0m )\n\u001b[0;32m    106\u001b[0m X_val \u001b[38;5;241m=\u001b[39m X_val_orig\u001b[38;5;241m.\u001b[39mdrop(columns\u001b[38;5;241m=\u001b[39m[\u001b[38;5;124m'\u001b[39m\u001b[38;5;124mplate\u001b[39m\u001b[38;5;124m'\u001b[39m, \u001b[38;5;124m'\u001b[39m\u001b[38;5;124mprice\u001b[39m\u001b[38;5;124m'\u001b[39m])\n\u001b[0;32m    108\u001b[0m \u001b[38;5;66;03m# Scale features\u001b[39;00m\n",
      "File \u001b[1;32mC:\\anaconda\\Lib\\site-packages\\pandas\\core\\frame.py:4102\u001b[0m, in \u001b[0;36mDataFrame.__getitem__\u001b[1;34m(self, key)\u001b[0m\n\u001b[0;32m   4100\u001b[0m \u001b[38;5;28;01mif\u001b[39;00m \u001b[38;5;28mself\u001b[39m\u001b[38;5;241m.\u001b[39mcolumns\u001b[38;5;241m.\u001b[39mnlevels \u001b[38;5;241m>\u001b[39m \u001b[38;5;241m1\u001b[39m:\n\u001b[0;32m   4101\u001b[0m     \u001b[38;5;28;01mreturn\u001b[39;00m \u001b[38;5;28mself\u001b[39m\u001b[38;5;241m.\u001b[39m_getitem_multilevel(key)\n\u001b[1;32m-> 4102\u001b[0m indexer \u001b[38;5;241m=\u001b[39m \u001b[38;5;28mself\u001b[39m\u001b[38;5;241m.\u001b[39mcolumns\u001b[38;5;241m.\u001b[39mget_loc(key)\n\u001b[0;32m   4103\u001b[0m \u001b[38;5;28;01mif\u001b[39;00m is_integer(indexer):\n\u001b[0;32m   4104\u001b[0m     indexer \u001b[38;5;241m=\u001b[39m [indexer]\n",
      "File \u001b[1;32mC:\\anaconda\\Lib\\site-packages\\pandas\\core\\indexes\\base.py:3812\u001b[0m, in \u001b[0;36mIndex.get_loc\u001b[1;34m(self, key)\u001b[0m\n\u001b[0;32m   3807\u001b[0m     \u001b[38;5;28;01mif\u001b[39;00m \u001b[38;5;28misinstance\u001b[39m(casted_key, \u001b[38;5;28mslice\u001b[39m) \u001b[38;5;129;01mor\u001b[39;00m (\n\u001b[0;32m   3808\u001b[0m         \u001b[38;5;28misinstance\u001b[39m(casted_key, abc\u001b[38;5;241m.\u001b[39mIterable)\n\u001b[0;32m   3809\u001b[0m         \u001b[38;5;129;01mand\u001b[39;00m \u001b[38;5;28many\u001b[39m(\u001b[38;5;28misinstance\u001b[39m(x, \u001b[38;5;28mslice\u001b[39m) \u001b[38;5;28;01mfor\u001b[39;00m x \u001b[38;5;129;01min\u001b[39;00m casted_key)\n\u001b[0;32m   3810\u001b[0m     ):\n\u001b[0;32m   3811\u001b[0m         \u001b[38;5;28;01mraise\u001b[39;00m InvalidIndexError(key)\n\u001b[1;32m-> 3812\u001b[0m     \u001b[38;5;28;01mraise\u001b[39;00m \u001b[38;5;167;01mKeyError\u001b[39;00m(key) \u001b[38;5;28;01mfrom\u001b[39;00m \u001b[38;5;21;01merr\u001b[39;00m\n\u001b[0;32m   3813\u001b[0m \u001b[38;5;28;01mexcept\u001b[39;00m \u001b[38;5;167;01mTypeError\u001b[39;00m:\n\u001b[0;32m   3814\u001b[0m     \u001b[38;5;66;03m# If we have a listlike key, _check_indexing_error will raise\u001b[39;00m\n\u001b[0;32m   3815\u001b[0m     \u001b[38;5;66;03m#  InvalidIndexError. Otherwise we fall through and re-raise\u001b[39;00m\n\u001b[0;32m   3816\u001b[0m     \u001b[38;5;66;03m#  the TypeError.\u001b[39;00m\n\u001b[0;32m   3817\u001b[0m     \u001b[38;5;28mself\u001b[39m\u001b[38;5;241m.\u001b[39m_check_indexing_error(key)\n",
      "\u001b[1;31mKeyError\u001b[0m: 'price_bin'"
     ]
    }
   ],
   "source": [
    "import optuna\n",
    "from functools import partial\n",
    "from scipy.optimize import fsolve\n",
    "import numpy as np\n",
    "import lightgbm as lgb\n",
    "import pandas as pd\n",
    "from sklearn.model_selection import train_test_split\n",
    "from sklearn.preprocessing import StandardScaler\n",
    "from scipy.stats import entropy\n",
    "from collections import Counter\n",
    "import re\n",
    "import matplotlib.pyplot as plt\n",
    "from sklearn.metrics import mean_absolute_error\n",
    "\n",
    "# Keep all your existing constants (REGION_CODES, GOVERNMENT_CODES) here\n",
    "\n",
    "def inverse_blend(z, price_cap):\n",
    "    \"\"\"Numerically solve for y_capped given model output z\"\"\"\n",
    "    def equation(y):\n",
    "        return 0.7 * np.log1p(y) + 0.3 * np.sqrt(y) - z\n",
    "    \n",
    "    # Safer initial guess\n",
    "    y_guess = np.minimum(np.expm1(z / 0.7), price_cap * 2)\n",
    "    \n",
    "    try:\n",
    "        y_capped = fsolve(equation, y_guess, xtol=1e-6)[0]\n",
    "        y_capped = np.clip(y_capped, 0, price_cap)\n",
    "    except:\n",
    "        # Fallback approximation\n",
    "        y_capped = np.expm1(z / 0.7)\n",
    "        y_capped = np.clip(y_capped, 0, price_cap)\n",
    "    \n",
    "    return y_capped\n",
    "\n",
    "# Vectorized version\n",
    "inverse_blend_vec = np.vectorize(inverse_blend)\n",
    "\n",
    "def optimize_smape_cutoff(y_true, y_pred):\n",
    "    \"\"\"Find optimal constant adjustment to minimize SMAPE\"\"\"\n",
    "    best_smape = float('inf')\n",
    "    best_adj = 1.0\n",
    "    for adj in np.linspace(0.8, 1.2, 41):\n",
    "        adj_pred = y_pred * adj\n",
    "        smape_val = smape(y_true, adj_pred)\n",
    "        if smape_val < best_smape:\n",
    "            best_smape = smape_val\n",
    "            best_adj = adj\n",
    "    return best_adj\n",
    "\n",
    "def objective(trial, X_train, y_train, X_val, y_val, price_cap):\n",
    "    \"\"\"Optuna objective function to minimize SMAPE\"\"\"\n",
    "    params = {\n",
    "        'objective': 'regression',\n",
    "        'metric': 'mae',\n",
    "        'verbosity': -1,\n",
    "        'boosting_type': 'gbdt',\n",
    "        'learning_rate': trial.suggest_float('learning_rate', 1e-3, 0.1, log=True),\n",
    "        'num_leaves': trial.suggest_int('num_leaves', 20, 300),\n",
    "        'max_depth': trial.suggest_int('max_depth', 3, 12),\n",
    "        'min_child_samples': trial.suggest_int('min_child_samples', 5, 100),\n",
    "        'feature_fraction': trial.suggest_float('feature_fraction', 0.5, 1.0),\n",
    "        'bagging_fraction': trial.suggest_float('bagging_fraction', 0.5, 1.0),\n",
    "        'bagging_freq': trial.suggest_int('bagging_freq', 0, 10),\n",
    "        'lambda_l1': trial.suggest_float('lambda_l1', 0, 10),\n",
    "        'lambda_l2': trial.suggest_float('lambda_l2', 0, 10),\n",
    "        'seed': 42\n",
    "    }\n",
    "\n",
    "    train_data = lgb.Dataset(X_train, label=y_train)\n",
    "    val_data = lgb.Dataset(X_val, label=y_val, reference=train_data)\n",
    "\n",
    "    model = lgb.train(\n",
    "        params,\n",
    "        train_data,\n",
    "        valid_sets=[val_data],\n",
    "        num_boost_round=1000,\n",
    "        callbacks=[\n",
    "            lgb.early_stopping(stopping_rounds=50),\n",
    "            lgb.log_evaluation(period=100)\n",
    "        ],\n",
    "        feval=smape_metric\n",
    "    )\n",
    "\n",
    "    # Get predictions and convert back to original scale\n",
    "    y_pred = inverse_blend_vec(model.predict(X_val), price_cap)\n",
    "    y_val_orig = inverse_blend_vec(y_val, price_cap)\n",
    "    \n",
    "    return smape(y_val_orig, y_pred)\n",
    "\n",
    "def train_model(df_train_preprocessed, df_test_preprocessed=None, use_optuna=True, n_trials=50):\n",
    "    df = df_train_preprocessed.copy()\n",
    "    df = df.drop_duplicates(subset='plate', keep='first')\n",
    "\n",
    "    # Prepare target transformation\n",
    "    price_cap = df['price'].quantile(0.99)\n",
    "    df['price_capped'] = df['price'].clip(upper=price_cap)\n",
    "    df['log_price'] = np.log1p(df['price_capped'])\n",
    "    df['sqrt_price'] = np.sqrt(df['price_capped'])\n",
    "    y = 0.7 * df['log_price'] + 0.3 * df['sqrt_price']\n",
    "\n",
    "    # Split data\n",
    "    X = df.drop(columns=['plate', 'price'])\n",
    "    X_train, X_val_orig, y_train, y_val = train_test_split(\n",
    "        X, y, test_size=0.2, stratify=df['price_bin'], random_state=42\n",
    "    )\n",
    "    X_val = X_val_orig.drop(columns=['plate', 'price'])\n",
    "\n",
    "    # Scale features\n",
    "    scaler = StandardScaler()\n",
    "    if 'region_encoded' in X_train.columns:\n",
    "        X_train['region_encoded'] = scaler.fit_transform(X_train[['region_encoded']])\n",
    "        X_val['region_encoded'] = scaler.transform(X_val[['region_encoded']])\n",
    "\n",
    "    if use_optuna:\n",
    "        # Run Optuna optimization\n",
    "        study = optuna.create_study(direction='minimize')\n",
    "        objective_func = partial(\n",
    "            objective,\n",
    "            X_train=X_train,\n",
    "            y_train=y_train,\n",
    "            X_val=X_val,\n",
    "            y_val=y_val,\n",
    "            price_cap=price_cap\n",
    "        )\n",
    "        study.optimize(objective_func, n_trials=n_trials)\n",
    "        \n",
    "        # Get best params\n",
    "        params = study.best_params\n",
    "        params.update({\n",
    "            'objective': 'regression',\n",
    "            'metric': 'mae',\n",
    "            'verbosity': -1,\n",
    "            'seed': 42\n",
    "        })\n",
    "    else:\n",
    "        params = {\n",
    "            'objective': 'regression',\n",
    "            'metric': 'mae',\n",
    "            'verbosity': -1,\n",
    "            'boosting_type': 'gbdt',\n",
    "            'learning_rate': 0.05,\n",
    "            'num_leaves': 31,\n",
    "            'max_depth': -1,\n",
    "            'seed': 42\n",
    "        }\n",
    "\n",
    "    # Train final model\n",
    "    train_data = lgb.Dataset(X_train, label=y_train)\n",
    "    val_data = lgb.Dataset(X_val, label=y_val, reference=train_data)\n",
    "\n",
    "    model = lgb.train(\n",
    "        params,\n",
    "        train_data,\n",
    "        valid_sets=[train_data, val_data],\n",
    "        num_boost_round=1000,\n",
    "        callbacks=[\n",
    "            lgb.early_stopping(stopping_rounds=50),\n",
    "            lgb.log_evaluation(period=100)\n",
    "        ],\n",
    "        feval=smape_metric\n",
    "    )\n",
    "\n",
    "    # Evaluate\n",
    "    y_pred = inverse_blend_vec(model.predict(X_val), price_cap)\n",
    "    y_val_orig = inverse_blend_vec(y_val, price_cap)\n",
    "    \n",
    "    mae = mean_absolute_error(y_val_orig, y_pred)\n",
    "    smape_score = smape(y_val_orig, y_pred)\n",
    "\n",
    "    print(f\"MAE: {mae:.2f}\")\n",
    "    print(f\"SMAPE: {smape_score:.2f}%\")\n",
    "\n",
    "    # Apply optimal adjustment\n",
    "    best_adj = optimize_smape_cutoff(y_val_orig, y_pred)\n",
    "    y_pred_adj = y_pred * best_adj\n",
    "    adj_smape = smape(y_val_orig, y_pred_adj)\n",
    "    print(f\"Adjusted SMAPE: {adj_smape:.2f}% (adjustment factor: {best_adj:.3f})\")\n",
    "\n",
    "    # Feature importance\n",
    "    lgb.plot_importance(model, max_num_features=20, importance_type='gain', figsize=(10, 6))\n",
    "    plt.title(\"Feature Importance (Gain)\")\n",
    "    plt.show()\n",
    "\n",
    "    # Error analysis\n",
    "    analyze_errors(X_val_orig, y_val_orig, y_pred_adj)\n",
    "    \n",
    "    if df_test_preprocessed is not None:\n",
    "        df_test = df_test_preprocessed.copy()\n",
    "        df_test = df_test.drop(columns=['plate', 'price'], errors='ignore')\n",
    "        test_preds = inverse_blend_vec(model.predict(df_test), price_cap) * best_adj\n",
    "        return model, test_preds, best_adj\n",
    "\n",
    "    return model, None, best_adj\n",
    "\n",
    "# Keep all your other existing functions exactly the same:\n",
    "# preprocess_data(), smape(), smape_metric(), analyze_errors(), extract_plate_features()\n",
    "\n",
    "# Example usage:\n",
    "model, test_preds, adj_factor = train_model(df_train_preprocessed, df_test_preprocessed, use_optuna=True)"
   ]
  },
  {
   "cell_type": "code",
   "execution_count": 36,
   "id": "77bd4b28-82d8-4df6-b9b6-95912588c4f5",
   "metadata": {},
   "outputs": [],
   "source": [
    "pd.DataFrame({'id': df_test['id'], 'price': test_predictions}).to_csv(\"sub.csv\", index=False)\n"
   ]
  },
  {
   "cell_type": "code",
   "execution_count": 90,
   "id": "16799995-2eb9-4e9a-ab6d-b32457480564",
   "metadata": {},
   "outputs": [
    {
     "data": {
      "text/html": [
       "<div>\n",
       "<style scoped>\n",
       "    .dataframe tbody tr th:only-of-type {\n",
       "        vertical-align: middle;\n",
       "    }\n",
       "\n",
       "    .dataframe tbody tr th {\n",
       "        vertical-align: top;\n",
       "    }\n",
       "\n",
       "    .dataframe thead th {\n",
       "        text-align: right;\n",
       "    }\n",
       "</style>\n",
       "<table border=\"1\" class=\"dataframe\">\n",
       "  <thead>\n",
       "    <tr style=\"text-align: right;\">\n",
       "      <th></th>\n",
       "      <th>id</th>\n",
       "      <th>price</th>\n",
       "    </tr>\n",
       "  </thead>\n",
       "  <tbody>\n",
       "    <tr>\n",
       "      <th>0</th>\n",
       "      <td>51636</td>\n",
       "      <td>1.158430e+05</td>\n",
       "    </tr>\n",
       "    <tr>\n",
       "      <th>1</th>\n",
       "      <td>51637</td>\n",
       "      <td>6.861100e+04</td>\n",
       "    </tr>\n",
       "    <tr>\n",
       "      <th>2</th>\n",
       "      <td>51638</td>\n",
       "      <td>5.687870e+05</td>\n",
       "    </tr>\n",
       "    <tr>\n",
       "      <th>3</th>\n",
       "      <td>51639</td>\n",
       "      <td>1.410764e+05</td>\n",
       "    </tr>\n",
       "    <tr>\n",
       "      <th>4</th>\n",
       "      <td>51640</td>\n",
       "      <td>1.913915e+05</td>\n",
       "    </tr>\n",
       "    <tr>\n",
       "      <th>...</th>\n",
       "      <td>...</td>\n",
       "      <td>...</td>\n",
       "    </tr>\n",
       "    <tr>\n",
       "      <th>7690</th>\n",
       "      <td>59326</td>\n",
       "      <td>4.809895e+05</td>\n",
       "    </tr>\n",
       "    <tr>\n",
       "      <th>7691</th>\n",
       "      <td>59327</td>\n",
       "      <td>3.099467e+05</td>\n",
       "    </tr>\n",
       "    <tr>\n",
       "      <th>7692</th>\n",
       "      <td>59328</td>\n",
       "      <td>1.857432e+05</td>\n",
       "    </tr>\n",
       "    <tr>\n",
       "      <th>7693</th>\n",
       "      <td>59329</td>\n",
       "      <td>1.608432e+06</td>\n",
       "    </tr>\n",
       "    <tr>\n",
       "      <th>7694</th>\n",
       "      <td>59330</td>\n",
       "      <td>1.589669e+05</td>\n",
       "    </tr>\n",
       "  </tbody>\n",
       "</table>\n",
       "<p>7695 rows × 2 columns</p>\n",
       "</div>"
      ],
      "text/plain": [
       "         id         price\n",
       "0     51636  1.158430e+05\n",
       "1     51637  6.861100e+04\n",
       "2     51638  5.687870e+05\n",
       "3     51639  1.410764e+05\n",
       "4     51640  1.913915e+05\n",
       "...     ...           ...\n",
       "7690  59326  4.809895e+05\n",
       "7691  59327  3.099467e+05\n",
       "7692  59328  1.857432e+05\n",
       "7693  59329  1.608432e+06\n",
       "7694  59330  1.589669e+05\n",
       "\n",
       "[7695 rows x 2 columns]"
      ]
     },
     "execution_count": 90,
     "metadata": {},
     "output_type": "execute_result"
    }
   ],
   "source": [
    "pd.DataFrame({'id': df_test['id'], 'price': test_predictions})"
   ]
  },
  {
   "cell_type": "code",
   "execution_count": null,
   "id": "44d58f75-73d2-4086-8cc3-cab07c5222b5",
   "metadata": {},
   "outputs": [],
   "source": []
  }
 ],
 "metadata": {
  "kernelspec": {
   "display_name": "Python 3 (ipykernel)",
   "language": "python",
   "name": "python3"
  },
  "language_info": {
   "codemirror_mode": {
    "name": "ipython",
    "version": 3
   },
   "file_extension": ".py",
   "mimetype": "text/x-python",
   "name": "python",
   "nbconvert_exporter": "python",
   "pygments_lexer": "ipython3",
   "version": "3.12.4"
  }
 },
 "nbformat": 4,
 "nbformat_minor": 5
}
